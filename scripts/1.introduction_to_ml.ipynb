{
 "cells": [
  {
   "cell_type": "raw",
   "id": "dominican-inclusion",
   "metadata": {},
   "source": [
    "---\n",
    "title: \"Introduction to Machine Learning for predictions\"\n",
    "author: \"Filippo Biscarini\"\n",
    "date: \"18/03/2021\"\n",
    "output: html_document\n",
    "---"
   ]
  },
  {
   "cell_type": "code",
   "execution_count": 3,
   "id": "fresh-curtis",
   "metadata": {
    "name": "setup",
    "tags": [
     "remove_cell"
    ]
   },
   "outputs": [
    {
     "name": "stderr",
     "output_type": "stream",
     "text": [
      "\n",
      "Attaching package: ‘dplyr’\n",
      "\n",
      "\n",
      "The following objects are masked from ‘package:stats’:\n",
      "\n",
      "    filter, lag\n",
      "\n",
      "\n",
      "The following objects are masked from ‘package:base’:\n",
      "\n",
      "    intersect, setdiff, setequal, union\n",
      "\n",
      "\n",
      "Loading required package: ggplot2\n",
      "\n",
      "\n",
      "Attaching package: ‘plotly’\n",
      "\n",
      "\n",
      "The following object is masked from ‘package:ggplot2’:\n",
      "\n",
      "    last_plot\n",
      "\n",
      "\n",
      "The following object is masked from ‘package:stats’:\n",
      "\n",
      "    filter\n",
      "\n",
      "\n",
      "The following object is masked from ‘package:graphics’:\n",
      "\n",
      "    layout\n",
      "\n",
      "\n",
      "── \u001b[1mAttaching packages\u001b[22m ────────────────────────────────────────────────────────────────────────────────────────────────────────────────────────────────────────────────────────────────────────── tidyverse 1.3.1 ──\n",
      "\n",
      "\u001b[32m✔\u001b[39m \u001b[34mtibble \u001b[39m 3.1.6     \u001b[32m✔\u001b[39m \u001b[34mpurrr  \u001b[39m 0.3.4\n",
      "\u001b[32m✔\u001b[39m \u001b[34mtidyr  \u001b[39m 1.1.3     \u001b[32m✔\u001b[39m \u001b[34mstringr\u001b[39m 1.4.0\n",
      "\u001b[32m✔\u001b[39m \u001b[34mreadr  \u001b[39m 2.1.2     \u001b[32m✔\u001b[39m \u001b[34mforcats\u001b[39m 0.5.1\n",
      "\n",
      "── \u001b[1mConflicts\u001b[22m ───────────────────────────────────────────────────────────────────────────────────────────────────────────────────────────────────────────────────────────────────────────── tidyverse_conflicts() ──\n",
      "\u001b[31m✖\u001b[39m \u001b[34mplotly\u001b[39m::\u001b[32mfilter()\u001b[39m masks \u001b[34mdplyr\u001b[39m::filter(), \u001b[34mstats\u001b[39m::filter()\n",
      "\u001b[31m✖\u001b[39m \u001b[34mdplyr\u001b[39m::\u001b[32mlag()\u001b[39m     masks \u001b[34mstats\u001b[39m::lag()\n",
      "\n"
     ]
    }
   ],
   "source": [
    "knitr::opts_chunk$set(echo = TRUE)\n",
    "library(\"knitr\")\n",
    "library(\"dplyr\")\n",
    "library(\"plotly\")\n",
    "library(\"ggplot2\")\n",
    "library(\"tidyverse\")"
   ]
  },
  {
   "cell_type": "markdown",
   "id": "secure-survey",
   "metadata": {},
   "source": [
    "## 1.1 Linear regression: a basic model for parameter estimation\n",
    "\n",
    "Here we look more in detail to how the estimation of model parameters works. <br> We have a generating model of the following form:\n",
    "\n",
    "$$\n",
    "y = 1.25 \\cdot x\n",
    "$$\n",
    "\n",
    "The **true** $\\theta$ (model parameter: slope) is therefore $1.25$"
   ]
  },
  {
   "cell_type": "code",
   "execution_count": 1,
   "id": "greenhouse-tomorrow",
   "metadata": {
    "name": "lin_reg"
   },
   "outputs": [],
   "source": [
    "lin_reg <- function(x) 1.25*x"
   ]
  },
  {
   "cell_type": "code",
   "execution_count": 4,
   "id": "hungarian-mississippi",
   "metadata": {
    "lines_to_next_cell": 2
   },
   "outputs": [
    {
     "name": "stdout",
     "output_type": "stream",
     "text": [
      "[1] \"y as function of x=1 in the model above: 1.25\"\n"
     ]
    },
    {
     "data": {
      "text/plain": [
       "\n",
       "\n",
       "|    x|      y|\n",
       "|----:|------:|\n",
       "| -5.0| -6.250|\n",
       "| -4.5| -5.625|\n",
       "| -4.0| -5.000|\n",
       "| -3.5| -4.375|\n",
       "| -3.0| -3.750|\n",
       "| -2.5| -3.125|\n",
       "| -2.0| -2.500|\n",
       "| -1.5| -1.875|\n",
       "| -1.0| -1.250|\n",
       "| -0.5| -0.625|\n",
       "|  0.0|  0.000|\n",
       "|  0.5|  0.625|\n",
       "|  1.0|  1.250|\n",
       "|  1.5|  1.875|\n",
       "|  2.0|  2.500|\n",
       "|  2.5|  3.125|\n",
       "|  3.0|  3.750|\n",
       "|  3.5|  4.375|\n",
       "|  4.0|  5.000|\n",
       "|  4.5|  5.625|\n",
       "|  5.0|  6.250|"
      ]
     },
     "metadata": {},
     "output_type": "display_data"
    }
   ],
   "source": [
    "x = 1\n",
    "y = lin_reg(x)\n",
    "print(paste(\"y as function of x=1 in the model above:\",y))\n",
    "\n",
    "## now apply the function to a bunch of data\n",
    "x = seq(-5,+5,0.5) ## independent variable\n",
    "y = lin_reg(x) ## dependent variable\n",
    "\n",
    "kable(data.frame(\"x\" = x, \"y\" = y))"
   ]
  },
  {
   "cell_type": "code",
   "execution_count": 5,
   "id": "posted-monday",
   "metadata": {
    "tags": [
     "remove_input"
    ]
   },
   "outputs": [
    {
     "data": {
      "image/png": "[encoded data removed]",
      "text/plain": [
       "plot without title"
      ]
     },
     "metadata": {
      "image/png": {
       "height": 420,
       "width": 420
      }
     },
     "output_type": "display_data"
    }
   ],
   "source": [
    "p <- ggplot(data = data.frame(x = 0), mapping = aes(x = x))\n",
    "p <- p + stat_function(fun = lin_reg) + xlim(-5,6)\n",
    "p <- p + theme(axis.title.y = element_text(angle=0, vjust = 0.5))\n",
    "p"
   ]
  },
  {
   "cell_type": "markdown",
   "id": "duplicate-bullet",
   "metadata": {},
   "source": [
    "### The loss function\n",
    "\n",
    "For linear regression (simple or multiple, as long as $n > p$), the least squares method can be used, where the residual sum of squares is minimised through differentiation of vector and matrix expressions (linear algebra $\\rightarrow$ *normal equations*).\n",
    "\n",
    "However, from the perspective of machine learning a different approach is taken. First, a **loss function** is chosen: a common choice for (multiple) linear regression is the **normalised squared error function**:"
   ]
  },
  {
   "cell_type": "code",
   "execution_count": 6,
   "id": "worth-karma",
   "metadata": {},
   "outputs": [],
   "source": [
    "loss_function <- function(x,beta) {\n",
    "  \n",
    "  n = length(x)\n",
    "  y = lin_reg(x)\n",
    "  normalised_squared_error = sum((y - beta*x)^2)/(2*n)\n",
    "  \n",
    "  return(normalised_squared_error)\n",
    "}"
   ]
  },
  {
   "cell_type": "markdown",
   "id": "minimal-national",
   "metadata": {},
   "source": [
    "We then calculate the loss function for different values of the parameter(s) to estimate.\n",
    "We take 11 datapoints (from 0 to 10) for our linear regression model and try different values for beta:"
   ]
  },
  {
   "cell_type": "code",
   "execution_count": 9,
   "id": "metallic-rally",
   "metadata": {},
   "outputs": [
    {
     "name": "stdout",
     "output_type": "stream",
     "text": [
      "       x beta       loss\n",
      "1   0.00 0.25 16.8750000\n",
      "2   0.25 0.30 15.2296875\n",
      "3   0.50 0.35 13.6687500\n",
      "4   0.75 0.40 12.1921875\n",
      "5   1.00 0.45 10.8000000\n",
      "6   1.25 0.50  9.4921875\n",
      "7   1.50 0.55  8.2687500\n",
      "8   1.75 0.60  7.1296875\n",
      "9   2.00 0.65  6.0750000\n",
      "10  2.25 0.70  5.1046875\n",
      "11  2.50 0.75  4.2187500\n",
      "12  2.75 0.80  3.4171875\n",
      "13  3.00 0.85  2.7000000\n",
      "14  3.25 0.90  2.0671875\n",
      "15  3.50 0.95  1.5187500\n",
      "16  3.75 1.00  1.0546875\n",
      "17  4.00 1.05  0.6750000\n",
      "18  4.25 1.10  0.3796875\n",
      "19  4.50 1.15  0.1687500\n",
      "20  4.75 1.20  0.0421875\n",
      "21  5.00 1.25  0.0000000\n",
      "22  5.25 1.30  0.0421875\n",
      "23  5.50 1.35  0.1687500\n",
      "24  5.75 1.40  0.3796875\n",
      "25  6.00 1.45  0.6750000\n",
      "26  6.25 1.50  1.0546875\n",
      "27  6.50 1.55  1.5187500\n",
      "28  6.75 1.60  2.0671875\n",
      "29  7.00 1.65  2.7000000\n",
      "30  7.25 1.70  3.4171875\n",
      "31  7.50 1.75  4.2187500\n",
      "32  7.75 1.80  5.1046875\n",
      "33  8.00 1.85  6.0750000\n",
      "34  8.25 1.90  7.1296875\n",
      "35  8.50 1.95  8.2687500\n",
      "36  8.75 2.00  9.4921875\n",
      "37  9.00 2.05 10.8000000\n",
      "38  9.25 2.10 12.1921875\n",
      "39  9.50 2.15 13.6687500\n",
      "40  9.75 2.20 15.2296875\n",
      "41 10.00 2.25 16.8750000\n"
     ]
    }
   ],
   "source": [
    "x <- seq(0,10,0.25)\n",
    "beta <- seq(0.25,2.25,0.05)\n",
    "\n",
    "cost <- sapply(beta, function(z) loss_function(x,z))\n",
    "res <- data.frame(\"x\" = x, \"beta\" = beta, \"loss\" = cost)\n",
    "beta_min = res[which.min(res$loss),\"beta\"]\n",
    "print(res)"
   ]
  },
  {
   "cell_type": "code",
   "execution_count": 10,
   "id": "rolled-ownership",
   "metadata": {},
   "outputs": [
    {
     "name": "stdout",
     "output_type": "stream",
     "text": [
      "[1] \"parameter value for which the cost function is minimised: 1.25\"\n"
     ]
    }
   ],
   "source": [
    "print(paste(\"parameter value for which the cost function is minimised:\", beta_min))"
   ]
  },
  {
   "cell_type": "code",
   "execution_count": 11,
   "id": "economic-documentation",
   "metadata": {
    "lines_to_next_cell": 2,
    "name": "pressure",
    "tags": [
     "remove_input"
    ]
   },
   "outputs": [
    {
     "data": {
      "image/png": "[encoded data removed]",
      "text/plain": [
       "plot without title"
      ]
     },
     "metadata": {
      "image/png": {
       "height": 420,
       "width": 420
      }
     },
     "output_type": "display_data"
    }
   ],
   "source": [
    "plot(beta,cost, type=\"l\",xlab = \"Values for parameter beta\", ylab = \"Value for loss function\")"
   ]
  },
  {
   "cell_type": "markdown",
   "id": "smaller-subcommittee",
   "metadata": {},
   "source": [
    "Note: sometimes the term **loss function** is used to define the individual loss (each single record, i.e. $(y_i-\\hat{y_i})^2$) and the term **cost function** is used for the summ of individual losses"
   ]
  },
  {
   "cell_type": "markdown",
   "id": "studied-proof",
   "metadata": {},
   "source": [
    "### Exercise 1.1\n",
    "\n",
    "Try to estimate your own model coefficient:\n",
    "\n",
    "1. Create your generating (true) model (dare try with the intercept, too?):"
   ]
  },
  {
   "cell_type": "code",
   "execution_count": null,
   "id": "prescribed-massage",
   "metadata": {
    "results": "asis"
   },
   "outputs": [],
   "source": [
    "lin_reg.1 <- function() {}"
   ]
  },
  {
   "cell_type": "markdown",
   "id": "agricultural-planet",
   "metadata": {},
   "source": [
    "2. Define your own loss function:"
   ]
  },
  {
   "cell_type": "code",
   "execution_count": null,
   "id": "passing-childhood",
   "metadata": {
    "results": "asis"
   },
   "outputs": [],
   "source": [
    "loss_function.1 <- function() {\n",
    "\n",
    "}"
   ]
  },
  {
   "cell_type": "markdown",
   "id": "micro-liberal",
   "metadata": {},
   "source": [
    "3. Create your dataset:"
   ]
  },
  {
   "cell_type": "code",
   "execution_count": null,
   "id": "recorded-wallace",
   "metadata": {
    "results": "asis"
   },
   "outputs": [],
   "source": [
    "x <- seq()"
   ]
  },
  {
   "cell_type": "markdown",
   "id": "personalized-recruitment",
   "metadata": {},
   "source": [
    "4. Choose a set of values for $\\beta$ to be tested"
   ]
  },
  {
   "cell_type": "code",
   "execution_count": null,
   "id": "engaged-links",
   "metadata": {
    "results": "asis"
   },
   "outputs": [],
   "source": [
    "beta0 = \n",
    "beta1 = \n"
   ]
  },
  {
   "cell_type": "markdown",
   "id": "played-mounting",
   "metadata": {},
   "source": [
    "5. Calculate the values for the loss function and plot results"
   ]
  },
  {
   "cell_type": "code",
   "execution_count": null,
   "id": "respected-copying",
   "metadata": {
    "results": "asis"
   },
   "outputs": [],
   "source": [
    "cost =\n",
    "print(cost)"
   ]
  },
  {
   "cell_type": "markdown",
   "id": "green-glucose",
   "metadata": {},
   "source": [
    "6. Plot the cost function vs values of the parameter(s)"
   ]
  },
  {
   "cell_type": "code",
   "execution_count": null,
   "id": "raising-meeting",
   "metadata": {
    "lines_to_next_cell": 2,
    "results": "asis"
   },
   "outputs": [],
   "source": [
    "library(\"plotly\")"
   ]
  },
  {
   "cell_type": "markdown",
   "id": "configured-kansas",
   "metadata": {},
   "source": [
    "## 1.2 Linear regression: measuring performance\n",
    "\n",
    "In practice, we are not going to manually minimise the loss function to estimate model parameters for our predictive machine: instead, higher-level *R* functions are used, like `lm()`.\n",
    "\n",
    "An important aspect of predictive statistics is to measure the performance of the developed predictive model (predictive machine).\n",
    "\n",
    "Let's start by creating an artificial dataset sampling from a normal distribution:"
   ]
  },
  {
   "cell_type": "code",
   "execution_count": 12,
   "id": "statutory-kennedy",
   "metadata": {},
   "outputs": [
    {
     "data": {
      "text/plain": [
       "\n",
       "\n",
       "|          y|          x|\n",
       "|----------:|----------:|\n",
       "|  0.2436654|  1.2237574|\n",
       "|  1.7202509|  1.9594928|\n",
       "| -0.2818991| -1.1980974|\n",
       "| -1.8167720|  1.7835584|\n",
       "| -0.4129311| -1.7208513|\n",
       "|  0.6975352| -0.2312617|"
      ]
     },
     "metadata": {},
     "output_type": "display_data"
    }
   ],
   "source": [
    "y <- rnorm(n = 100, mean = 0, sd = 1)\n",
    "x <- rnorm(n = 100, mean = 0, sd = 1)\n",
    "\n",
    "dataset <- data.frame(\"y\"=y, \"x\"=x)\n",
    "kable(head(dataset))"
   ]
  },
  {
   "cell_type": "markdown",
   "id": "outdoor-internet",
   "metadata": {},
   "source": [
    "We now fit a simple linear regression model:\n",
    "\n",
    "$$\n",
    "y = \\mu + \\beta \\cdot x + e\n",
    "$$"
   ]
  },
  {
   "cell_type": "code",
   "execution_count": 13,
   "id": "accurate-computer",
   "metadata": {},
   "outputs": [
    {
     "data": {
      "text/html": [
       "<style>\n",
       ".dl-inline {width: auto; margin:0; padding: 0}\n",
       ".dl-inline>dt, .dl-inline>dd {float: none; width: auto; display: inline-block}\n",
       ".dl-inline>dt::after {content: \":\\0020\"; padding-right: .5ex}\n",
       ".dl-inline>dt:not(:first-of-type) {padding-left: .5ex}\n",
       "</style><dl class=dl-inline><dt>(Intercept)</dt><dd>-0.000634741796492806</dd><dt>x</dt><dd>-0.048736120787376</dd></dl>\n"
      ],
      "text/latex": [
       "\\begin{description*}\n",
       "\\item[(Intercept)] -0.000634741796492806\n",
       "\\item[x] -0.048736120787376\n",
       "\\end{description*}\n"
      ],
      "text/markdown": [
       "(Intercept)\n",
       ":   -0.000634741796492806x\n",
       ":   -0.048736120787376\n",
       "\n"
      ],
      "text/plain": [
       "  (Intercept)             x \n",
       "-0.0006347418 -0.0487361208 "
      ]
     },
     "metadata": {},
     "output_type": "display_data"
    }
   ],
   "source": [
    "fit <- lm(y ~ x, data = dataset)\n",
    "coef(fit)"
   ]
  },
  {
   "cell_type": "code",
   "execution_count": 14,
   "id": "excessive-princeton",
   "metadata": {},
   "outputs": [
    {
     "data": {
      "image/png": "[encoded data removed]",
      "text/plain": [
       "plot without title"
      ]
     },
     "metadata": {
      "image/png": {
       "height": 420,
       "width": 420
      }
     },
     "output_type": "display_data"
    }
   ],
   "source": [
    "plot(dataset$x, dataset$y, ylab = \"y (target variable)\", xlab = \"x (predictive variable)\")\n",
    "abline(fit)"
   ]
  },
  {
   "cell_type": "markdown",
   "id": "imported-diversity",
   "metadata": {},
   "source": [
    "We now have all the ingredients to obtain predictions: either by explicitly using the estimated coefficients:"
   ]
  },
  {
   "cell_type": "code",
   "execution_count": 15,
   "id": "elegant-treatment",
   "metadata": {},
   "outputs": [],
   "source": [
    "predictions <- dataset$x*coef(fit)[2] + coef(fit)[1]"
   ]
  },
  {
   "cell_type": "markdown",
   "id": "disciplinary-spread",
   "metadata": {},
   "source": [
    "or by using the *R* `predict()` function:"
   ]
  },
  {
   "cell_type": "code",
   "execution_count": 17,
   "id": "printable-tennis",
   "metadata": {},
   "outputs": [],
   "source": [
    "# ?predict\n",
    "predictions <- predict(fit, newdata = dataset)"
   ]
  },
  {
   "cell_type": "markdown",
   "id": "becoming-beatles",
   "metadata": {},
   "source": [
    "The two approaches are obviously equivalent"
   ]
  },
  {
   "cell_type": "code",
   "execution_count": 18,
   "id": "pursuant-receptor",
   "metadata": {},
   "outputs": [
    {
     "data": {
      "text/html": [
       "1"
      ],
      "text/latex": [
       "1"
      ],
      "text/markdown": [
       "1"
      ],
      "text/plain": [
       "[1] 1"
      ]
     },
     "metadata": {},
     "output_type": "display_data"
    }
   ],
   "source": [
    "concordance <- predict(fit, newdata = dataset) == dataset$x*coef(fit)[2] + coef(fit)[1]\n",
    "sum(concordance)/length(predictions)"
   ]
  },
  {
   "cell_type": "markdown",
   "id": "lesser-found",
   "metadata": {},
   "source": [
    "The predict function is more flexible and can for instance also give us a confidence interval for predictions:"
   ]
  },
  {
   "cell_type": "code",
   "execution_count": 19,
   "id": "norwegian-platform",
   "metadata": {},
   "outputs": [
    {
     "data": {
      "text/plain": [
       "\n",
       "\n",
       "|        fit|        lwr|       upr|\n",
       "|----------:|----------:|---------:|\n",
       "| -0.0602759| -0.3414359| 0.2208840|\n",
       "| -0.0961328| -0.4857011| 0.2934354|\n",
       "|  0.0577559| -0.2472696| 0.3627813|\n",
       "| -0.0875585| -0.4496539| 0.2745370|\n",
       "|  0.0832329| -0.3002446| 0.4667103|\n",
       "|  0.0106361| -0.1914821| 0.2127542|"
      ]
     },
     "metadata": {},
     "output_type": "display_data"
    }
   ],
   "source": [
    "predict(fit, newdata = dataset, interval = \"confidence\") %>%\n",
    "  head() %>%\n",
    "  kable()"
   ]
  },
  {
   "cell_type": "markdown",
   "id": "liberal-product",
   "metadata": {},
   "source": [
    "Finally, we can plot predictions against observations:"
   ]
  },
  {
   "cell_type": "code",
   "execution_count": 20,
   "id": "employed-emerald",
   "metadata": {
    "lines_to_next_cell": 2
   },
   "outputs": [
    {
     "data": {
      "image/png": "[encoded data removed]",
      "text/plain": [
       "plot without title"
      ]
     },
     "metadata": {
      "image/png": {
       "height": 420,
       "width": 420
      }
     },
     "output_type": "display_data"
    }
   ],
   "source": [
    "dataset$predictions <- predictions\n",
    "plot(dataset$y, dataset$predictions, xlab = \"observations\", ylab = \"predictions\")\n",
    "#abline(fit)"
   ]
  },
  {
   "cell_type": "markdown",
   "id": "impossible-rainbow",
   "metadata": {},
   "source": [
    "Besides visualizing how predictions relate to observations, we need also to measure (quantify) the predictive performance of the model.\n",
    "\n",
    "Several metrics exist for regression problems. Here we list a few of the most commonly used.\n",
    "\n",
    "1. **MSE** (mean squared error)"
   ]
  },
  {
   "cell_type": "code",
   "execution_count": 21,
   "id": "useful-italian",
   "metadata": {},
   "outputs": [
    {
     "data": {
      "text/html": [
       "0.926125579287681"
      ],
      "text/latex": [
       "0.926125579287681"
      ],
      "text/markdown": [
       "0.926125579287681"
      ],
      "text/plain": [
       "[1] 0.9261256"
      ]
     },
     "metadata": {},
     "output_type": "display_data"
    }
   ],
   "source": [
    "mse <- function(y,y_hat) {\n",
    "  \n",
    "  n = length(y)\n",
    "  se = sum((y-y_hat)^2)\n",
    "  mse = se/n\n",
    "  \n",
    "  return(mse)\n",
    "}\n",
    "\n",
    "error = mse(y = dataset$y, y_hat = predictions)\n",
    "error"
   ]
  },
  {
   "cell_type": "markdown",
   "id": "comic-settle",
   "metadata": {},
   "source": [
    "The MSE is **`r round(error,3)`**.\n",
    "\n",
    "2. **RMSE** (root mean squared error): this is on the same scale as the target variable"
   ]
  },
  {
   "cell_type": "code",
   "execution_count": 22,
   "id": "related-lightweight",
   "metadata": {},
   "outputs": [
    {
     "data": {
      "text/html": [
       "0.962354185987509"
      ],
      "text/latex": [
       "0.962354185987509"
      ],
      "text/markdown": [
       "0.962354185987509"
      ],
      "text/plain": [
       "[1] 0.9623542"
      ]
     },
     "metadata": {},
     "output_type": "display_data"
    }
   ],
   "source": [
    "rmse = sqrt(error)\n",
    "rmse"
   ]
  },
  {
   "cell_type": "markdown",
   "id": "entitled-cause",
   "metadata": {},
   "source": [
    "The RMSE is **`r round(rmse,3)`**.\n",
    "\n",
    "3. **MAE** (mean absolute error)"
   ]
  },
  {
   "cell_type": "code",
   "execution_count": 23,
   "id": "equivalent-providence",
   "metadata": {},
   "outputs": [
    {
     "data": {
      "text/html": [
       "0.748746872525695"
      ],
      "text/latex": [
       "0.748746872525695"
      ],
      "text/markdown": [
       "0.748746872525695"
      ],
      "text/plain": [
       "[1] 0.7487469"
      ]
     },
     "metadata": {},
     "output_type": "display_data"
    }
   ],
   "source": [
    "mae <- function(y,y_hat) {\n",
    "  \n",
    "  n = length(y)\n",
    "  se = sum(abs(y-y_hat))\n",
    "  mae = se/n\n",
    "  \n",
    "  return(mae)\n",
    "}\n",
    "\n",
    "error = mae(y = dataset$y, y_hat = predictions)\n",
    "error"
   ]
  },
  {
   "cell_type": "markdown",
   "id": "accomplished-headquarters",
   "metadata": {},
   "source": [
    "The MAE is **`r round(error,3)`**.\n",
    "\n",
    "The we have correlations:\n",
    "\n",
    "4. **Pearson's linear** correlation coefficient\n",
    "5. **Spearman's rank** correlation coefficient"
   ]
  },
  {
   "cell_type": "code",
   "execution_count": 24,
   "id": "quiet-bernard",
   "metadata": {},
   "outputs": [],
   "source": [
    "r_pearson = cor(dataset$y, predictions, method = \"pearson\")\n",
    "r_spearman = cor(dataset$y, predictions, method = \"spearman\")"
   ]
  },
  {
   "cell_type": "code",
   "execution_count": 25,
   "id": "adult-mailman",
   "metadata": {},
   "outputs": [
    {
     "name": "stdout",
     "output_type": "stream",
     "text": [
      "[1] 0.05359899\n",
      "[1] 0.01750975\n"
     ]
    }
   ],
   "source": [
    "print(r_pearson)\n",
    "print(r_spearman)"
   ]
  },
  {
   "cell_type": "markdown",
   "id": "documented-wireless",
   "metadata": {},
   "source": [
    "## Exercise 1.2\n",
    "\n",
    "Generate a dataset, fit a linear model and measure the accuracy of predictions:\n",
    "\n",
    "1. Generate a dataset (you can pick a different distribution e.g. t-student, chi-square etc., or you can choose one of the many built-in R datasets, using the function `data()`):"
   ]
  },
  {
   "cell_type": "code",
   "execution_count": null,
   "id": "binding-transition",
   "metadata": {
    "results": "asis"
   },
   "outputs": [],
   "source": [
    "data()\n",
    "\n",
    "y = NULL # target variable\n",
    "x = NULL # feature 1\n",
    "z = NULL # feature 2 (optional)"
   ]
  },
  {
   "cell_type": "markdown",
   "id": "gross-symposium",
   "metadata": {},
   "source": [
    "2. Fit a linear model"
   ]
  },
  {
   "cell_type": "code",
   "execution_count": null,
   "id": "executive-customer",
   "metadata": {
    "results": "asis"
   },
   "outputs": [],
   "source": [
    "# fit <- lm()"
   ]
  },
  {
   "cell_type": "markdown",
   "id": "caring-survivor",
   "metadata": {},
   "source": [
    "3. Obtain predictions"
   ]
  },
  {
   "cell_type": "code",
   "execution_count": null,
   "id": "welsh-renewal",
   "metadata": {
    "results": "asis"
   },
   "outputs": [],
   "source": [
    "# predictions <- predict()"
   ]
  },
  {
   "cell_type": "markdown",
   "id": "after-manor",
   "metadata": {},
   "source": [
    "4. Plot observations vs predictions"
   ]
  },
  {
   "cell_type": "code",
   "execution_count": null,
   "id": "pacific-gender",
   "metadata": {},
   "outputs": [],
   "source": [
    "# p <- ggplot()"
   ]
  },
  {
   "cell_type": "markdown",
   "id": "special-directory",
   "metadata": {},
   "source": [
    "5. Choose a metric to measure the accuracy of predictions (performance)"
   ]
  },
  {
   "cell_type": "code",
   "execution_count": null,
   "id": "extraordinary-compromise",
   "metadata": {
    "lines_to_next_cell": 0,
    "results": "asis"
   },
   "outputs": [],
   "source": [
    "# metric = "
   ]
  },
  {
   "cell_type": "markdown",
   "id": "lonely-practitioner",
   "metadata": {},
   "source": [
    "\n"
   ]
  }
 ],
 "metadata": {
  "jupytext": {
   "cell_metadata_filter": "results,tags,name,-all",
   "main_language": "R",
   "notebook_metadata_filter": "-all"
  },
  "kernelspec": {
   "display_name": "R",
   "language": "R",
   "name": "ir"
  },
  "language_info": {
   "codemirror_mode": "r",
   "file_extension": ".r",
   "mimetype": "text/x-r-source",
   "name": "R",
   "pygments_lexer": "r",
   "version": "4.1.2"
  }
 },
 "nbformat": 4,
 "nbformat_minor": 5
}
