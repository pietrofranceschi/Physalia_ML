{
 "cells": [
  {
   "cell_type": "raw",
   "id": "breathing-textbook",
   "metadata": {},
   "source": [
    "---\n",
    "title: \"Regression and Classification with Tidymodels\"\n",
    "author: \"Filippo\"\n",
    "date: \"2/16/2022\"\n",
    "output: html_document\n",
    "---"
   ]
  },
  {
   "cell_type": "code",
   "execution_count": null,
   "id": "cultural-patient",
   "metadata": {
    "message": false,
    "warning": false
   },
   "outputs": [],
   "source": [
    "library(\"knitr\")\n",
    "library(\"glmnet\")\n",
    "library(\"ggplot2\")\n",
    "library(\"tidyverse\")\n",
    "library(\"tidymodels\")\n",
    "library(\"data.table\")"
   ]
  },
  {
   "cell_type": "markdown",
   "id": "simple-bracket",
   "metadata": {},
   "source": [
    "## Regression\n",
    "\n",
    "Here we use the `bats` dataset to build a regression model using the programming framework provided by the R package `tidymodels`."
   ]
  },
  {
   "cell_type": "code",
   "execution_count": null,
   "id": "moderate-basic",
   "metadata": {
    "echo": true,
    "label": "bat_data"
   },
   "outputs": [],
   "source": [
    "ch4 <- readxl::read_excel(\"../data/DNA methylation data.xlsm\", sheet = 1)\n",
    "ch4 <- na.omit(ch4[,-c(1,3)])\n",
    "head(ch4)"
   ]
  },
  {
   "cell_type": "markdown",
   "id": "common-melbourne",
   "metadata": {},
   "source": [
    "#### 1. partitioning the data\n",
    "\n",
    "We now use `k-fold` cross-validation to estimate the performance of our linear regresdsion model for the prediction of the age of bats based on epigenetics data.\n",
    "The dataset is small, and therefore we apply 5-fold cross-validation.\n",
    "\n",
    "The objective is to get a **robust estimate** of the model **predictive ability**."
   ]
  },
  {
   "cell_type": "code",
   "execution_count": null,
   "id": "liable-likelihood",
   "metadata": {
    "name": "pressure",
    "tags": [
     "remove_input"
    ]
   },
   "outputs": [],
   "source": [
    "folds <- vfold_cv(ch4, v = 5)\n",
    "print(folds)"
   ]
  },
  {
   "cell_type": "markdown",
   "id": "express-regular",
   "metadata": {},
   "source": [
    "#### 2. specifying the model and workflow\n",
    "\n",
    "We use `tidymodels` syntax to specify our linear regression model, and put everything into a *workflow*: "
   ]
  },
  {
   "cell_type": "code",
   "execution_count": null,
   "id": "closing-recorder",
   "metadata": {},
   "outputs": [],
   "source": [
    "lm_mod = linear_reg() %>%\n",
    "  set_engine(\"lm\")\n",
    "\n",
    "lm_wf <- \n",
    "  workflow() %>%\n",
    "  add_model(lm_mod) %>%\n",
    "  add_formula(Age ~ .)"
   ]
  },
  {
   "cell_type": "markdown",
   "id": "introductory-confidence",
   "metadata": {},
   "source": [
    "#### 3. fitting the model on the resampled data \n",
    "\n",
    "Now we apply the workflow to the partitions of the data that we prepared before (our 5-fold partitions: 4 folds for training, 1 fold for validation, in turns $\\rightarrow$ 5 different partitions of the data)"
   ]
  },
  {
   "cell_type": "code",
   "execution_count": null,
   "id": "impossible-dinner",
   "metadata": {},
   "outputs": [],
   "source": [
    "lm_fit <- \n",
    "  lm_wf %>% \n",
    "  fit_resamples(\n",
    "    folds,\n",
    "    control = control_resamples(save_pred = TRUE))"
   ]
  },
  {
   "cell_type": "markdown",
   "id": "facial-seeking",
   "metadata": {},
   "source": [
    "#### 4. evaluating the performance of the model\n",
    "\n",
    "To evaluate the performance of the model we first collect the error metrics: RMSE and $R^2$. These are averages over the 5 validation folds, together with the standard error:"
   ]
  },
  {
   "cell_type": "code",
   "execution_count": null,
   "id": "rough-holly",
   "metadata": {},
   "outputs": [],
   "source": [
    "collect_metrics(lm_fit)"
   ]
  },
  {
   "cell_type": "code",
   "execution_count": null,
   "id": "chicken-current",
   "metadata": {},
   "outputs": [],
   "source": [
    "metrs <- collect_metrics(lm_fit)\n",
    "error_pct = metrs$mean[1]/mean(ch4$Age)\n",
    "print(error_pct)"
   ]
  },
  {
   "cell_type": "markdown",
   "id": "legitimate-statistics",
   "metadata": {},
   "source": [
    "We see the error is **`r round(error_pct,2)*100`%** of the average age of bats in the dataset. \n",
    "We then look at predictions in the validation folds, and measure the Pearson linear correlation between predicted and observed age values:"
   ]
  },
  {
   "cell_type": "code",
   "execution_count": null,
   "id": "criminal-consolidation",
   "metadata": {
    "lines_to_next_cell": 0
   },
   "outputs": [],
   "source": [
    "collect_predictions(lm_fit) %>% group_by(id) %>% summarise(pearson = cor(.pred,Age))"
   ]
  },
  {
   "cell_type": "markdown",
   "id": "sexual-brazilian",
   "metadata": {},
   "source": [
    "### Repeated cross-validation\n",
    "\n",
    "This was one single 5-fold cross-validation partition. However, to really take advantage of the full power of resampling methods and get robust estimates of the model performance, it is better (and usually done) to replicate the k-fold cross-validation **n times** (thereby resampling at each of the *n* replicates a different 5-fold partition):"
   ]
  },
  {
   "cell_type": "code",
   "execution_count": null,
   "id": "allied-container",
   "metadata": {
    "name": "repeated_cv"
   },
   "outputs": [],
   "source": [
    "folds = vfold_cv(ch4, v = 5, repeats = 10)"
   ]
  },
  {
   "cell_type": "code",
   "execution_count": null,
   "id": "close-spelling",
   "metadata": {},
   "outputs": [],
   "source": [
    "lm_fit <- \n",
    "  lm_wf %>% \n",
    "  fit_resamples(\n",
    "    folds,\n",
    "    control = control_resamples(save_pred = TRUE))"
   ]
  },
  {
   "cell_type": "code",
   "execution_count": null,
   "id": "running-evening",
   "metadata": {},
   "outputs": [],
   "source": [
    "collect_metrics(lm_fit)"
   ]
  },
  {
   "cell_type": "markdown",
   "id": "ignored-cookie",
   "metadata": {},
   "source": [
    "We see that the standard errors of the estimated RMSE and $R^2$ are now smaller (averages of 50 values instead of 5 values!). We finally get the average Pearson correlation between predicted and observed ages, and its standard deviation:"
   ]
  },
  {
   "cell_type": "code",
   "execution_count": null,
   "id": "jewish-gathering",
   "metadata": {
    "lines_to_next_cell": 0
   },
   "outputs": [],
   "source": [
    "collect_predictions(lm_fit) %>% group_by(id) %>% summarise(pearson = cor(.pred,Age)) %>% summarise(avg = mean(pearson), std = sd(pearson))"
   ]
  },
  {
   "cell_type": "markdown",
   "id": "constitutional-ceremony",
   "metadata": {},
   "source": [
    "## Classification\n",
    "\n",
    "We now see how we can apply `tidymodels` to a classification problem.\n",
    "We use our `dogs` dataset (reduced: only 45 SNPs):"
   ]
  },
  {
   "cell_type": "code",
   "execution_count": null,
   "id": "approximate-scanner",
   "metadata": {
    "label": "reading_data"
   },
   "outputs": [],
   "source": [
    "dogs <- fread(\"../data/dogs_imputed_reduced.raw\")\n",
    "dogs <- dogs %>%\n",
    "  select(-c(IID,FID,PAT,MAT,SEX))\n",
    "\n",
    "## values for logistic regression in glm() must be 0 - 1\n",
    "dogs$PHENOTYPE = dogs$PHENOTYPE-1\n",
    "head(dogs)\n",
    "print(nrow(dogs))\n",
    "print(ncol(dogs)-1)"
   ]
  },
  {
   "cell_type": "markdown",
   "id": "alpha-process",
   "metadata": {},
   "source": [
    "This dataset is unbalanced: we have far fewer cases than controls:"
   ]
  },
  {
   "cell_type": "code",
   "execution_count": null,
   "id": "animal-whole",
   "metadata": {},
   "outputs": [],
   "source": [
    "dogs %>%\n",
    "  group_by(PHENOTYPE) %>%\n",
    "  summarise(N=n())"
   ]
  },
  {
   "cell_type": "markdown",
   "id": "eligible-enterprise",
   "metadata": {},
   "source": [
    "When data are unbalanced, one possible approach to improve the performance of the predictive model is to **subsample** the data:\n",
    "\n",
    "- **downsampling** or **undersampling**: *sample down* the *majority* class until it has the same frequency of the *minority* class\n",
    "- **oversample** the data: generate new samples of the *minority* class based on its *neighbourhood* (determined by a similarity matrix)\n",
    "\n",
    "Subsampling usually improves model performance (see for instance [Menardi and Torelli, 2012](https://link.springer.com/article/10.1007/s10618-012-0295-5)).\n",
    "\n",
    "It is important that subsampling is **applied only to the training data** (e.g. when doing k-fold cross-validation, under- or over-sampling must happen only in the k-1 folds used for training).\n",
    "\n",
    "#### 1. subsampling the data\n",
    "\n",
    "In this case, data will be oversampled (the dataset is small):"
   ]
  },
  {
   "cell_type": "code",
   "execution_count": null,
   "id": "binary-lawrence",
   "metadata": {},
   "outputs": [],
   "source": [
    "library(\"themis\")\n",
    "imbal_rec <- \n",
    "  recipe(PHENOTYPE ~ ., data = dogs) %>%\n",
    "  step_bin2factor(PHENOTYPE) %>%\n",
    "  step_rose(PHENOTYPE, skip = TRUE) ## skip == TRUE is important to make sure that subsampling happens only in the training data"
   ]
  },
  {
   "cell_type": "code",
   "execution_count": null,
   "id": "particular-defense",
   "metadata": {},
   "outputs": [],
   "source": [
    "prep(imbal_rec) %>% juice() %>% group_by(PHENOTYPE) %>% summarise(N=n())"
   ]
  },
  {
   "cell_type": "markdown",
   "id": "gothic-glasgow",
   "metadata": {},
   "source": [
    "#### 2. partitioning the data"
   ]
  },
  {
   "cell_type": "code",
   "execution_count": null,
   "id": "listed-bulletin",
   "metadata": {},
   "outputs": [],
   "source": [
    "folds <- vfold_cv(dogs, v = 5, strata = \"PHENOTYPE\", repeats = 5)"
   ]
  },
  {
   "cell_type": "markdown",
   "id": "adequate-microwave",
   "metadata": {},
   "source": [
    "#### 3. specifying the logistic regression model and workflow"
   ]
  },
  {
   "cell_type": "code",
   "execution_count": null,
   "id": "instrumental-flood",
   "metadata": {},
   "outputs": [],
   "source": [
    "log_mod = logistic_reg(\n",
    "  mode = \"classification\",\n",
    "  engine = \"glm\"\n",
    ")\n",
    "\n",
    "log_wf <- \n",
    "  workflow() %>%\n",
    "  add_model(log_mod) %>%\n",
    "  add_recipe(imbal_rec)"
   ]
  },
  {
   "cell_type": "markdown",
   "id": "parallel-sterling",
   "metadata": {},
   "source": [
    "#### 4. defining performance metrics"
   ]
  },
  {
   "cell_type": "code",
   "execution_count": null,
   "id": "pretty-paint",
   "metadata": {},
   "outputs": [],
   "source": [
    "cls_metrics <- metric_set(roc_auc,sens,spec)"
   ]
  },
  {
   "cell_type": "markdown",
   "id": "norwegian-abortion",
   "metadata": {},
   "source": [
    "#### 5. fitting the model on the resampled data "
   ]
  },
  {
   "cell_type": "code",
   "execution_count": null,
   "id": "coordinated-champion",
   "metadata": {
    "message": false,
    "warning": false
   },
   "outputs": [],
   "source": [
    "log_res <- fit_resamples(\n",
    "  log_wf, \n",
    "  resamples = folds, \n",
    "  metrics = cls_metrics,\n",
    "  control = control_resamples(save_pred = TRUE)\n",
    ")"
   ]
  },
  {
   "cell_type": "markdown",
   "id": "confidential-disability",
   "metadata": {},
   "source": [
    "#### 6. evaluating the performance of the model\n",
    "\n",
    "We look at the average:\n",
    "\n",
    "- `AUC`: area under the ROC curve\n",
    "- `sens`: TPR (true positive rate)\n",
    "- `spec`: TNR (true negative rate)"
   ]
  },
  {
   "cell_type": "code",
   "execution_count": null,
   "id": "graduate-burns",
   "metadata": {},
   "outputs": [],
   "source": [
    "collect_metrics(log_res)"
   ]
  },
  {
   "cell_type": "markdown",
   "id": "musical-yacht",
   "metadata": {},
   "source": [
    "Then we can look at predictions and calculate the overall error rate:"
   ]
  },
  {
   "cell_type": "code",
   "execution_count": null,
   "id": "included-discount",
   "metadata": {},
   "outputs": [],
   "source": [
    "collect_predictions(log_res) %>% group_by(id,id2) %>% summarise(errors = sum(.pred_class != PHENOTYPE), tot = length(PHENOTYPE), error_rate = errors/tot)"
   ]
  },
  {
   "cell_type": "code",
   "execution_count": null,
   "id": "parallel-sunday",
   "metadata": {},
   "outputs": [],
   "source": [
    "collect_predictions(log_res) %>% \n",
    "  group_by(id,id2) %>% \n",
    "  summarise(errors = sum(.pred_class != PHENOTYPE), tot = length(PHENOTYPE), error_rate = errors/tot) %>%\n",
    "  ungroup() %>%\n",
    "  summarise(avg_er = mean(error_rate), std = sd(error_rate))"
   ]
  }
 ],
 "metadata": {
  "jupytext": {
   "cell_metadata_filter": "warning,name,message,echo,label,tags,-all",
   "main_language": "R",
   "notebook_metadata_filter": "-all"
  },
  "kernelspec": {
   "display_name": "R",
   "language": "R",
   "name": "ir"
  },
  "language_info": {
   "codemirror_mode": "r",
   "file_extension": ".r",
   "mimetype": "text/x-r-source",
   "name": "R",
   "pygments_lexer": "r",
   "version": "4.1.2"
  }
 },
 "nbformat": 4,
 "nbformat_minor": 5
}
