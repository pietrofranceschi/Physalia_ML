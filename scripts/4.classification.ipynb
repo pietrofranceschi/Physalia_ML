{
 "cells": [
  {
   "cell_type": "raw",
   "id": "brutal-clinic",
   "metadata": {},
   "source": [
    "---\n",
    "title: \"classification problems\"\n",
    "author: \"Filippo Biscarini\"\n",
    "date: \"7/7/2020\"\n",
    "output: html_document\n",
    "---"
   ]
  },
  {
   "cell_type": "code",
   "execution_count": null,
   "id": "loved-conference",
   "metadata": {
    "name": "setup",
    "tags": [
     "remove_cell"
    ]
   },
   "outputs": [],
   "source": [
    "library(\"ggplot2\")\n",
    "library(\"reshape2\")\n",
    "library(\"tidyverse\")\n",
    "library(\"data.table\")\n",
    "knitr::opts_chunk$set(echo = TRUE)"
   ]
  },
  {
   "cell_type": "markdown",
   "id": "continental-whale",
   "metadata": {},
   "source": [
    "## Our first classifier!\n",
    "\n",
    "\\[reminder: classifier = predictive machine for classification problems \\]\n",
    "\n",
    "### Reading the data\n",
    "\n",
    "For this practical session on logistic regression we are using a dataset on the relationship between cleft lip in dogs (Nova Scotia Duck Tolling Retriever, NSDTR) and SNP genotypes ([data](https://datadryad.org/stash/dataset/doi:10.5061/dryad.j8r8q); [paper](https://journals.plos.org/plosgenetics/article?id=10.1371/journal.pgen.1005059)).\n",
    "\n",
    "The public dataset downloaded from Dryad is a *Plink* `.tped/.tfam` file. The data have been preprocessed:\n",
    "\n",
    "- filtered (SNP quality, call-rate, MAF)\n",
    "- imputed (imputation of missing genotypes using LHCI: localised haplotype-clustering imputation)\n",
    "- selected (only SNPs on chromosomes 25, 26, 27, 28, 29)\n",
    "\n",
    "We begin by using a reduced version of the dataset, where $0.5\\%$ of the SNP loci have been randomly picked: "
   ]
  },
  {
   "cell_type": "code",
   "execution_count": null,
   "id": "dirty-infrared",
   "metadata": {
    "label": "reading_data"
   },
   "outputs": [],
   "source": [
    "dogs <- fread(\"../data/dogs_imputed_reduced.raw\")\n",
    "dogs <- dogs %>%\n",
    "  select(-c(IID,FID,PAT,MAT,SEX))\n",
    "\n",
    "## values for logistic regression in glm() must be 0 - 1\n",
    "dogs$PHENOTYPE = dogs$PHENOTYPE-1\n",
    "head(dogs)\n",
    "print(nrow(dogs))\n",
    "print(ncol(dogs)-1)"
   ]
  },
  {
   "cell_type": "markdown",
   "id": "favorite-venezuela",
   "metadata": {},
   "source": [
    "The dataset contains data on `r nrow(dogs)` and `r ncol(dogs)-2` SNP genotypes.\n",
    "Controls (dogs without cleft lip) are coded as `1`'s, cases (dogs with cleft lip) are coded as `2`'s:"
   ]
  },
  {
   "cell_type": "code",
   "execution_count": null,
   "id": "exclusive-gentleman",
   "metadata": {},
   "outputs": [],
   "source": [
    "dogs %>%\n",
    "  group_by(PHENOTYPE) %>%\n",
    "  summarise(N=n())"
   ]
  },
  {
   "cell_type": "code",
   "execution_count": null,
   "id": "attended-hebrew",
   "metadata": {},
   "outputs": [],
   "source": [
    "maf_controls <- colSums(dogs[dogs$PHENOTYPE==0,-c(1,2)])/(2*nrow(dogs[dogs$PHENOTYPE==0,]))\n",
    "maf_cases <- colSums(dogs[dogs$PHENOTYPE==1,-c(1,2)])/(2*nrow(dogs[dogs$PHENOTYPE==1,]))"
   ]
  },
  {
   "cell_type": "code",
   "execution_count": null,
   "id": "sticky-experience",
   "metadata": {
    "lines_to_next_cell": 2
   },
   "outputs": [],
   "source": [
    "maf <- data.frame(\"cases\"=maf_cases, \"controls\"=maf_controls)\n",
    "mD <- reshape2::melt(maf)\n",
    "ggplot(mD, aes(y = value, x = variable)) + geom_boxplot(aes(fill=variable)) + xlab(element_blank()) + ylab(\"MAF\")"
   ]
  },
  {
   "cell_type": "markdown",
   "id": "grand-ethics",
   "metadata": {},
   "source": [
    "## Fitting the logistic regression model\n",
    "\n",
    "We now split the data into training and test set, and then fit the logistic regression model to the training set.\n",
    "We have an **unbalanced binomial dataset** (13 cases, 112 controls, tot = 125), therefore we may want to keep the same proportion of cases adn controls when sampling the training and the test sets. To do so, we can use what is called \"**stratified sampling**\":\n"
   ]
  },
  {
   "cell_type": "code",
   "execution_count": null,
   "id": "vulnerable-masters",
   "metadata": {
    "lines_to_next_cell": 0,
    "name": "logistic",
    "tags": [
     "remove_input"
    ]
   },
   "outputs": [],
   "source": [
    "seed = 121\n",
    "set.seed(seed)\n",
    "\n",
    "dogs$id <- paste(\"id\",seq(1,nrow(dogs)), sep=\"_\")\n",
    "\n",
    "training_set <- dogs %>%\n",
    "  group_by(PHENOTYPE) %>%\n",
    "  sample_frac(size = 0.7)\n",
    "\n",
    "test_recs <- !(dogs$id %in% training_set$id)\n",
    "test_set <- dogs[test_recs,]\n",
    "\n",
    "training_set$id <- NULL\n",
    "test_set$id <- NULL\n",
    "\n",
    "table(training_set$PHENOTYPE)\n",
    "table(test_set$PHENOTYPE)"
   ]
  },
  {
   "cell_type": "markdown",
   "id": "million-praise",
   "metadata": {},
   "source": [
    "In *R*, you can use the function `glm()` (generalised linear model) that allows you to specify the distribution (binomial in this case) and the link function (logit, in this case)."
   ]
  },
  {
   "cell_type": "code",
   "execution_count": null,
   "id": "clean-addiction",
   "metadata": {},
   "outputs": [],
   "source": [
    "glm.fit <- glm(PHENOTYPE ~ ., data = training_set, family=binomial(link=\"logit\"))"
   ]
  },
  {
   "cell_type": "markdown",
   "id": "strong-oxide",
   "metadata": {},
   "source": [
    "## Making predictions\n",
    "\n",
    "To make predictions, we apply the fitted model to the test data. We get probabilities of being a case ($$p(y=1|x)$$), and we need to set a threshold to discriminate between cases (1's) and controls (0's): a common choice for the threshold is **0.5**. "
   ]
  },
  {
   "cell_type": "code",
   "execution_count": null,
   "id": "exceptional-request",
   "metadata": {},
   "outputs": [],
   "source": [
    "glm.probs <- predict(glm.fit, newdata = test_set[,-1],type=\"response\") \n",
    "glm.pred <- ifelse(glm.probs > 0.5, 1, 0)\n",
    "table(glm.pred,test_set$PHENOTYPE)"
   ]
  },
  {
   "cell_type": "code",
   "execution_count": null,
   "id": "behavioral-joseph",
   "metadata": {},
   "outputs": [],
   "source": [
    "error = mean(glm.pred!=test_set$PHENOTYPE)\n",
    "accuracy = 1 - error\n",
    "print(accuracy)"
   ]
  },
  {
   "cell_type": "markdown",
   "id": "unlikely-summit",
   "metadata": {},
   "source": [
    "The error rate is `r round(error,4)`; equivalently we can express this as accuracy (1-error rate) `r round(accuracy,3)`"
   ]
  },
  {
   "cell_type": "code",
   "execution_count": null,
   "id": "understood-dairy",
   "metadata": {},
   "outputs": [],
   "source": [
    "TER = sum(glm.pred != test_set$PHENOTYPE)/length(glm.pred)\n",
    "TP = sum(glm.pred == 1 & test_set$PHENOTYPE == 1)\n",
    "FN = sum(glm.pred == 0 & test_set$PHENOTYPE == 1)\n",
    "TN = sum(glm.pred == 0 & test_set$PHENOTYPE == 0)\n",
    "FP = sum(glm.pred == 1 & test_set$PHENOTYPE == 0)\n",
    "FPR = FP/(FP+TN)\n",
    "FNR = FN/(FN+TP)\n",
    "print(FPR)\n",
    "print(FNR)"
   ]
  },
  {
   "cell_type": "markdown",
   "id": "invalid-symposium",
   "metadata": {},
   "source": [
    "False postive rate is `r FPR`, false negative rate is `r FNR`\n",
    "\n",
    "## Exercise 4.1\n",
    "\n",
    "- implement k-fold cross-validation to assess the performance of the logistic regression model:"
   ]
  },
  {
   "cell_type": "code",
   "execution_count": null,
   "id": "brutal-rough",
   "metadata": {},
   "outputs": [],
   "source": [
    "n = nrow(dogs)\n",
    "k = 0"
   ]
  },
  {
   "cell_type": "code",
   "execution_count": null,
   "id": "sought-diagram",
   "metadata": {},
   "outputs": [],
   "source": [
    "## continue with your code here"
   ]
  },
  {
   "cell_type": "markdown",
   "id": "exterior-sleep",
   "metadata": {},
   "source": [
    "## ROC curves\n",
    "\n",
    "We use the same training/test split as above:"
   ]
  },
  {
   "cell_type": "code",
   "execution_count": null,
   "id": "disturbed-algorithm",
   "metadata": {},
   "outputs": [],
   "source": [
    "glm.fit <- glm(PHENOTYPE ~ ., data = training_set, family=binomial(link=\"logit\"))\n",
    "\n",
    "glm.probs <- predict(glm.fit, newdata = test_set[,-1],type=\"response\") \n",
    "glm.pred <- ifelse(glm.probs > 0.5, 1, 0)\n",
    "table(glm.pred,test_set$PHENOTYPE)"
   ]
  },
  {
   "cell_type": "code",
   "execution_count": null,
   "id": "complex-colleague",
   "metadata": {
    "label": "roc",
    "lines_to_next_cell": 0
   },
   "outputs": [],
   "source": [
    "library(\"ROCit\")\n",
    "\n",
    "ROCit_logit <- rocit(score=glm.probs,class=test_set$PHENOTYPE)\n",
    "plot(ROCit_logit)\n",
    "save(ROCit_logit, file = \"ROClogit.RData\") ## saving results in a local file"
   ]
  },
  {
   "cell_type": "markdown",
   "id": "traditional-trouble",
   "metadata": {},
   "source": [
    "We can also have a look at the AUC (Area Under the ROC Curve):"
   ]
  },
  {
   "cell_type": "code",
   "execution_count": null,
   "id": "valid-breath",
   "metadata": {},
   "outputs": [],
   "source": [
    "paste(\"AUC is:\",print(ROCit_logit$AUC))"
   ]
  },
  {
   "cell_type": "markdown",
   "id": "going-clone",
   "metadata": {},
   "source": [
    "\n"
   ]
  }
 ],
 "metadata": {
  "jupytext": {
   "cell_metadata_filter": "name,tags,label,-all",
   "main_language": "R",
   "notebook_metadata_filter": "-all"
  },
  "kernelspec": {
   "display_name": "R",
   "language": "R",
   "name": "ir"
  },
  "language_info": {
   "codemirror_mode": "r",
   "file_extension": ".r",
   "mimetype": "text/x-r-source",
   "name": "R",
   "pygments_lexer": "r",
   "version": "4.1.2"
  }
 },
 "nbformat": 4,
 "nbformat_minor": 5
}
