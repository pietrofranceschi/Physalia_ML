{
 "cells": [
  {
   "cell_type": "raw",
   "id": "brutal-clinic",
   "metadata": {},
   "source": [
    "---\n",
    "title: \"classification problems\"\n",
    "author: \"Filippo Biscarini\"\n",
    "date: \"7/7/2020\"\n",
    "output: html_document\n",
    "---"
   ]
  },
  {
   "cell_type": "code",
   "execution_count": 1,
   "id": "loved-conference",
   "metadata": {
    "name": "setup",
    "tags": [
     "remove_cell"
    ]
   },
   "outputs": [
    {
     "name": "stderr",
     "output_type": "stream",
     "text": [
      "── \u001b[1mAttaching packages\u001b[22m ────────────────────────────────────────────────────────────────────────────────────────────────────────────────────────────────────────────────────────────────────────── tidyverse 1.3.1 ──\n",
      "\n",
      "\u001b[32m✔\u001b[39m \u001b[34mtibble \u001b[39m 3.1.6     \u001b[32m✔\u001b[39m \u001b[34mdplyr  \u001b[39m 1.0.6\n",
      "\u001b[32m✔\u001b[39m \u001b[34mtidyr  \u001b[39m 1.1.3     \u001b[32m✔\u001b[39m \u001b[34mstringr\u001b[39m 1.4.0\n",
      "\u001b[32m✔\u001b[39m \u001b[34mreadr  \u001b[39m 2.1.2     \u001b[32m✔\u001b[39m \u001b[34mforcats\u001b[39m 0.5.1\n",
      "\u001b[32m✔\u001b[39m \u001b[34mpurrr  \u001b[39m 0.3.4     \n",
      "\n",
      "── \u001b[1mConflicts\u001b[22m ───────────────────────────────────────────────────────────────────────────────────────────────────────────────────────────────────────────────────────────────────────────── tidyverse_conflicts() ──\n",
      "\u001b[31m✖\u001b[39m \u001b[34mdplyr\u001b[39m::\u001b[32mfilter()\u001b[39m masks \u001b[34mstats\u001b[39m::filter()\n",
      "\u001b[31m✖\u001b[39m \u001b[34mdplyr\u001b[39m::\u001b[32mlag()\u001b[39m    masks \u001b[34mstats\u001b[39m::lag()\n",
      "\n",
      "\n",
      "Attaching package: ‘data.table’\n",
      "\n",
      "\n",
      "The following objects are masked from ‘package:dplyr’:\n",
      "\n",
      "    between, first, last\n",
      "\n",
      "\n",
      "The following object is masked from ‘package:purrr’:\n",
      "\n",
      "    transpose\n",
      "\n",
      "\n",
      "The following objects are masked from ‘package:reshape2’:\n",
      "\n",
      "    dcast, melt\n",
      "\n",
      "\n"
     ]
    }
   ],
   "source": [
    "library(\"ggplot2\")\n",
    "library(\"reshape2\")\n",
    "library(\"tidyverse\")\n",
    "library(\"data.table\")\n",
    "knitr::opts_chunk$set(echo = TRUE)"
   ]
  },
  {
   "cell_type": "markdown",
   "id": "continental-whale",
   "metadata": {},
   "source": [
    "## Our first classifier!\n",
    "\n",
    "\\[reminder: classifier = predictive machine for classification problems \\]\n",
    "\n",
    "### Reading the data\n",
    "\n",
    "For this practical session on logistic regression we are using a dataset on the relationship between cleft lip in dogs (Nova Scotia Duck Tolling Retriever, NSDTR) and SNP genotypes ([data](https://datadryad.org/stash/dataset/doi:10.5061/dryad.j8r8q); [paper](https://journals.plos.org/plosgenetics/article?id=10.1371/journal.pgen.1005059)).\n",
    "\n",
    "The public dataset downloaded from Dryad is a *Plink* `.tped/.tfam` file. The data have been preprocessed:\n",
    "\n",
    "- filtered (SNP quality, call-rate, MAF)\n",
    "- imputed (imputation of missing genotypes using LHCI: localised haplotype-clustering imputation)\n",
    "- selected (only SNPs on chromosomes 25, 26, 27, 28, 29)\n",
    "\n",
    "We begin by using a reduced version of the dataset, where $0.5\\%$ of the SNP loci have been randomly picked: "
   ]
  },
  {
   "cell_type": "code",
   "execution_count": 2,
   "id": "dirty-infrared",
   "metadata": {
    "label": "reading_data"
   },
   "outputs": [
    {
     "data": {
      "text/html": [
       "<table class=\"dataframe\">\n",
       "<caption>A data.table: 6 × 46</caption>\n",
       "<thead>\n",
       "\t<tr><th scope=col>PHENOTYPE</th><th scope=col>chr25.11293074_A</th><th scope=col>chr25.19440033_G</th><th scope=col>chr25.23946569_A</th><th scope=col>chr25.24073769_C</th><th scope=col>chr25.50815850_A</th><th scope=col>chr25.52465894_G</th><th scope=col>chr26.3008718_T</th><th scope=col>chr26.4305281_G</th><th scope=col>chr26.5245240_A</th><th scope=col>⋯</th><th scope=col>chr29.16492959_A</th><th scope=col>chr29.20943818_T</th><th scope=col>chr29.23503804_A</th><th scope=col>chr29.24525289_T</th><th scope=col>chr29.29116808_C</th><th scope=col>chr29.30958662_G</th><th scope=col>chr29.32818481_C</th><th scope=col>chr29.36491804_T</th><th scope=col>chr29.37724282_T</th><th scope=col>chr29.39749180_C</th></tr>\n",
       "\t<tr><th scope=col>&lt;dbl&gt;</th><th scope=col>&lt;int&gt;</th><th scope=col>&lt;int&gt;</th><th scope=col>&lt;int&gt;</th><th scope=col>&lt;int&gt;</th><th scope=col>&lt;int&gt;</th><th scope=col>&lt;int&gt;</th><th scope=col>&lt;int&gt;</th><th scope=col>&lt;int&gt;</th><th scope=col>&lt;int&gt;</th><th scope=col>⋯</th><th scope=col>&lt;int&gt;</th><th scope=col>&lt;int&gt;</th><th scope=col>&lt;int&gt;</th><th scope=col>&lt;int&gt;</th><th scope=col>&lt;int&gt;</th><th scope=col>&lt;int&gt;</th><th scope=col>&lt;int&gt;</th><th scope=col>&lt;int&gt;</th><th scope=col>&lt;int&gt;</th><th scope=col>&lt;int&gt;</th></tr>\n",
       "</thead>\n",
       "<tbody>\n",
       "\t<tr><td>1</td><td>0</td><td>0</td><td>1</td><td>1</td><td>0</td><td>1</td><td>1</td><td>0</td><td>1</td><td>⋯</td><td>0</td><td>0</td><td>0</td><td>0</td><td>0</td><td>1</td><td>1</td><td>1</td><td>0</td><td>0</td></tr>\n",
       "\t<tr><td>1</td><td>0</td><td>0</td><td>0</td><td>1</td><td>0</td><td>1</td><td>2</td><td>1</td><td>1</td><td>⋯</td><td>1</td><td>0</td><td>0</td><td>2</td><td>1</td><td>0</td><td>1</td><td>1</td><td>0</td><td>0</td></tr>\n",
       "\t<tr><td>0</td><td>0</td><td>0</td><td>1</td><td>2</td><td>0</td><td>0</td><td>0</td><td>0</td><td>0</td><td>⋯</td><td>1</td><td>1</td><td>1</td><td>1</td><td>0</td><td>0</td><td>0</td><td>0</td><td>0</td><td>0</td></tr>\n",
       "\t<tr><td>0</td><td>0</td><td>1</td><td>0</td><td>1</td><td>0</td><td>0</td><td>1</td><td>1</td><td>0</td><td>⋯</td><td>0</td><td>0</td><td>0</td><td>1</td><td>0</td><td>0</td><td>0</td><td>0</td><td>0</td><td>0</td></tr>\n",
       "\t<tr><td>0</td><td>1</td><td>1</td><td>0</td><td>0</td><td>0</td><td>1</td><td>0</td><td>0</td><td>0</td><td>⋯</td><td>0</td><td>0</td><td>0</td><td>0</td><td>0</td><td>1</td><td>1</td><td>0</td><td>1</td><td>0</td></tr>\n",
       "\t<tr><td>1</td><td>0</td><td>0</td><td>0</td><td>1</td><td>0</td><td>0</td><td>2</td><td>1</td><td>1</td><td>⋯</td><td>0</td><td>0</td><td>0</td><td>1</td><td>0</td><td>1</td><td>2</td><td>1</td><td>0</td><td>0</td></tr>\n",
       "</tbody>\n",
       "</table>\n"
      ],
      "text/latex": [
       "A data.table: 6 × 46\n",
       "\\begin{tabular}{lllllllllllllllllllll}\n",
       " PHENOTYPE & chr25.11293074\\_A & chr25.19440033\\_G & chr25.23946569\\_A & chr25.24073769\\_C & chr25.50815850\\_A & chr25.52465894\\_G & chr26.3008718\\_T & chr26.4305281\\_G & chr26.5245240\\_A & ⋯ & chr29.16492959\\_A & chr29.20943818\\_T & chr29.23503804\\_A & chr29.24525289\\_T & chr29.29116808\\_C & chr29.30958662\\_G & chr29.32818481\\_C & chr29.36491804\\_T & chr29.37724282\\_T & chr29.39749180\\_C\\\\\n",
       " <dbl> & <int> & <int> & <int> & <int> & <int> & <int> & <int> & <int> & <int> & ⋯ & <int> & <int> & <int> & <int> & <int> & <int> & <int> & <int> & <int> & <int>\\\\\n",
       "\\hline\n",
       "\t 1 & 0 & 0 & 1 & 1 & 0 & 1 & 1 & 0 & 1 & ⋯ & 0 & 0 & 0 & 0 & 0 & 1 & 1 & 1 & 0 & 0\\\\\n",
       "\t 1 & 0 & 0 & 0 & 1 & 0 & 1 & 2 & 1 & 1 & ⋯ & 1 & 0 & 0 & 2 & 1 & 0 & 1 & 1 & 0 & 0\\\\\n",
       "\t 0 & 0 & 0 & 1 & 2 & 0 & 0 & 0 & 0 & 0 & ⋯ & 1 & 1 & 1 & 1 & 0 & 0 & 0 & 0 & 0 & 0\\\\\n",
       "\t 0 & 0 & 1 & 0 & 1 & 0 & 0 & 1 & 1 & 0 & ⋯ & 0 & 0 & 0 & 1 & 0 & 0 & 0 & 0 & 0 & 0\\\\\n",
       "\t 0 & 1 & 1 & 0 & 0 & 0 & 1 & 0 & 0 & 0 & ⋯ & 0 & 0 & 0 & 0 & 0 & 1 & 1 & 0 & 1 & 0\\\\\n",
       "\t 1 & 0 & 0 & 0 & 1 & 0 & 0 & 2 & 1 & 1 & ⋯ & 0 & 0 & 0 & 1 & 0 & 1 & 2 & 1 & 0 & 0\\\\\n",
       "\\end{tabular}\n"
      ],
      "text/markdown": [
       "\n",
       "A data.table: 6 × 46\n",
       "\n",
       "| PHENOTYPE &lt;dbl&gt; | chr25.11293074_A &lt;int&gt; | chr25.19440033_G &lt;int&gt; | chr25.23946569_A &lt;int&gt; | chr25.24073769_C &lt;int&gt; | chr25.50815850_A &lt;int&gt; | chr25.52465894_G &lt;int&gt; | chr26.3008718_T &lt;int&gt; | chr26.4305281_G &lt;int&gt; | chr26.5245240_A &lt;int&gt; | ⋯ ⋯ | chr29.16492959_A &lt;int&gt; | chr29.20943818_T &lt;int&gt; | chr29.23503804_A &lt;int&gt; | chr29.24525289_T &lt;int&gt; | chr29.29116808_C &lt;int&gt; | chr29.30958662_G &lt;int&gt; | chr29.32818481_C &lt;int&gt; | chr29.36491804_T &lt;int&gt; | chr29.37724282_T &lt;int&gt; | chr29.39749180_C &lt;int&gt; |\n",
       "|---|---|---|---|---|---|---|---|---|---|---|---|---|---|---|---|---|---|---|---|---|\n",
       "| 1 | 0 | 0 | 1 | 1 | 0 | 1 | 1 | 0 | 1 | ⋯ | 0 | 0 | 0 | 0 | 0 | 1 | 1 | 1 | 0 | 0 |\n",
       "| 1 | 0 | 0 | 0 | 1 | 0 | 1 | 2 | 1 | 1 | ⋯ | 1 | 0 | 0 | 2 | 1 | 0 | 1 | 1 | 0 | 0 |\n",
       "| 0 | 0 | 0 | 1 | 2 | 0 | 0 | 0 | 0 | 0 | ⋯ | 1 | 1 | 1 | 1 | 0 | 0 | 0 | 0 | 0 | 0 |\n",
       "| 0 | 0 | 1 | 0 | 1 | 0 | 0 | 1 | 1 | 0 | ⋯ | 0 | 0 | 0 | 1 | 0 | 0 | 0 | 0 | 0 | 0 |\n",
       "| 0 | 1 | 1 | 0 | 0 | 0 | 1 | 0 | 0 | 0 | ⋯ | 0 | 0 | 0 | 0 | 0 | 1 | 1 | 0 | 1 | 0 |\n",
       "| 1 | 0 | 0 | 0 | 1 | 0 | 0 | 2 | 1 | 1 | ⋯ | 0 | 0 | 0 | 1 | 0 | 1 | 2 | 1 | 0 | 0 |\n",
       "\n"
      ],
      "text/plain": [
       "  PHENOTYPE chr25.11293074_A chr25.19440033_G chr25.23946569_A chr25.24073769_C\n",
       "1 1         0                0                1                1               \n",
       "2 1         0                0                0                1               \n",
       "3 0         0                0                1                2               \n",
       "4 0         0                1                0                1               \n",
       "5 0         1                1                0                0               \n",
       "6 1         0                0                0                1               \n",
       "  chr25.50815850_A chr25.52465894_G chr26.3008718_T chr26.4305281_G\n",
       "1 0                1                1               0              \n",
       "2 0                1                2               1              \n",
       "3 0                0                0               0              \n",
       "4 0                0                1               1              \n",
       "5 0                1                0               0              \n",
       "6 0                0                2               1              \n",
       "  chr26.5245240_A ⋯ chr29.16492959_A chr29.20943818_T chr29.23503804_A\n",
       "1 1               ⋯ 0                0                0               \n",
       "2 1               ⋯ 1                0                0               \n",
       "3 0               ⋯ 1                1                1               \n",
       "4 0               ⋯ 0                0                0               \n",
       "5 0               ⋯ 0                0                0               \n",
       "6 1               ⋯ 0                0                0               \n",
       "  chr29.24525289_T chr29.29116808_C chr29.30958662_G chr29.32818481_C\n",
       "1 0                0                1                1               \n",
       "2 2                1                0                1               \n",
       "3 1                0                0                0               \n",
       "4 1                0                0                0               \n",
       "5 0                0                1                1               \n",
       "6 1                0                1                2               \n",
       "  chr29.36491804_T chr29.37724282_T chr29.39749180_C\n",
       "1 1                0                0               \n",
       "2 1                0                0               \n",
       "3 0                0                0               \n",
       "4 0                0                0               \n",
       "5 0                1                0               \n",
       "6 1                0                0               "
      ]
     },
     "metadata": {},
     "output_type": "display_data"
    },
    {
     "name": "stdout",
     "output_type": "stream",
     "text": [
      "[1] 125\n",
      "[1] 45\n"
     ]
    }
   ],
   "source": [
    "dogs <- fread(\"../data/dogs_imputed_reduced.raw\")\n",
    "dogs <- dogs %>%\n",
    "  select(-c(IID,FID,PAT,MAT,SEX))\n",
    "\n",
    "## values for logistic regression in glm() must be 0 - 1\n",
    "dogs$PHENOTYPE = dogs$PHENOTYPE-1\n",
    "head(dogs)\n",
    "print(nrow(dogs))\n",
    "print(ncol(dogs)-1)"
   ]
  },
  {
   "cell_type": "markdown",
   "id": "favorite-venezuela",
   "metadata": {},
   "source": [
    "The dataset contains data on `r nrow(dogs)` and `r ncol(dogs)-2` SNP genotypes.\n",
    "Controls (dogs without cleft lip) are coded as `1`'s, cases (dogs with cleft lip) are coded as `2`'s:"
   ]
  },
  {
   "cell_type": "code",
   "execution_count": 3,
   "id": "exclusive-gentleman",
   "metadata": {},
   "outputs": [
    {
     "data": {
      "text/html": [
       "<table class=\"dataframe\">\n",
       "<caption>A tibble: 2 × 2</caption>\n",
       "<thead>\n",
       "\t<tr><th scope=col>PHENOTYPE</th><th scope=col>N</th></tr>\n",
       "\t<tr><th scope=col>&lt;dbl&gt;</th><th scope=col>&lt;int&gt;</th></tr>\n",
       "</thead>\n",
       "<tbody>\n",
       "\t<tr><td>0</td><td>112</td></tr>\n",
       "\t<tr><td>1</td><td> 13</td></tr>\n",
       "</tbody>\n",
       "</table>\n"
      ],
      "text/latex": [
       "A tibble: 2 × 2\n",
       "\\begin{tabular}{ll}\n",
       " PHENOTYPE & N\\\\\n",
       " <dbl> & <int>\\\\\n",
       "\\hline\n",
       "\t 0 & 112\\\\\n",
       "\t 1 &  13\\\\\n",
       "\\end{tabular}\n"
      ],
      "text/markdown": [
       "\n",
       "A tibble: 2 × 2\n",
       "\n",
       "| PHENOTYPE &lt;dbl&gt; | N &lt;int&gt; |\n",
       "|---|---|\n",
       "| 0 | 112 |\n",
       "| 1 |  13 |\n",
       "\n"
      ],
      "text/plain": [
       "  PHENOTYPE N  \n",
       "1 0         112\n",
       "2 1          13"
      ]
     },
     "metadata": {},
     "output_type": "display_data"
    }
   ],
   "source": [
    "dogs %>%\n",
    "  group_by(PHENOTYPE) %>%\n",
    "  summarise(N=n())"
   ]
  },
  {
   "cell_type": "code",
   "execution_count": 4,
   "id": "attended-hebrew",
   "metadata": {},
   "outputs": [],
   "source": [
    "maf_controls <- colSums(dogs[dogs$PHENOTYPE==0,-c(1,2)])/(2*nrow(dogs[dogs$PHENOTYPE==0,]))\n",
    "maf_cases <- colSums(dogs[dogs$PHENOTYPE==1,-c(1,2)])/(2*nrow(dogs[dogs$PHENOTYPE==1,]))"
   ]
  },
  {
   "cell_type": "code",
   "execution_count": 5,
   "id": "sticky-experience",
   "metadata": {
    "lines_to_next_cell": 2
   },
   "outputs": [
    {
     "name": "stderr",
     "output_type": "stream",
     "text": [
      "No id variables; using all as measure variables\n",
      "\n"
     ]
    },
    {
     "data": {
      "image/png": "[encoded data removed]",
      "text/plain": [
       "plot without title"
      ]
     },
     "metadata": {
      "image/png": {
       "height": 420,
       "width": 420
      }
     },
     "output_type": "display_data"
    }
   ],
   "source": [
    "maf <- data.frame(\"cases\"=maf_cases, \"controls\"=maf_controls)\n",
    "mD <- reshape2::melt(maf)\n",
    "ggplot(mD, aes(y = value, x = variable)) + geom_boxplot(aes(fill=variable)) + xlab(element_blank()) + ylab(\"MAF\")"
   ]
  },
  {
   "cell_type": "markdown",
   "id": "grand-ethics",
   "metadata": {},
   "source": [
    "## Fitting the logistic regression model\n",
    "\n",
    "We now split the data into training and test set, and then fit the logistic regression model to the training set.\n",
    "We have an **unbalanced binomial dataset** (13 cases, 112 controls, tot = 125), therefore we may want to keep the same proportion of cases adn controls when sampling the training and the test sets. To do so, we can use what is called \"**stratified sampling**\":\n"
   ]
  },
  {
   "cell_type": "code",
   "execution_count": 6,
   "id": "vulnerable-masters",
   "metadata": {
    "lines_to_next_cell": 0,
    "name": "logistic",
    "tags": [
     "remove_input"
    ]
   },
   "outputs": [
    {
     "data": {
      "text/plain": [
       "\n",
       " 0  1 \n",
       "78  9 "
      ]
     },
     "metadata": {},
     "output_type": "display_data"
    },
    {
     "data": {
      "text/plain": [
       "\n",
       " 0  1 \n",
       "34  4 "
      ]
     },
     "metadata": {},
     "output_type": "display_data"
    }
   ],
   "source": [
    "seed = 121\n",
    "set.seed(seed)\n",
    "\n",
    "dogs$id <- paste(\"id\",seq(1,nrow(dogs)), sep=\"_\")\n",
    "\n",
    "training_set <- dogs %>%\n",
    "  group_by(PHENOTYPE) %>%\n",
    "  sample_frac(size = 0.7)\n",
    "\n",
    "test_recs <- !(dogs$id %in% training_set$id)\n",
    "test_set <- dogs[test_recs,]\n",
    "\n",
    "training_set$id <- NULL\n",
    "test_set$id <- NULL\n",
    "\n",
    "table(training_set$PHENOTYPE)\n",
    "table(test_set$PHENOTYPE)"
   ]
  },
  {
   "cell_type": "markdown",
   "id": "million-praise",
   "metadata": {},
   "source": [
    "In *R*, you can use the function `glm()` (generalised linear model) that allows you to specify the distribution (binomial in this case) and the link function (logit, in this case)."
   ]
  },
  {
   "cell_type": "code",
   "execution_count": 7,
   "id": "clean-addiction",
   "metadata": {},
   "outputs": [
    {
     "name": "stderr",
     "output_type": "stream",
     "text": [
      "Warning message:\n",
      "“glm.fit: algorithm did not converge”\n",
      "Warning message:\n",
      "“glm.fit: fitted probabilities numerically 0 or 1 occurred”\n"
     ]
    }
   ],
   "source": [
    "glm.fit <- glm(PHENOTYPE ~ ., data = training_set, family=binomial(link=\"logit\"))"
   ]
  },
  {
   "cell_type": "markdown",
   "id": "strong-oxide",
   "metadata": {},
   "source": [
    "## Making predictions\n",
    "\n",
    "To make predictions, we apply the fitted model to the test data. We get probabilities of being a case ($$p(y=1|x)$$), and we need to set a threshold to discriminate between cases (1's) and controls (0's): a common choice for the threshold is **0.5**. "
   ]
  },
  {
   "cell_type": "code",
   "execution_count": 8,
   "id": "exceptional-request",
   "metadata": {},
   "outputs": [
    {
     "data": {
      "text/plain": [
       "        \n",
       "glm.pred  0  1\n",
       "       0 28  3\n",
       "       1  6  1"
      ]
     },
     "metadata": {},
     "output_type": "display_data"
    }
   ],
   "source": [
    "glm.probs <- predict(glm.fit, newdata = test_set[,-1],type=\"response\") \n",
    "glm.pred <- ifelse(glm.probs > 0.5, 1, 0)\n",
    "table(glm.pred,test_set$PHENOTYPE)"
   ]
  },
  {
   "cell_type": "code",
   "execution_count": 10,
   "id": "behavioral-joseph",
   "metadata": {},
   "outputs": [
    {
     "name": "stdout",
     "output_type": "stream",
     "text": [
      "[1] 0.7631579\n"
     ]
    }
   ],
   "source": [
    "error = mean(glm.pred!=test_set$PHENOTYPE)\n",
    "accuracy = 1 - error\n",
    "print(accuracy)"
   ]
  },
  {
   "cell_type": "markdown",
   "id": "unlikely-summit",
   "metadata": {},
   "source": [
    "The error rate is `r round(error,4)`; equivalently we can express this as accuracy (1-error rate) `r round(accuracy,3)`"
   ]
  },
  {
   "cell_type": "code",
   "execution_count": 11,
   "id": "understood-dairy",
   "metadata": {},
   "outputs": [
    {
     "name": "stdout",
     "output_type": "stream",
     "text": [
      "[1] 0.1764706\n",
      "[1] 0.75\n"
     ]
    }
   ],
   "source": [
    "TER = sum(glm.pred != test_set$PHENOTYPE)/length(glm.pred)\n",
    "TP = sum(glm.pred == 1 & test_set$PHENOTYPE == 1)\n",
    "FN = sum(glm.pred == 0 & test_set$PHENOTYPE == 1)\n",
    "TN = sum(glm.pred == 0 & test_set$PHENOTYPE == 0)\n",
    "FP = sum(glm.pred == 1 & test_set$PHENOTYPE == 0)\n",
    "FPR = FP/(FP+TN)\n",
    "FNR = FN/(FN+TP)\n",
    "print(FPR)\n",
    "print(FNR)"
   ]
  },
  {
   "cell_type": "markdown",
   "id": "invalid-symposium",
   "metadata": {},
   "source": [
    "False postive rate is `r FPR`, false negative rate is `r FNR`\n",
    "\n",
    "## Exercise 4.1\n",
    "\n",
    "- implement k-fold cross-validation to assess the performance of the logistic regression model:"
   ]
  },
  {
   "cell_type": "code",
   "execution_count": null,
   "id": "brutal-rough",
   "metadata": {},
   "outputs": [],
   "source": [
    "n = nrow(dogs)\n",
    "k = 0"
   ]
  },
  {
   "cell_type": "code",
   "execution_count": null,
   "id": "sought-diagram",
   "metadata": {},
   "outputs": [],
   "source": [
    "## continue with your code here"
   ]
  },
  {
   "cell_type": "markdown",
   "id": "exterior-sleep",
   "metadata": {},
   "source": [
    "## ROC curves\n",
    "\n",
    "We use the same training/test split as above:"
   ]
  },
  {
   "cell_type": "code",
   "execution_count": null,
   "id": "disturbed-algorithm",
   "metadata": {},
   "outputs": [],
   "source": [
    "glm.fit <- glm(PHENOTYPE ~ ., data = training_set, family=binomial(link=\"logit\"))\n",
    "\n",
    "glm.probs <- predict(glm.fit, newdata = test_set[,-1],type=\"response\") \n",
    "glm.pred <- ifelse(glm.probs > 0.5, 1, 0)\n",
    "table(glm.pred,test_set$PHENOTYPE)"
   ]
  },
  {
   "cell_type": "code",
   "execution_count": null,
   "id": "complex-colleague",
   "metadata": {
    "label": "roc",
    "lines_to_next_cell": 0
   },
   "outputs": [],
   "source": [
    "library(\"ROCit\")\n",
    "\n",
    "ROCit_logit <- rocit(score=glm.probs,class=test_set$PHENOTYPE)\n",
    "plot(ROCit_logit)\n",
    "save(ROCit_logit, file = \"ROClogit.RData\") ## saving results in a local file"
   ]
  },
  {
   "cell_type": "markdown",
   "id": "going-clone",
   "metadata": {},
   "source": [
    "\n"
   ]
  }
 ],
 "metadata": {
  "jupytext": {
   "cell_metadata_filter": "name,tags,label,-all",
   "main_language": "R",
   "notebook_metadata_filter": "-all"
  },
  "kernelspec": {
   "display_name": "R",
   "language": "R",
   "name": "ir"
  },
  "language_info": {
   "codemirror_mode": "r",
   "file_extension": ".r",
   "mimetype": "text/x-r-source",
   "name": "R",
   "pygments_lexer": "r",
   "version": "4.1.2"
  }
 },
 "nbformat": 4,
 "nbformat_minor": 5
}
