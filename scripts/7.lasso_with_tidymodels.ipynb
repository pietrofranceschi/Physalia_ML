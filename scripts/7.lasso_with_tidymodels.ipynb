{
 "cells": [
  {
   "cell_type": "raw",
   "id": "exotic-essay",
   "metadata": {},
   "source": [
    "---\n",
    "title: \"Lasso regularization\"\n",
    "author: \"Filippo Biscarini\"\n",
    "date: \"7/8/2020\"\n",
    "output: html_document\n",
    "---"
   ]
  },
  {
   "cell_type": "code",
   "execution_count": null,
   "id": "marked-trash",
   "metadata": {},
   "outputs": [],
   "source": [
    "library(\"knitr\")\n",
    "library(\"glmnet\")\n",
    "library(\"ggplot2\")\n",
    "library(\"tidyverse\")\n",
    "library(\"tidymodels\")\n",
    "library(\"data.table\")"
   ]
  },
  {
   "cell_type": "markdown",
   "id": "oriented-asthma",
   "metadata": {},
   "source": [
    "## Lasso-penalised logistic regression using tidymodels\n",
    "\n",
    "For this illustration, we will use the metabolomics dataset on NMR spectroscopy metabolite abundances in diabetes patients (with controls):"
   ]
  },
  {
   "cell_type": "code",
   "execution_count": null,
   "id": "weekly-diary",
   "metadata": {},
   "outputs": [],
   "source": [
    "mtbsl1 <- fread(\"../data/MTBSL1.tsv\")\n",
    "nrow(mtbsl1)"
   ]
  },
  {
   "cell_type": "code",
   "execution_count": null,
   "id": "arranged-blame",
   "metadata": {
    "scrolled": true
   },
   "outputs": [],
   "source": [
    "head(mtbsl1)"
   ]
  },
  {
   "cell_type": "code",
   "execution_count": null,
   "id": "stopped-median",
   "metadata": {},
   "outputs": [],
   "source": [
    "names(mtbsl1)[c(4:ncol(mtbsl1))] <- paste(\"mtbl\",seq(1,ncol(mtbsl1)-3), sep = \"_\")\n",
    "print(paste(\"N. of columns;\", ncol(mtbsl1)))"
   ]
  },
  {
   "cell_type": "markdown",
   "id": "right-cleanup",
   "metadata": {},
   "source": [
    "We have **132 records** and **189 variables** (191 - 2 (`ID` and `Metabolic_syndrome`)): still, $p > n$.\n",
    "We see now the distribution of classes (control, diabetes) per sex (not dramatically unbalanced):"
   ]
  },
  {
   "cell_type": "code",
   "execution_count": null,
   "id": "passive-overview",
   "metadata": {},
   "outputs": [],
   "source": [
    "table(mtbsl1$Metabolic_syndrome,mtbsl1$Gender)"
   ]
  },
  {
   "cell_type": "markdown",
   "id": "independent-sierra",
   "metadata": {},
   "source": [
    "We can see that the metabolites abundances have largely different scales/magnitudes, and it could be a good idea to normalise them before running the model (remember that Lasso constraints the size of the coefficients, and these depend on the magnitude of each variable $\\rightarrow$ same $\\lambda$ applied to all variables).\n",
    "\n",
    "This is the range between maximum values across metabolites:"
   ]
  },
  {
   "cell_type": "code",
   "execution_count": null,
   "id": "mighty-milan",
   "metadata": {},
   "outputs": [],
   "source": [
    "mm_diab <- mtbsl1 %>%\n",
    "  gather(key = \"metabolite\", value = \"abundance\", -c(`Primary ID`,Gender,Metabolic_syndrome))\n",
    "\n",
    "group_by(mm_diab, metabolite) %>% summarise(max_each=max(abundance)) %>% summarise(min = min(max_each), max = max(max_each))"
   ]
  },
  {
   "cell_type": "markdown",
   "id": "characteristic-companion",
   "metadata": {},
   "source": [
    "Below the boxplots of the distributions of values for all metabolites:"
   ]
  },
  {
   "cell_type": "code",
   "execution_count": null,
   "id": "aerial-happiness",
   "metadata": {},
   "outputs": [],
   "source": [
    "library(\"repr\")\n",
    "options(repr.plot.width=14, repr.plot.height=8)\n",
    "\n",
    "mm_diab %>%\n",
    "  ggplot(aes(metabolite, abundance, fill = as.factor(metabolite))) +\n",
    "  geom_boxplot(show.legend = FALSE)"
   ]
  },
  {
   "cell_type": "markdown",
   "id": "arbitrary-quick",
   "metadata": {},
   "source": [
    "### Training and test sets\n",
    "\n",
    "We now split the data in the training and test sets using `tidymodels` functions: we now split in a stratified way, because we want to keep a similar proportion of cases and controls in both the training and test sets. "
   ]
  },
  {
   "cell_type": "code",
   "execution_count": null,
   "id": "minus-matrix",
   "metadata": {},
   "outputs": [],
   "source": [
    "diab_dt <- select(mtbsl1, -c(`Primary ID`, Gender)) ## remove gender for the moment, and keep only numeric features for convinience\n",
    "mtbsl1_split <- initial_split(diab_dt, strata = Metabolic_syndrome)\n",
    "mtbsl1_train <- training(mtbsl1_split)\n",
    "mtbsl1_test <- testing(mtbsl1_split)"
   ]
  },
  {
   "cell_type": "markdown",
   "id": "knowing-japanese",
   "metadata": {},
   "source": [
    "### Preprocessing\n",
    "\n",
    "We remove variables with zero variance (no variability, not informative) and normalise all numeric variables: to do so, we build a preprocessing \"recipe\", where we specify:\n",
    "\n",
    "- the model equation: diabetes/control as a function of all metabolites\n",
    "- remove all predictors (non-outcome variables) that don't have variance\n",
    "- normalize all numeric predictors (standard deviation of one and a mean of zero)"
   ]
  },
  {
   "cell_type": "code",
   "execution_count": null,
   "id": "ancient-breast",
   "metadata": {},
   "outputs": [],
   "source": [
    "## build a recipe for preprocessing\n",
    "mtbsl1_rec <- recipe(Metabolic_syndrome ~ ., data = mtbsl1_train) %>%\n",
    "  # update_role(`Primary ID`, new_role = \"ID\") %>%\n",
    "  step_zv(all_numeric(), -all_outcomes()) %>%\n",
    "  step_normalize(all_numeric(), -all_outcomes())\n",
    "\n",
    "print(mtbsl1_rec)"
   ]
  },
  {
   "cell_type": "markdown",
   "id": "substantial-anchor",
   "metadata": {},
   "source": [
    "Now we use the `tidymodels` functions `prep()` and `juice()` to obtain the preprocessed training set:"
   ]
  },
  {
   "cell_type": "code",
   "execution_count": null,
   "id": "hollywood-ticket",
   "metadata": {},
   "outputs": [],
   "source": [
    "mtbsl1_prep <- mtbsl1_rec %>%\n",
    "  prep(strings_as_factors = FALSE)\n",
    "\n",
    "print(mtbsl1_prep)\n",
    "mtbsl1_train <- juice(mtbsl1_prep)"
   ]
  },
  {
   "cell_type": "code",
   "execution_count": null,
   "id": "surprised-chester",
   "metadata": {},
   "outputs": [],
   "source": [
    "mm_train <- mtbsl1_train %>%\n",
    "  gather(key = \"metabolite\", value = \"abundance\", -c(Metabolic_syndrome))\n",
    "\n",
    "print(group_by(mm_train, metabolite) %>% summarise(mean(abundance),sd(abundance)))"
   ]
  },
  {
   "cell_type": "code",
   "execution_count": null,
   "id": "desirable-correction",
   "metadata": {},
   "outputs": [],
   "source": [
    "options(repr.plot.width=14, repr.plot.height=8)\n",
    "mm_train %>%\n",
    "  ggplot(aes(metabolite, abundance, fill = as.factor(metabolite))) +\n",
    "  geom_boxplot(show.legend = FALSE)"
   ]
  },
  {
   "cell_type": "markdown",
   "id": "vertical-polymer",
   "metadata": {},
   "source": [
    "## The Lasso model\n",
    "\n",
    "We start by specifying our Lasso model:\n",
    "\n",
    "- it's logistic regression for a classification problem\n",
    "- we set the $\\lambda$ parameter (penalty) to the arbitrary value of 0.1\n",
    "- mixture: amount of L1 regularization, when 1 it's Lasso (0 is Ridge regression)\n",
    "- the engine is set to `glmnet`\n",
    "\n",
    "Then we add everything to a workflow object, piecewise, and fit the Lasso model:"
   ]
  },
  {
   "cell_type": "code",
   "execution_count": null,
   "id": "worth-breakdown",
   "metadata": {},
   "outputs": [],
   "source": [
    "lasso_spec <- logistic_reg(mode = \"classification\", penalty = 0.1, mixture = 1) %>%\n",
    "  set_engine(\"glmnet\")\n",
    "print(lasso_spec)"
   ]
  },
  {
   "cell_type": "code",
   "execution_count": null,
   "id": "familiar-baghdad",
   "metadata": {},
   "outputs": [],
   "source": [
    "wf <- workflow() %>%\n",
    "  add_recipe(mtbsl1_rec) %>%\n",
    "  add_model(lasso_spec)"
   ]
  },
  {
   "cell_type": "code",
   "execution_count": null,
   "id": "adult-marketplace",
   "metadata": {},
   "outputs": [],
   "source": [
    "lasso_fit <- wf %>%\n",
    "  fit(data = mtbsl1_train)"
   ]
  },
  {
   "cell_type": "code",
   "execution_count": null,
   "id": "valuable-burden",
   "metadata": {},
   "outputs": [],
   "source": [
    "lasso_fit %>%\n",
    "  pull_workflow_fit() %>%\n",
    "  tidy()"
   ]
  },
  {
   "cell_type": "code",
   "execution_count": null,
   "id": "wireless-grill",
   "metadata": {},
   "outputs": [],
   "source": [
    "lasso_fit %>%\n",
    "  pull_workflow_fit() %>%\n",
    "  tidy() %>%\n",
    "  filter(estimate > 0)"
   ]
  },
  {
   "cell_type": "markdown",
   "id": "fixed-flooring",
   "metadata": {},
   "source": [
    "## Tuning the hyperparameters\n",
    "\n",
    "We use k-fold cross-validation to tune the hyperparameters ($\\lambda$ penalty in this case) in the training set:\n",
    "\n",
    "- `vfold_cv`: to specify n. of folds (stratified) and replicates\n",
    "- `logistic_reg`: to specify that we want a logistic regression model for classification, we want to use Lasso penalization, and we are fine-tuning the penalty parameter\n",
    "- `grid_regular`: defines the range of penalty parameter values to try"
   ]
  },
  {
   "cell_type": "code",
   "execution_count": null,
   "id": "architectural-trunk",
   "metadata": {},
   "outputs": [],
   "source": [
    "diab_cv <- vfold_cv(mtbsl1_train, v=5, repeats = 10, strata = Metabolic_syndrome)\n",
    "\n",
    "tune_spec <- logistic_reg(mode = \"classification\", penalty = tune(), mixture = 1) %>%\n",
    "  set_engine(\"glmnet\")\n",
    "\n",
    "lambda_grid <- grid_regular(penalty(), levels = 50, filter = penalty <= .05)\n",
    "print(lambda_grid)"
   ]
  },
  {
   "cell_type": "code",
   "execution_count": null,
   "id": "threaded-guyana",
   "metadata": {},
   "outputs": [],
   "source": [
    "wf1 <- workflow() %>%\n",
    "  add_recipe(mtbsl1_rec) %>%\n",
    "  add_model(tune_spec) ## remember: the model equation was specified in the recipe (top of this document)\n",
    "\n",
    "print(wf1)"
   ]
  },
  {
   "cell_type": "markdown",
   "id": "driving-portsmouth",
   "metadata": {},
   "source": [
    "We are now ready to **fine-tune the model**!!"
   ]
  },
  {
   "cell_type": "code",
   "execution_count": null,
   "id": "ruled-pepper",
   "metadata": {},
   "outputs": [],
   "source": [
    "doParallel::registerDoParallel()\n",
    "\n",
    "lasso_grid <- tune_grid(\n",
    "  wf1,\n",
    "  resamples = diab_cv,\n",
    "  grid = lambda_grid\n",
    ")"
   ]
  },
  {
   "cell_type": "markdown",
   "id": "egyptian-trigger",
   "metadata": {},
   "source": [
    "Here we can see the results for each value of the penalty parmeter that was tried in the fine-tuning process:"
   ]
  },
  {
   "cell_type": "code",
   "execution_count": null,
   "id": "velvet-psychology",
   "metadata": {},
   "outputs": [],
   "source": [
    "lasso_grid %>%\n",
    "  collect_metrics()"
   ]
  },
  {
   "cell_type": "markdown",
   "id": "romance-reminder",
   "metadata": {},
   "source": [
    "Plotting the results will help us see what happened during fine-tuning of the model, and then select the best value for $\\lambda$ (the penalty parameter) based on the maximum AUC (binary classification problem):"
   ]
  },
  {
   "cell_type": "code",
   "execution_count": null,
   "id": "confidential-football",
   "metadata": {},
   "outputs": [],
   "source": [
    "lasso_grid %>%\n",
    "  collect_metrics() %>%\n",
    "  ggplot(aes(penalty, mean, color = .metric)) +\n",
    "  geom_errorbar(aes(\n",
    "    ymin = mean - std_err,\n",
    "    ymax = mean + std_err\n",
    "  ),\n",
    "  alpha = 0.5\n",
    "  ) +\n",
    "  geom_line(size = 1.5) +\n",
    "  facet_wrap(~.metric, scales = \"free\", nrow = 2) +\n",
    "  scale_x_log10() +\n",
    "  theme(legend.position = \"none\")"
   ]
  },
  {
   "cell_type": "code",
   "execution_count": null,
   "id": "vocal-ballot",
   "metadata": {},
   "outputs": [],
   "source": [
    "lowest_roc <- lasso_grid %>%\n",
    "  select_best(\"roc_auc\")\n",
    "\n",
    "print(lowest_roc)"
   ]
  },
  {
   "cell_type": "markdown",
   "id": "ceramic-symphony",
   "metadata": {},
   "source": [
    "With the selected penalty parameter from fine-tuning, we can (finally!)  finalize our workflow: "
   ]
  },
  {
   "cell_type": "code",
   "execution_count": null,
   "id": "vietnamese-dryer",
   "metadata": {
    "scrolled": true
   },
   "outputs": [],
   "source": [
    "final_lasso <- finalize_workflow(\n",
    "  wf1,\n",
    "  lowest_roc\n",
    ")\n",
    "\n",
    "print(final_lasso)"
   ]
  },
  {
   "cell_type": "markdown",
   "id": "pharmaceutical-breathing",
   "metadata": {},
   "source": [
    "## Testing the model\n",
    "\n",
    "We are now ready to test our fine-tuned Lasso model on the test partition:"
   ]
  },
  {
   "cell_type": "code",
   "execution_count": null,
   "id": "marked-subscription",
   "metadata": {},
   "outputs": [],
   "source": [
    "lr_res <- last_fit(\n",
    "  final_lasso,\n",
    "  mtbsl1_split\n",
    ") \n",
    "\n",
    "lr_res %>%\n",
    "  collect_metrics()\n"
   ]
  },
  {
   "cell_type": "code",
   "execution_count": null,
   "id": "circular-thickness",
   "metadata": {},
   "outputs": [],
   "source": [
    "lr_res %>% collect_predictions() %>%\n",
    "  group_by(.pred_class,Metabolic_syndrome) %>%\n",
    "  summarise(N=n()) %>%\n",
    "  spread(key = \".pred_class\", value = N)"
   ]
  },
  {
   "cell_type": "markdown",
   "id": "contrary-comparative",
   "metadata": {},
   "source": [
    "We can also do it step-by-step:\n",
    "\n",
    "1. preprocess the test data\n",
    "2. fit the final Lasso model to the training data\n",
    "3. make predictions on the test data\n"
   ]
  },
  {
   "cell_type": "code",
   "execution_count": null,
   "id": "collected-canadian",
   "metadata": {},
   "outputs": [],
   "source": [
    "mtbsl1_testing <- mtbsl1_prep %>% bake(testing(mtbsl1_split)) ## preprocess test data\n",
    "\n",
    "final_lasso_fit <- fit(final_lasso, data = mtbsl1_train) ## fit final model on the training set\n",
    "\n",
    "final_lasso_fit %>%\n",
    "  predict(mtbsl1_testing, type = \"class\") %>%\n",
    "  bind_cols(mtbsl1_testing) %>%\n",
    "  # metrics(truth = Metabolic_syndrome, estimate = .pred_class)\n",
    "  group_by(.pred_class,Metabolic_syndrome) %>%\n",
    "  summarise(N=n()) %>%\n",
    "  spread(key = \".pred_class\", value = N)"
   ]
  },
  {
   "cell_type": "code",
   "execution_count": null,
   "id": "together-navigation",
   "metadata": {},
   "outputs": [],
   "source": [
    "lr_auc <- \n",
    "  lr_res %>% \n",
    "  collect_predictions() %>% \n",
    "  roc_curve(Metabolic_syndrome,`.pred_Control Group`) %>% \n",
    "  mutate(model = \"Logistic Regression\")\n",
    "\n",
    "autoplot(lr_auc)"
   ]
  },
  {
   "cell_type": "markdown",
   "id": "acknowledged-serial",
   "metadata": {},
   "source": [
    "### Variable importance\n",
    "\n",
    "Lasso models have a nice side feature: they naturally select variables, based on the shrinking of some coefficients exactly to zero.\n",
    "Based on this, Lasso models can return the importance of the variables used to fit the model:"
   ]
  },
  {
   "cell_type": "code",
   "execution_count": null,
   "id": "superb-wesley",
   "metadata": {},
   "outputs": [],
   "source": [
    "library(\"vip\")\n",
    "\n",
    "## the sign of the coefficients is used to color differently the variables\n",
    "final_lasso %>%\n",
    "  fit(mtbsl1_train) %>%\n",
    "  pull_workflow_fit() %>%\n",
    "  vi(lambda = lowest_roc$penalty) %>%\n",
    "  mutate(\n",
    "    Importance = abs(Importance),\n",
    "    Variable = fct_reorder(Variable, Importance)\n",
    "  ) %>%\n",
    "  filter(Importance > 0) %>%\n",
    "  ggplot(aes(x = Importance, y = Variable, fill = Sign)) +\n",
    "  geom_col() +\n",
    "  scale_x_continuous(expand = c(0, 0)) +\n",
    "  labs(y = NULL)"
   ]
  },
  {
   "cell_type": "markdown",
   "id": "amino-palmer",
   "metadata": {},
   "source": [
    "## Add gender (factor) to the Lasso model\n",
    "\n",
    "To add factors to the Lasso model (engine `glmnet`) we need to use [one hot encoding](https://hackernoon.com/what-is-one-hot-encoding-why-and-when-do-you-have-to-use-it-e3c6186d008f)"
   ]
  },
  {
   "cell_type": "code",
   "execution_count": null,
   "id": "digital-timer",
   "metadata": {},
   "outputs": [],
   "source": [
    "diab_dt <- model.matrix(~ ., mtbsl1[,\"Gender\"]) %>% as_tibble() %>% select(GenderMale) %>% rename(gender = GenderMale) %>% \n",
    "bind_cols(diab_dt)\n",
    "\n",
    "head(diab_dt)"
   ]
  },
  {
   "cell_type": "markdown",
   "id": "considerable-particle",
   "metadata": {},
   "source": [
    "#### Interactive exercise\n",
    "\n",
    "We'll now rerun a Lasso-penalised logistic regression model including Gender as feature, going together through the steps involved in Lasso models with `tidymodels`:\n",
    "\n",
    "1. splitting the data\n",
    "2. preprocessing\n",
    "3. hyperparameters tuning\n",
    "4. fitting the final model\n",
    "5. predictions on the test set"
   ]
  },
  {
   "cell_type": "code",
   "execution_count": null,
   "id": "taken-amplifier",
   "metadata": {},
   "outputs": [],
   "source": [
    "## code here\n"
   ]
  },
  {
   "cell_type": "code",
   "execution_count": null,
   "id": "located-gasoline",
   "metadata": {},
   "outputs": [],
   "source": [
    "## code here"
   ]
  }
 ],
 "metadata": {
  "kernelspec": {
   "display_name": "R",
   "language": "R",
   "name": "ir"
  },
  "language_info": {
   "codemirror_mode": "r",
   "file_extension": ".r",
   "mimetype": "text/x-r-source",
   "name": "R",
   "pygments_lexer": "r",
   "version": "4.1.2"
  }
 },
 "nbformat": 4,
 "nbformat_minor": 5
}
