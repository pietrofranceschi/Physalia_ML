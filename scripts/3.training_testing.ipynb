{
 "cells": [
  {
   "cell_type": "raw",
   "id": "acute-queue",
   "metadata": {},
   "source": [
    "---\n",
    "title: \"training and test sets\"\n",
    "author: \"Filippo Biscarini\"\n",
    "date: \"7/6/2020\"\n",
    "output: html_document\n",
    "---"
   ]
  },
  {
   "cell_type": "code",
   "execution_count": 1,
   "id": "breathing-window",
   "metadata": {
    "name": "setup",
    "tags": [
     "remove_cell"
    ]
   },
   "outputs": [
    {
     "name": "stderr",
     "output_type": "stream",
     "text": [
      "corrplot 0.88 loaded\n",
      "\n",
      "── \u001b[1mAttaching packages\u001b[22m ────────────────────────────────────────────────────────────────────────────────────────────────────────────────────────────────────────────────────────────────────────── tidyverse 1.3.1 ──\n",
      "\n",
      "\u001b[32m✔\u001b[39m \u001b[34mtibble \u001b[39m 3.1.6     \u001b[32m✔\u001b[39m \u001b[34mdplyr  \u001b[39m 1.0.6\n",
      "\u001b[32m✔\u001b[39m \u001b[34mtidyr  \u001b[39m 1.1.3     \u001b[32m✔\u001b[39m \u001b[34mstringr\u001b[39m 1.4.0\n",
      "\u001b[32m✔\u001b[39m \u001b[34mreadr  \u001b[39m 2.1.2     \u001b[32m✔\u001b[39m \u001b[34mforcats\u001b[39m 0.5.1\n",
      "\u001b[32m✔\u001b[39m \u001b[34mpurrr  \u001b[39m 0.3.4     \n",
      "\n",
      "── \u001b[1mConflicts\u001b[22m ───────────────────────────────────────────────────────────────────────────────────────────────────────────────────────────────────────────────────────────────────────────── tidyverse_conflicts() ──\n",
      "\u001b[31m✖\u001b[39m \u001b[34mdplyr\u001b[39m::\u001b[32mfilter()\u001b[39m masks \u001b[34mstats\u001b[39m::filter()\n",
      "\u001b[31m✖\u001b[39m \u001b[34mdplyr\u001b[39m::\u001b[32mlag()\u001b[39m    masks \u001b[34mstats\u001b[39m::lag()\n",
      "\n",
      "Registered S3 method overwritten by 'tune':\n",
      "  method                   from   \n",
      "  required_pkgs.model_spec parsnip\n",
      "\n",
      "── \u001b[1mAttaching packages\u001b[22m ───────────────────────────────────────────────────────────────────────────────────────────────────────────────────────────────────────────────────────────────────────── tidymodels 0.1.3 ──\n",
      "\n",
      "\u001b[32m✔\u001b[39m \u001b[34mdials       \u001b[39m 0.0.9      \u001b[32m✔\u001b[39m \u001b[34mrsample     \u001b[39m 0.1.0 \n",
      "\u001b[32m✔\u001b[39m \u001b[34minfer       \u001b[39m 0.5.4      \u001b[32m✔\u001b[39m \u001b[34mtune        \u001b[39m 0.1.5 \n",
      "\u001b[32m✔\u001b[39m \u001b[34mmodeldata   \u001b[39m 0.1.0      \u001b[32m✔\u001b[39m \u001b[34mworkflows   \u001b[39m 0.2.2 \n",
      "\u001b[32m✔\u001b[39m \u001b[34mparsnip     \u001b[39m 0.1.7      \u001b[32m✔\u001b[39m \u001b[34mworkflowsets\u001b[39m 0.0.2 \n",
      "\u001b[32m✔\u001b[39m \u001b[34mrecipes     \u001b[39m 0.1.16     \u001b[32m✔\u001b[39m \u001b[34myardstick   \u001b[39m 0.0.8 \n",
      "\n",
      "── \u001b[1mConflicts\u001b[22m ──────────────────────────────────────────────────────────────────────────────────────────────────────────────────────────────────────────────────────────────────────────── tidymodels_conflicts() ──\n",
      "\u001b[31m✖\u001b[39m \u001b[34mscales\u001b[39m::\u001b[32mdiscard()\u001b[39m masks \u001b[34mpurrr\u001b[39m::discard()\n",
      "\u001b[31m✖\u001b[39m \u001b[34mdplyr\u001b[39m::\u001b[32mfilter()\u001b[39m   masks \u001b[34mstats\u001b[39m::filter()\n",
      "\u001b[31m✖\u001b[39m \u001b[34mrecipes\u001b[39m::\u001b[32mfixed()\u001b[39m  masks \u001b[34mstringr\u001b[39m::fixed()\n",
      "\u001b[31m✖\u001b[39m \u001b[34mdplyr\u001b[39m::\u001b[32mlag()\u001b[39m      masks \u001b[34mstats\u001b[39m::lag()\n",
      "\u001b[31m✖\u001b[39m \u001b[34myardstick\u001b[39m::\u001b[32mspec()\u001b[39m masks \u001b[34mreadr\u001b[39m::spec()\n",
      "\u001b[31m✖\u001b[39m \u001b[34mrecipes\u001b[39m::\u001b[32mstep()\u001b[39m   masks \u001b[34mstats\u001b[39m::step()\n",
      "\u001b[34m•\u001b[39m Use \u001b[32mtidymodels_prefer()\u001b[39m to resolve common conflicts.\n",
      "\n",
      "\n",
      "Attaching package: ‘data.table’\n",
      "\n",
      "\n",
      "The following objects are masked from ‘package:dplyr’:\n",
      "\n",
      "    between, first, last\n",
      "\n",
      "\n",
      "The following object is masked from ‘package:purrr’:\n",
      "\n",
      "    transpose\n",
      "\n",
      "\n",
      "The following objects are masked from ‘package:reshape2’:\n",
      "\n",
      "    dcast, melt\n",
      "\n",
      "\n"
     ]
    }
   ],
   "source": [
    "library(\"xlsx\")\n",
    "library(\"broom\")\n",
    "library(\"knitr\")\n",
    "library(\"ggplot2\")\n",
    "library(\"corrplot\")\n",
    "library(\"reshape2\")\n",
    "library(\"tidyverse\")\n",
    "library(\"tidymodels\")\n",
    "library(\"data.table\")\n",
    "\n",
    "knitr::opts_chunk$set(echo = TRUE)"
   ]
  },
  {
   "cell_type": "markdown",
   "id": "computational-makeup",
   "metadata": {},
   "source": [
    "## Reading the data\n",
    "\n",
    "For this practical session on linear regression we are using a dataset on the relationship between the age of wild bats and DNA methylation at specific CpG sites ([data](https://datadryad.org/stash/dataset/doi:10.5061/dryad.rn0198d); [paper](https://onlinelibrary.wiley.com/doi/abs/10.1111/1755-0998.12925)).\n",
    "\n",
    "The public dataset downloaded from Dryad is an `.xlsm` file, and can be read into *R* using the `read.xlsx()` function from the **xlsx** package."
   ]
  },
  {
   "cell_type": "code",
   "execution_count": 2,
   "id": "dress-subdivision",
   "metadata": {
    "label": "reading_data"
   },
   "outputs": [
    {
     "data": {
      "text/html": [
       "<table class=\"dataframe\">\n",
       "<caption>A data.frame: 6 × 8</caption>\n",
       "<thead>\n",
       "\t<tr><th></th><th scope=col>Age</th><th scope=col>CpG.1.TET2</th><th scope=col>CpG.2.TET2</th><th scope=col>CpG.3.TET2</th><th scope=col>CpG.4.TET2</th><th scope=col>CpG.GRIA2.1</th><th scope=col>CpG.GRIA2.2</th><th scope=col>ASPA.1</th></tr>\n",
       "\t<tr><th></th><th scope=col>&lt;dbl&gt;</th><th scope=col>&lt;dbl&gt;</th><th scope=col>&lt;dbl&gt;</th><th scope=col>&lt;dbl&gt;</th><th scope=col>&lt;dbl&gt;</th><th scope=col>&lt;dbl&gt;</th><th scope=col>&lt;dbl&gt;</th><th scope=col>&lt;dbl&gt;</th></tr>\n",
       "</thead>\n",
       "<tbody>\n",
       "\t<tr><th scope=row>1</th><td>0</td><td>29</td><td>21</td><td>26</td><td>31</td><td>2</td><td>2</td><td>61</td></tr>\n",
       "\t<tr><th scope=row>2</th><td>0</td><td>30</td><td>21</td><td>24</td><td>32</td><td>1</td><td>2</td><td>59</td></tr>\n",
       "\t<tr><th scope=row>3</th><td>1</td><td>44</td><td>38</td><td>51</td><td>53</td><td>1</td><td>5</td><td>48</td></tr>\n",
       "\t<tr><th scope=row>4</th><td>1</td><td>48</td><td>36</td><td>50</td><td>46</td><td>1</td><td>2</td><td>53</td></tr>\n",
       "\t<tr><th scope=row>5</th><td>1</td><td>22</td><td> 9</td><td>28</td><td>31</td><td>2</td><td>2</td><td>41</td></tr>\n",
       "\t<tr><th scope=row>6</th><td>1</td><td>42</td><td>30</td><td>40</td><td>41</td><td>0</td><td>4</td><td>59</td></tr>\n",
       "</tbody>\n",
       "</table>\n"
      ],
      "text/latex": [
       "A data.frame: 6 × 8\n",
       "\\begin{tabular}{r|llllllll}\n",
       "  & Age & CpG.1.TET2 & CpG.2.TET2 & CpG.3.TET2 & CpG.4.TET2 & CpG.GRIA2.1 & CpG.GRIA2.2 & ASPA.1\\\\\n",
       "  & <dbl> & <dbl> & <dbl> & <dbl> & <dbl> & <dbl> & <dbl> & <dbl>\\\\\n",
       "\\hline\n",
       "\t1 & 0 & 29 & 21 & 26 & 31 & 2 & 2 & 61\\\\\n",
       "\t2 & 0 & 30 & 21 & 24 & 32 & 1 & 2 & 59\\\\\n",
       "\t3 & 1 & 44 & 38 & 51 & 53 & 1 & 5 & 48\\\\\n",
       "\t4 & 1 & 48 & 36 & 50 & 46 & 1 & 2 & 53\\\\\n",
       "\t5 & 1 & 22 &  9 & 28 & 31 & 2 & 2 & 41\\\\\n",
       "\t6 & 1 & 42 & 30 & 40 & 41 & 0 & 4 & 59\\\\\n",
       "\\end{tabular}\n"
      ],
      "text/markdown": [
       "\n",
       "A data.frame: 6 × 8\n",
       "\n",
       "| <!--/--> | Age &lt;dbl&gt; | CpG.1.TET2 &lt;dbl&gt; | CpG.2.TET2 &lt;dbl&gt; | CpG.3.TET2 &lt;dbl&gt; | CpG.4.TET2 &lt;dbl&gt; | CpG.GRIA2.1 &lt;dbl&gt; | CpG.GRIA2.2 &lt;dbl&gt; | ASPA.1 &lt;dbl&gt; |\n",
       "|---|---|---|---|---|---|---|---|---|\n",
       "| 1 | 0 | 29 | 21 | 26 | 31 | 2 | 2 | 61 |\n",
       "| 2 | 0 | 30 | 21 | 24 | 32 | 1 | 2 | 59 |\n",
       "| 3 | 1 | 44 | 38 | 51 | 53 | 1 | 5 | 48 |\n",
       "| 4 | 1 | 48 | 36 | 50 | 46 | 1 | 2 | 53 |\n",
       "| 5 | 1 | 22 |  9 | 28 | 31 | 2 | 2 | 41 |\n",
       "| 6 | 1 | 42 | 30 | 40 | 41 | 0 | 4 | 59 |\n",
       "\n"
      ],
      "text/plain": [
       "  Age CpG.1.TET2 CpG.2.TET2 CpG.3.TET2 CpG.4.TET2 CpG.GRIA2.1 CpG.GRIA2.2\n",
       "1 0   29         21         26         31         2           2          \n",
       "2 0   30         21         24         32         1           2          \n",
       "3 1   44         38         51         53         1           5          \n",
       "4 1   48         36         50         46         1           2          \n",
       "5 1   22          9         28         31         2           2          \n",
       "6 1   42         30         40         41         0           4          \n",
       "  ASPA.1\n",
       "1 61    \n",
       "2 59    \n",
       "3 48    \n",
       "4 53    \n",
       "5 41    \n",
       "6 59    "
      ]
     },
     "metadata": {},
     "output_type": "display_data"
    }
   ],
   "source": [
    "ch4 <- read.xlsx(\"../data/DNA methylation data.xlsm\", sheetIndex = 1)\n",
    "ch4 <- na.omit(ch4[,-c(1,3)])\n",
    "head(ch4)"
   ]
  },
  {
   "cell_type": "markdown",
   "id": "catholic-discretion",
   "metadata": {},
   "source": [
    "## Training and testing sets\n",
    "\n",
    "We now need to subset the data into a **training set** and a **testing set**\n",
    "We can randomly assign records from the original dataset to the two subsets, for instance $80\\%$ to the training set and $20\\%$ to the test set:"
   ]
  },
  {
   "cell_type": "code",
   "execution_count": 5,
   "id": "straight-alcohol",
   "metadata": {
    "name": "pressure",
    "tags": [
     "remove_input"
    ]
   },
   "outputs": [],
   "source": [
    "# set.seed(295)\n",
    "n = nrow(ch4) ## sample size\n",
    "n_training = round(0.8*n,0)\n",
    "n_test = n - n_training\n",
    "\n",
    "training_records <- sample(n,n_training)\n",
    "training_set <- ch4[training_records,]\n",
    "test_set <- ch4[-training_records,]"
   ]
  },
  {
   "cell_type": "code",
   "execution_count": 6,
   "id": "brown-print",
   "metadata": {},
   "outputs": [
    {
     "data": {
      "text/html": [
       "47"
      ],
      "text/latex": [
       "47"
      ],
      "text/markdown": [
       "47"
      ],
      "text/plain": [
       "[1] 47"
      ]
     },
     "metadata": {},
     "output_type": "display_data"
    },
    {
     "data": {
      "text/html": [
       "12"
      ],
      "text/latex": [
       "12"
      ],
      "text/markdown": [
       "12"
      ],
      "text/plain": [
       "[1] 12"
      ]
     },
     "metadata": {},
     "output_type": "display_data"
    }
   ],
   "source": [
    "## sanity checks\n",
    "nrow(training_set)\n",
    "nrow(test_set)"
   ]
  },
  {
   "cell_type": "markdown",
   "id": "sufficient-accused",
   "metadata": {},
   "source": [
    "## Fitting the multiple linear regression model\n",
    "\n",
    "Note: we use only the **training data** to fit the model!"
   ]
  },
  {
   "cell_type": "code",
   "execution_count": 7,
   "id": "thrown-petite",
   "metadata": {},
   "outputs": [
    {
     "data": {
      "text/html": [
       "<table class=\"dataframe\">\n",
       "<caption>A tibble: 8 × 5</caption>\n",
       "<thead>\n",
       "\t<tr><th scope=col>term</th><th scope=col>estimate</th><th scope=col>std.error</th><th scope=col>statistic</th><th scope=col>p.value</th></tr>\n",
       "\t<tr><th scope=col>&lt;chr&gt;</th><th scope=col>&lt;dbl&gt;</th><th scope=col>&lt;dbl&gt;</th><th scope=col>&lt;dbl&gt;</th><th scope=col>&lt;dbl&gt;</th></tr>\n",
       "</thead>\n",
       "<tbody>\n",
       "\t<tr><td>(Intercept)</td><td> 2.67876082</td><td>3.77200954</td><td> 0.7101681</td><td>0.481825037</td></tr>\n",
       "\t<tr><td>CpG.1.TET2 </td><td>-0.33347721</td><td>0.14987390</td><td>-2.2250520</td><td>0.031932161</td></tr>\n",
       "\t<tr><td>CpG.2.TET2 </td><td> 0.44347535</td><td>0.13097398</td><td> 3.3859806</td><td>0.001629908</td></tr>\n",
       "\t<tr><td>CpG.3.TET2 </td><td>-0.09193814</td><td>0.09714389</td><td>-0.9464120</td><td>0.349765776</td></tr>\n",
       "\t<tr><td>CpG.4.TET2 </td><td> 0.12360083</td><td>0.07661264</td><td> 1.6133217</td><td>0.114738258</td></tr>\n",
       "\t<tr><td>CpG.GRIA2.1</td><td> 0.66437762</td><td>0.26161959</td><td> 2.5394797</td><td>0.015200679</td></tr>\n",
       "\t<tr><td>CpG.GRIA2.2</td><td> 0.58723277</td><td>0.26857861</td><td> 2.1864466</td><td>0.034847966</td></tr>\n",
       "\t<tr><td>ASPA.1     </td><td>-0.08536287</td><td>0.04593548</td><td>-1.8583211</td><td>0.070683209</td></tr>\n",
       "</tbody>\n",
       "</table>\n"
      ],
      "text/latex": [
       "A tibble: 8 × 5\n",
       "\\begin{tabular}{lllll}\n",
       " term & estimate & std.error & statistic & p.value\\\\\n",
       " <chr> & <dbl> & <dbl> & <dbl> & <dbl>\\\\\n",
       "\\hline\n",
       "\t (Intercept) &  2.67876082 & 3.77200954 &  0.7101681 & 0.481825037\\\\\n",
       "\t CpG.1.TET2  & -0.33347721 & 0.14987390 & -2.2250520 & 0.031932161\\\\\n",
       "\t CpG.2.TET2  &  0.44347535 & 0.13097398 &  3.3859806 & 0.001629908\\\\\n",
       "\t CpG.3.TET2  & -0.09193814 & 0.09714389 & -0.9464120 & 0.349765776\\\\\n",
       "\t CpG.4.TET2  &  0.12360083 & 0.07661264 &  1.6133217 & 0.114738258\\\\\n",
       "\t CpG.GRIA2.1 &  0.66437762 & 0.26161959 &  2.5394797 & 0.015200679\\\\\n",
       "\t CpG.GRIA2.2 &  0.58723277 & 0.26857861 &  2.1864466 & 0.034847966\\\\\n",
       "\t ASPA.1      & -0.08536287 & 0.04593548 & -1.8583211 & 0.070683209\\\\\n",
       "\\end{tabular}\n"
      ],
      "text/markdown": [
       "\n",
       "A tibble: 8 × 5\n",
       "\n",
       "| term &lt;chr&gt; | estimate &lt;dbl&gt; | std.error &lt;dbl&gt; | statistic &lt;dbl&gt; | p.value &lt;dbl&gt; |\n",
       "|---|---|---|---|---|\n",
       "| (Intercept) |  2.67876082 | 3.77200954 |  0.7101681 | 0.481825037 |\n",
       "| CpG.1.TET2  | -0.33347721 | 0.14987390 | -2.2250520 | 0.031932161 |\n",
       "| CpG.2.TET2  |  0.44347535 | 0.13097398 |  3.3859806 | 0.001629908 |\n",
       "| CpG.3.TET2  | -0.09193814 | 0.09714389 | -0.9464120 | 0.349765776 |\n",
       "| CpG.4.TET2  |  0.12360083 | 0.07661264 |  1.6133217 | 0.114738258 |\n",
       "| CpG.GRIA2.1 |  0.66437762 | 0.26161959 |  2.5394797 | 0.015200679 |\n",
       "| CpG.GRIA2.2 |  0.58723277 | 0.26857861 |  2.1864466 | 0.034847966 |\n",
       "| ASPA.1      | -0.08536287 | 0.04593548 | -1.8583211 | 0.070683209 |\n",
       "\n"
      ],
      "text/plain": [
       "  term        estimate    std.error  statistic  p.value    \n",
       "1 (Intercept)  2.67876082 3.77200954  0.7101681 0.481825037\n",
       "2 CpG.1.TET2  -0.33347721 0.14987390 -2.2250520 0.031932161\n",
       "3 CpG.2.TET2   0.44347535 0.13097398  3.3859806 0.001629908\n",
       "4 CpG.3.TET2  -0.09193814 0.09714389 -0.9464120 0.349765776\n",
       "5 CpG.4.TET2   0.12360083 0.07661264  1.6133217 0.114738258\n",
       "6 CpG.GRIA2.1  0.66437762 0.26161959  2.5394797 0.015200679\n",
       "7 CpG.GRIA2.2  0.58723277 0.26857861  2.1864466 0.034847966\n",
       "8 ASPA.1      -0.08536287 0.04593548 -1.8583211 0.070683209"
      ]
     },
     "metadata": {},
     "output_type": "display_data"
    },
    {
     "name": "stdout",
     "output_type": "stream",
     "text": [
      "[1] \"R^2 0.5983\"\n"
     ]
    }
   ],
   "source": [
    "fit <- lm(Age ~ ., data = training_set)\n",
    "tidy(fit)\n",
    "r_squared <- summary(fit)$r.squared\n",
    "print(paste(\"R^2\", round(r_squared,4)))"
   ]
  },
  {
   "cell_type": "markdown",
   "id": "amber-bolivia",
   "metadata": {},
   "source": [
    "The coefficient of determination **$R^2$** is `r r_squared`"
   ]
  },
  {
   "cell_type": "code",
   "execution_count": 8,
   "id": "transparent-president",
   "metadata": {},
   "outputs": [
    {
     "data": {
      "text/html": [
       "<table class=\"dataframe\">\n",
       "<caption>A data.frame: 8 × 1</caption>\n",
       "<thead>\n",
       "\t<tr><th></th><th scope=col>coefficient</th></tr>\n",
       "\t<tr><th></th><th scope=col>&lt;dbl&gt;</th></tr>\n",
       "</thead>\n",
       "<tbody>\n",
       "\t<tr><th scope=row>(Intercept)</th><td> 2.67876082</td></tr>\n",
       "\t<tr><th scope=row>CpG.1.TET2</th><td>-0.33347721</td></tr>\n",
       "\t<tr><th scope=row>CpG.2.TET2</th><td> 0.44347535</td></tr>\n",
       "\t<tr><th scope=row>CpG.3.TET2</th><td>-0.09193814</td></tr>\n",
       "\t<tr><th scope=row>CpG.4.TET2</th><td> 0.12360083</td></tr>\n",
       "\t<tr><th scope=row>CpG.GRIA2.1</th><td> 0.66437762</td></tr>\n",
       "\t<tr><th scope=row>CpG.GRIA2.2</th><td> 0.58723277</td></tr>\n",
       "\t<tr><th scope=row>ASPA.1</th><td>-0.08536287</td></tr>\n",
       "</tbody>\n",
       "</table>\n"
      ],
      "text/latex": [
       "A data.frame: 8 × 1\n",
       "\\begin{tabular}{r|l}\n",
       "  & coefficient\\\\\n",
       "  & <dbl>\\\\\n",
       "\\hline\n",
       "\t(Intercept) &  2.67876082\\\\\n",
       "\tCpG.1.TET2 & -0.33347721\\\\\n",
       "\tCpG.2.TET2 &  0.44347535\\\\\n",
       "\tCpG.3.TET2 & -0.09193814\\\\\n",
       "\tCpG.4.TET2 &  0.12360083\\\\\n",
       "\tCpG.GRIA2.1 &  0.66437762\\\\\n",
       "\tCpG.GRIA2.2 &  0.58723277\\\\\n",
       "\tASPA.1 & -0.08536287\\\\\n",
       "\\end{tabular}\n"
      ],
      "text/markdown": [
       "\n",
       "A data.frame: 8 × 1\n",
       "\n",
       "| <!--/--> | coefficient &lt;dbl&gt; |\n",
       "|---|---|\n",
       "| (Intercept) |  2.67876082 |\n",
       "| CpG.1.TET2 | -0.33347721 |\n",
       "| CpG.2.TET2 |  0.44347535 |\n",
       "| CpG.3.TET2 | -0.09193814 |\n",
       "| CpG.4.TET2 |  0.12360083 |\n",
       "| CpG.GRIA2.1 |  0.66437762 |\n",
       "| CpG.GRIA2.2 |  0.58723277 |\n",
       "| ASPA.1 | -0.08536287 |\n",
       "\n"
      ],
      "text/plain": [
       "            coefficient\n",
       "(Intercept)  2.67876082\n",
       "CpG.1.TET2  -0.33347721\n",
       "CpG.2.TET2   0.44347535\n",
       "CpG.3.TET2  -0.09193814\n",
       "CpG.4.TET2   0.12360083\n",
       "CpG.GRIA2.1  0.66437762\n",
       "CpG.GRIA2.2  0.58723277\n",
       "ASPA.1      -0.08536287"
      ]
     },
     "metadata": {},
     "output_type": "display_data"
    }
   ],
   "source": [
    "data.frame(\"coefficient\"=coef(fit))"
   ]
  },
  {
   "cell_type": "markdown",
   "id": "intense-affairs",
   "metadata": {},
   "source": [
    "### The test error"
   ]
  },
  {
   "cell_type": "code",
   "execution_count": 9,
   "id": "informative-standard",
   "metadata": {},
   "outputs": [
    {
     "data": {
      "text/html": [
       "<table class=\"dataframe\">\n",
       "<caption>A data.frame: 12 × 2</caption>\n",
       "<thead>\n",
       "\t<tr><th></th><th scope=col>test_age</th><th scope=col>predictions</th></tr>\n",
       "\t<tr><th></th><th scope=col>&lt;dbl&gt;</th><th scope=col>&lt;dbl&gt;</th></tr>\n",
       "</thead>\n",
       "<tbody>\n",
       "\t<tr><th scope=row>3</th><td> 1</td><td> 6.22</td></tr>\n",
       "\t<tr><th scope=row>4</th><td> 1</td><td> 1.04</td></tr>\n",
       "\t<tr><th scope=row>6</th><td> 1</td><td> 0.68</td></tr>\n",
       "\t<tr><th scope=row>11</th><td> 2</td><td> 2.35</td></tr>\n",
       "\t<tr><th scope=row>13</th><td> 2</td><td> 5.05</td></tr>\n",
       "\t<tr><th scope=row>40</th><td> 6</td><td> 1.76</td></tr>\n",
       "\t<tr><th scope=row>47</th><td> 8</td><td> 5.35</td></tr>\n",
       "\t<tr><th scope=row>49</th><td> 8</td><td> 4.23</td></tr>\n",
       "\t<tr><th scope=row>50</th><td> 9</td><td> 7.88</td></tr>\n",
       "\t<tr><th scope=row>56</th><td>11</td><td>12.95</td></tr>\n",
       "\t<tr><th scope=row>59</th><td>12</td><td>14.03</td></tr>\n",
       "\t<tr><th scope=row>60</th><td>14</td><td>13.31</td></tr>\n",
       "</tbody>\n",
       "</table>\n"
      ],
      "text/latex": [
       "A data.frame: 12 × 2\n",
       "\\begin{tabular}{r|ll}\n",
       "  & test\\_age & predictions\\\\\n",
       "  & <dbl> & <dbl>\\\\\n",
       "\\hline\n",
       "\t3 &  1 &  6.22\\\\\n",
       "\t4 &  1 &  1.04\\\\\n",
       "\t6 &  1 &  0.68\\\\\n",
       "\t11 &  2 &  2.35\\\\\n",
       "\t13 &  2 &  5.05\\\\\n",
       "\t40 &  6 &  1.76\\\\\n",
       "\t47 &  8 &  5.35\\\\\n",
       "\t49 &  8 &  4.23\\\\\n",
       "\t50 &  9 &  7.88\\\\\n",
       "\t56 & 11 & 12.95\\\\\n",
       "\t59 & 12 & 14.03\\\\\n",
       "\t60 & 14 & 13.31\\\\\n",
       "\\end{tabular}\n"
      ],
      "text/markdown": [
       "\n",
       "A data.frame: 12 × 2\n",
       "\n",
       "| <!--/--> | test_age &lt;dbl&gt; | predictions &lt;dbl&gt; |\n",
       "|---|---|---|\n",
       "| 3 |  1 |  6.22 |\n",
       "| 4 |  1 |  1.04 |\n",
       "| 6 |  1 |  0.68 |\n",
       "| 11 |  2 |  2.35 |\n",
       "| 13 |  2 |  5.05 |\n",
       "| 40 |  6 |  1.76 |\n",
       "| 47 |  8 |  5.35 |\n",
       "| 49 |  8 |  4.23 |\n",
       "| 50 |  9 |  7.88 |\n",
       "| 56 | 11 | 12.95 |\n",
       "| 59 | 12 | 14.03 |\n",
       "| 60 | 14 | 13.31 |\n",
       "\n"
      ],
      "text/plain": [
       "   test_age predictions\n",
       "3   1        6.22      \n",
       "4   1        1.04      \n",
       "6   1        0.68      \n",
       "11  2        2.35      \n",
       "13  2        5.05      \n",
       "40  6        1.76      \n",
       "47  8        5.35      \n",
       "49  8        4.23      \n",
       "50  9        7.88      \n",
       "56 11       12.95      \n",
       "59 12       14.03      \n",
       "60 14       13.31      "
      ]
     },
     "metadata": {},
     "output_type": "display_data"
    }
   ],
   "source": [
    "predictions <- predict(fit, newdata = test_set[,-1], interval=\"none\", type = \"response\", na.action=na.pass)\n",
    "\n",
    "cbind.data.frame(\"test_age\"=test_set[,1], \"predictions\"=round(predictions,2))"
   ]
  },
  {
   "cell_type": "code",
   "execution_count": 10,
   "id": "interstate-reynolds",
   "metadata": {},
   "outputs": [
    {
     "data": {
      "text/html": [
       "<table class=\"dataframe\">\n",
       "<caption>A data.frame: 5 × 2</caption>\n",
       "<thead>\n",
       "\t<tr><th scope=col>metric</th><th scope=col>value</th></tr>\n",
       "\t<tr><th scope=col>&lt;chr&gt;</th><th scope=col>&lt;dbl&gt;</th></tr>\n",
       "</thead>\n",
       "<tbody>\n",
       "\t<tr><td>MSE       </td><td>7.1424560</td></tr>\n",
       "\t<tr><td>RMSE      </td><td>2.6725374</td></tr>\n",
       "\t<tr><td>NRMSE     </td><td>0.4276060</td></tr>\n",
       "\t<tr><td>r pearson </td><td>0.8307465</td></tr>\n",
       "\t<tr><td>r spearman</td><td>0.7986314</td></tr>\n",
       "</tbody>\n",
       "</table>\n"
      ],
      "text/latex": [
       "A data.frame: 5 × 2\n",
       "\\begin{tabular}{ll}\n",
       " metric & value\\\\\n",
       " <chr> & <dbl>\\\\\n",
       "\\hline\n",
       "\t MSE        & 7.1424560\\\\\n",
       "\t RMSE       & 2.6725374\\\\\n",
       "\t NRMSE      & 0.4276060\\\\\n",
       "\t r pearson  & 0.8307465\\\\\n",
       "\t r spearman & 0.7986314\\\\\n",
       "\\end{tabular}\n"
      ],
      "text/markdown": [
       "\n",
       "A data.frame: 5 × 2\n",
       "\n",
       "| metric &lt;chr&gt; | value &lt;dbl&gt; |\n",
       "|---|---|\n",
       "| MSE        | 7.1424560 |\n",
       "| RMSE       | 2.6725374 |\n",
       "| NRMSE      | 0.4276060 |\n",
       "| r pearson  | 0.8307465 |\n",
       "| r spearman | 0.7986314 |\n",
       "\n"
      ],
      "text/plain": [
       "  metric     value    \n",
       "1 MSE        7.1424560\n",
       "2 RMSE       2.6725374\n",
       "3 NRMSE      0.4276060\n",
       "4 r pearson  0.8307465\n",
       "5 r spearman 0.7986314"
      ]
     },
     "metadata": {},
     "output_type": "display_data"
    }
   ],
   "source": [
    "r_pearson = cor(test_set$Age,predictions)\n",
    "r_spearman = cor(test_set$Age,predictions, method = \"spearman\")\n",
    "mse = mean((test_set$Age-predictions)^2)\n",
    "rmse = sqrt(mse)\n",
    "nrmse = sqrt(mse)/mean(test_set$Age)\n",
    "\n",
    "data.frame(\"metric\"=c(\"MSE\",\"RMSE\",\"NRMSE\",\"r pearson\",\"r spearman\"),\n",
    "           \"value\"=c(mse,rmse,nrmse,r_pearson,r_spearman))"
   ]
  },
  {
   "cell_type": "code",
   "execution_count": 11,
   "id": "ranking-brazilian",
   "metadata": {},
   "outputs": [
    {
     "data": {
      "image/png": "[encoded data removed]",
      "text/plain": [
       "plot without title"
      ]
     },
     "metadata": {
      "image/png": {
       "height": 420,
       "width": 420
      }
     },
     "output_type": "display_data"
    }
   ],
   "source": [
    "ggplot(data.frame(\"test_age\"=test_set$Age,\"predictions\"=predictions), aes(x=predictions,y=test_age)) + geom_point()"
   ]
  },
  {
   "cell_type": "markdown",
   "id": "suburban-naples",
   "metadata": {},
   "source": [
    "### The training error\n",
    "\n",
    "We can compare the test error measured above with the training error, i.e. the model performance measured on the training data:"
   ]
  },
  {
   "cell_type": "code",
   "execution_count": null,
   "id": "fancy-david",
   "metadata": {},
   "outputs": [],
   "source": [
    "predictions <- predict(fit, newdata = training_set[,-1], interval=\"none\", type = \"response\", na.action=na.pass)"
   ]
  },
  {
   "cell_type": "code",
   "execution_count": null,
   "id": "attempted-return",
   "metadata": {
    "lines_to_next_cell": 2
   },
   "outputs": [],
   "source": [
    "r_pearson = cor(training_set$Age,predictions)\n",
    "r_spearman = cor(training_set$Age,predictions, method = \"spearman\")\n",
    "mse = mean((training_set$Age-predictions)^2)\n",
    "rmse = sqrt(mse)\n",
    "nrmse = sqrt(mse)/mean(training_set$Age)\n",
    "\n",
    "data.frame(\"metric\"=c(\"MSE\",\"RMSE\",\"NRMSE\",\"r pearson\",\"r spearman\"),\n",
    "           \"value\"=c(mse,rmse,nrmse,r_pearson,r_spearman)) %>% kable()"
   ]
  },
  {
   "cell_type": "code",
   "execution_count": null,
   "id": "unusual-newton",
   "metadata": {
    "lines_to_next_cell": 2
   },
   "outputs": [],
   "source": [
    "ggplot(data.frame(\"training_y\"=training_set$Age,\"predictions\"=predictions), aes(x=predictions,y=training_y)) + geom_point()"
   ]
  },
  {
   "cell_type": "markdown",
   "id": "statewide-forest",
   "metadata": {},
   "source": [
    "## Exercise 3.1\n",
    "\n",
    "- try different training/testing sets \n",
    "- measure the performance of the model"
   ]
  },
  {
   "cell_type": "code",
   "execution_count": null,
   "id": "consecutive-millennium",
   "metadata": {},
   "outputs": [],
   "source": [
    "## write your code here"
   ]
  },
  {
   "cell_type": "markdown",
   "id": "bearing-purpose",
   "metadata": {},
   "source": [
    "## Validation set approach\n",
    "\n",
    "We now implement the validation set approach. First, we choose the relative proportions for the training and test sets, e.g. $70\\%$ and $30\\%$.\n",
    "We feed the original dataset and the chose proportions in a function to implement the validation set approach for our regression problem, and then we repeat this 10 times, to get an estimate of the variability of the predictor $\\hat{f}(x)$."
   ]
  },
  {
   "cell_type": "code",
   "execution_count": null,
   "id": "periodic-function",
   "metadata": {
    "name": "validation_set",
    "tags": [
     "remove_input"
    ]
   },
   "outputs": [],
   "source": [
    "validation_approach <- function(dataset,proportion) {\n",
    "  \n",
    "  ## prepare the subsets\n",
    "  n = nrow(dataset) ## sample size\n",
    "  n_training = round(proportion*n,0)\n",
    "  n_test = n - n_training\n",
    "\n",
    "  training_records <- sample(n,n_training)\n",
    "  training_set <- ch4[training_records,]\n",
    "  test_set <- ch4[-training_records,]\n",
    "  \n",
    "  ##fit the model\n",
    "  fit <- lm(Age ~ ., data = training_set)\n",
    "  \n",
    "  ## evaluate the model\n",
    "  predictions <- predict(fit, newdata = test_set[,-1], interval=\"none\", type = \"response\", na.action=na.pass)\n",
    "  r_pearson = cor(test_set$Age,predictions)\n",
    "  r_spearman = cor(test_set$Age,predictions, method = \"spearman\")\n",
    "  mse = mean((test_set$Age-predictions)^2)\n",
    "  rmse = sqrt(mse)\n",
    "  nrmse = sqrt(mse)/mean(test_set$Age)\n",
    "\n",
    "  # res <- data.frame(\"metric\"=c(\"MSE\",\"RMSE\",\"NRMSE\",\"r pearson\",\"r spearman\"),\n",
    "  #          \"value\"=c(mse,rmse,nrmse,r_pearson,r_spearman))\n",
    "  res <- data.frame(\n",
    "           \"value\"=c(mse,rmse,nrmse,r_pearson,r_spearman))\n",
    "  \n",
    "  return(res)\n",
    "}\n",
    "\n",
    "results <- replicate(n=20, validation_approach(ch4,0.7),simplify = FALSE)\n",
    "\n",
    "df <- do.call(cbind.data.frame, results)\n",
    "df <- transpose(df)\n",
    "names(df) <- c(\"MSE\",\"RMSE\",\"NRMSE\",\"r pearson\",\"r spearman\")\n",
    "head(df,10)"
   ]
  },
  {
   "cell_type": "markdown",
   "id": "varied-wound",
   "metadata": {},
   "source": [
    "We can now summarise and visualise the results:"
   ]
  },
  {
   "cell_type": "code",
   "execution_count": null,
   "id": "comparative-humor",
   "metadata": {},
   "outputs": [],
   "source": [
    "mDF <- reshape2::melt(df, variable.name = \"metric\")\n",
    "mDF %>%\n",
    "  group_by(metric) %>%\n",
    "  summarise(N=n(), avg=mean(value), std=sd(value))"
   ]
  },
  {
   "cell_type": "code",
   "execution_count": null,
   "id": "closing-allowance",
   "metadata": {},
   "outputs": [],
   "source": [
    "p <- ggplot(mDF, aes(x = factor(1), y = value))\n",
    "p <- p + geom_jitter(aes(colour=metric)) \n",
    "p <- p + facet_wrap(~metric, scales = \"free\")\n",
    "p <- p + xlab(\"\")\n",
    "p"
   ]
  },
  {
   "cell_type": "markdown",
   "id": "laughing-atlas",
   "metadata": {},
   "source": [
    "## k-fold cross-validation\n",
    "\n",
    "Now, we implement 5-fold cross-validation.\n",
    "We set k=5 and then assign each observation from the original dataset to a fold:"
   ]
  },
  {
   "cell_type": "code",
   "execution_count": null,
   "id": "boring-burden",
   "metadata": {},
   "outputs": [],
   "source": [
    "n = nrow(ch4)\n",
    "k = 5\n",
    "folds <- sample(x = seq(1,k), size = n, replace = TRUE)\n",
    "table(folds)"
   ]
  },
  {
   "cell_type": "markdown",
   "id": "selective-brother",
   "metadata": {},
   "source": [
    "We now fit and evaluate the model *k* times, and save results:"
   ]
  },
  {
   "cell_type": "code",
   "execution_count": null,
   "id": "collect-bandwidth",
   "metadata": {},
   "outputs": [],
   "source": [
    "cv.error = data.frame(\"fold\"=NULL,\"MSE\"=NULL,\"RMSE\"=NULL,\n",
    "                   \"NRMSE\"=NULL,\"r_pearson\"=NULL,\"r_spearman\"=NULL)\n",
    "for(i in 1:k) {\n",
    "  \n",
    "  print(paste(\"using validation fold\",i))\n",
    "  training_set <- ch4[folds!=i,]\n",
    "  fit <- lm(Age ~ ., data = training_set)\n",
    "  \n",
    "  test_set <- ch4[folds==i,]\n",
    "  predictions <- predict(fit, newdata = test_set[,-1], interval=\"none\", type = \"response\", na.action=na.pass)\n",
    "  \n",
    "  r_pearson = cor(test_set$Age,predictions) \n",
    "  r_spearman = cor(test_set$Age,predictions, method = \"spearman\")\n",
    "  mse = mean((test_set$Age-predictions)^2)\n",
    "  rmse = sqrt(mse)\n",
    "  nrmse = sqrt(mse)/mean(test_set$Age)\n",
    "  \n",
    "  res = data.frame(\"fold\"=i,\"MSE\"=mse,\"RMSE\"=rmse,\n",
    "                   \"NRMSE\"=nrmse,\"r_pearson\"=r_pearson,\"r_spearman\"=r_spearman)\n",
    "  cv.error <- rbind.data.frame(cv.error,res)\n",
    "}"
   ]
  },
  {
   "cell_type": "code",
   "execution_count": null,
   "id": "hidden-robert",
   "metadata": {},
   "outputs": [],
   "source": [
    "kable(cv.error)"
   ]
  },
  {
   "cell_type": "code",
   "execution_count": null,
   "id": "middle-stopping",
   "metadata": {},
   "outputs": [],
   "source": [
    "mCV <- reshape2::melt(cv.error, id.vars = \"fold\", variable.name = \"metric\")\n",
    "mCV %>%\n",
    "  group_by(metric) %>%\n",
    "  summarise(N=n(),avg = mean(value), std = sd(value))"
   ]
  },
  {
   "cell_type": "code",
   "execution_count": null,
   "id": "personalized-genius",
   "metadata": {},
   "outputs": [],
   "source": [
    "p <- ggplot(mCV, aes(x = factor(1), y = value))\n",
    "p <- p + geom_jitter(aes(colour=metric)) \n",
    "p <- p + facet_wrap(~metric, scales = \"free\")\n",
    "p <- p + xlab(\"\")\n",
    "p"
   ]
  },
  {
   "cell_type": "markdown",
   "id": "short-european",
   "metadata": {},
   "source": [
    "## Exercise 3.2\n",
    "\n",
    "- implement cross-validation with a different value for k (e.g. k=4, k=10, etc.)"
   ]
  },
  {
   "cell_type": "code",
   "execution_count": null,
   "id": "diagnostic-drove",
   "metadata": {
    "lines_to_next_cell": 0
   },
   "outputs": [],
   "source": [
    "## write your code here"
   ]
  },
  {
   "cell_type": "markdown",
   "id": "operational-metadata",
   "metadata": {},
   "source": [
    "\n"
   ]
  }
 ],
 "metadata": {
  "jupytext": {
   "cell_metadata_filter": "name,label,tags,-all",
   "main_language": "R",
   "notebook_metadata_filter": "-all"
  },
  "kernelspec": {
   "display_name": "R",
   "language": "R",
   "name": "ir"
  },
  "language_info": {
   "codemirror_mode": "r",
   "file_extension": ".r",
   "mimetype": "text/x-r-source",
   "name": "R",
   "pygments_lexer": "r",
   "version": "4.1.2"
  }
 },
 "nbformat": 4,
 "nbformat_minor": 5
}
