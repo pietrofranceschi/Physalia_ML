{
 "cells": [
  {
   "cell_type": "raw",
   "id": "acute-queue",
   "metadata": {},
   "source": [
    "---\n",
    "title: \"training and test sets\"\n",
    "author: \"Filippo Biscarini\"\n",
    "date: \"7/6/2020\"\n",
    "output: html_document\n",
    "---"
   ]
  },
  {
   "cell_type": "code",
   "execution_count": null,
   "id": "breathing-window",
   "metadata": {
    "name": "setup",
    "tags": [
     "remove_cell"
    ]
   },
   "outputs": [],
   "source": [
    "library(\"xlsx\")\n",
    "library(\"broom\")\n",
    "library(\"knitr\")\n",
    "library(\"ggplot2\")\n",
    "library(\"corrplot\")\n",
    "library(\"reshape2\")\n",
    "library(\"tidyverse\")\n",
    "library(\"tidymodels\")\n",
    "library(\"data.table\")\n",
    "\n",
    "knitr::opts_chunk$set(echo = TRUE)"
   ]
  },
  {
   "cell_type": "markdown",
   "id": "computational-makeup",
   "metadata": {},
   "source": [
    "## Reading the data\n",
    "\n",
    "For this practical session on linear regression we are using a dataset on the relationship between the age of wild bats and DNA methylation at specific CpG sites ([data](https://datadryad.org/stash/dataset/doi:10.5061/dryad.rn0198d); [paper](https://onlinelibrary.wiley.com/doi/abs/10.1111/1755-0998.12925)).\n",
    "\n",
    "The public dataset downloaded from Dryad is an `.xlsm` file, and can be read into *R* using the `read.xlsx()` function from the **xlsx** package."
   ]
  },
  {
   "cell_type": "code",
   "execution_count": null,
   "id": "dress-subdivision",
   "metadata": {
    "label": "reading_data"
   },
   "outputs": [],
   "source": [
    "ch4 <- read.xlsx(\"../data/DNA methylation data.xlsm\", sheetIndex = 1)\n",
    "ch4 <- na.omit(ch4[,-c(1,3)])\n",
    "head(ch4)"
   ]
  },
  {
   "cell_type": "markdown",
   "id": "catholic-discretion",
   "metadata": {},
   "source": [
    "## Training and testing sets\n",
    "\n",
    "We now need to subset the data into a **training set** and a **testing set**\n",
    "We can randomly assign records from the original dataset to the two subsets, for instance $80\\%$ to the training set and $20\\%$ to the test set:"
   ]
  },
  {
   "cell_type": "code",
   "execution_count": null,
   "id": "straight-alcohol",
   "metadata": {
    "name": "pressure",
    "tags": [
     "remove_input"
    ]
   },
   "outputs": [],
   "source": [
    "# set.seed(295)\n",
    "n = nrow(ch4) ## sample size\n",
    "n_training = round(0.8*n,0)\n",
    "n_test = n - n_training\n",
    "\n",
    "training_records <- sample(n,n_training)\n",
    "training_set <- ch4[training_records,]\n",
    "test_set <- ch4[-training_records,]"
   ]
  },
  {
   "cell_type": "code",
   "execution_count": null,
   "id": "brown-print",
   "metadata": {},
   "outputs": [],
   "source": [
    "## sanity checks\n",
    "nrow(training_set)\n",
    "nrow(test_set)"
   ]
  },
  {
   "cell_type": "markdown",
   "id": "sufficient-accused",
   "metadata": {},
   "source": [
    "## Fitting the multiple linear regression model\n",
    "\n",
    "Note: we use only the **training data** to fit the model!"
   ]
  },
  {
   "cell_type": "code",
   "execution_count": null,
   "id": "thrown-petite",
   "metadata": {},
   "outputs": [],
   "source": [
    "fit <- lm(Age ~ ., data = training_set)\n",
    "tidy(fit)\n",
    "r_squared <- summary(fit)$r.squared\n",
    "print(paste(\"R^2\", round(r_squared,4)))"
   ]
  },
  {
   "cell_type": "markdown",
   "id": "amber-bolivia",
   "metadata": {},
   "source": [
    "The coefficient of determination **$R^2$** is `r r_squared`"
   ]
  },
  {
   "cell_type": "code",
   "execution_count": null,
   "id": "transparent-president",
   "metadata": {},
   "outputs": [],
   "source": [
    "data.frame(\"coefficient\"=coef(fit))"
   ]
  },
  {
   "cell_type": "markdown",
   "id": "intense-affairs",
   "metadata": {},
   "source": [
    "### The test error"
   ]
  },
  {
   "cell_type": "code",
   "execution_count": null,
   "id": "informative-standard",
   "metadata": {},
   "outputs": [],
   "source": [
    "predictions <- predict(fit, newdata = test_set[,-1], interval=\"none\", type = \"response\", na.action=na.pass)\n",
    "\n",
    "cbind.data.frame(\"test_age\"=test_set[,1], \"predictions\"=round(predictions,2))"
   ]
  },
  {
   "cell_type": "code",
   "execution_count": null,
   "id": "interstate-reynolds",
   "metadata": {},
   "outputs": [],
   "source": [
    "r_pearson = cor(test_set$Age,predictions)\n",
    "r_spearman = cor(test_set$Age,predictions, method = \"spearman\")\n",
    "mse = mean((test_set$Age-predictions)^2)\n",
    "rmse = sqrt(mse)\n",
    "nrmse = sqrt(mse)/mean(test_set$Age)\n",
    "\n",
    "data.frame(\"metric\"=c(\"MSE\",\"RMSE\",\"NRMSE\",\"r pearson\",\"r spearman\"),\n",
    "           \"value\"=c(mse,rmse,nrmse,r_pearson,r_spearman))"
   ]
  },
  {
   "cell_type": "code",
   "execution_count": null,
   "id": "ranking-brazilian",
   "metadata": {},
   "outputs": [],
   "source": [
    "ggplot(data.frame(\"test_age\"=test_set$Age,\"predictions\"=predictions), aes(x=predictions,y=test_age)) + geom_point()"
   ]
  },
  {
   "cell_type": "markdown",
   "id": "suburban-naples",
   "metadata": {},
   "source": [
    "### The training error\n",
    "\n",
    "We can compare the test error measured above with the training error, i.e. the model performance measured on the training data:"
   ]
  },
  {
   "cell_type": "code",
   "execution_count": null,
   "id": "fancy-david",
   "metadata": {},
   "outputs": [],
   "source": [
    "predictions <- predict(fit, newdata = training_set[,-1], interval=\"none\", type = \"response\", na.action=na.pass)"
   ]
  },
  {
   "cell_type": "code",
   "execution_count": null,
   "id": "attempted-return",
   "metadata": {
    "lines_to_next_cell": 2
   },
   "outputs": [],
   "source": [
    "r_pearson = cor(training_set$Age,predictions)\n",
    "r_spearman = cor(training_set$Age,predictions, method = \"spearman\")\n",
    "mse = mean((training_set$Age-predictions)^2)\n",
    "rmse = sqrt(mse)\n",
    "nrmse = sqrt(mse)/mean(training_set$Age)\n",
    "\n",
    "data.frame(\"metric\"=c(\"MSE\",\"RMSE\",\"NRMSE\",\"r pearson\",\"r spearman\"),\n",
    "           \"value\"=c(mse,rmse,nrmse,r_pearson,r_spearman)) %>% kable()"
   ]
  },
  {
   "cell_type": "code",
   "execution_count": null,
   "id": "unusual-newton",
   "metadata": {
    "lines_to_next_cell": 2
   },
   "outputs": [],
   "source": [
    "ggplot(data.frame(\"training_y\"=training_set$Age,\"predictions\"=predictions), aes(x=predictions,y=training_y)) + geom_point()"
   ]
  },
  {
   "cell_type": "markdown",
   "id": "statewide-forest",
   "metadata": {},
   "source": [
    "## Exercise 3.1\n",
    "\n",
    "- try different training/testing sets \n",
    "- measure the performance of the model"
   ]
  },
  {
   "cell_type": "code",
   "execution_count": null,
   "id": "consecutive-millennium",
   "metadata": {},
   "outputs": [],
   "source": [
    "## write your code here"
   ]
  },
  {
   "cell_type": "markdown",
   "id": "bearing-purpose",
   "metadata": {},
   "source": [
    "## Validation set approach\n",
    "\n",
    "We now implement the validation set approach. First, we choose the relative proportions for the training and test sets, e.g. $70\\%$ and $30\\%$.\n",
    "We feed the original dataset and the chose proportions in a function to implement the validation set approach for our regression problem, and then we repeat this 10 times, to get an estimate of the variability of the predictor $\\hat{f}(x)$."
   ]
  },
  {
   "cell_type": "code",
   "execution_count": null,
   "id": "periodic-function",
   "metadata": {
    "name": "validation_set",
    "tags": [
     "remove_input"
    ]
   },
   "outputs": [],
   "source": [
    "validation_approach <- function(dataset,proportion) {\n",
    "  \n",
    "  ## prepare the subsets\n",
    "  n = nrow(dataset) ## sample size\n",
    "  n_training = round(proportion*n,0)\n",
    "  n_test = n - n_training\n",
    "\n",
    "  training_records <- sample(n,n_training)\n",
    "  training_set <- ch4[training_records,]\n",
    "  test_set <- ch4[-training_records,]\n",
    "  \n",
    "  ##fit the model\n",
    "  fit <- lm(Age ~ ., data = training_set)\n",
    "  \n",
    "  ## evaluate the model\n",
    "  predictions <- predict(fit, newdata = test_set[,-1], interval=\"none\", type = \"response\", na.action=na.pass)\n",
    "  r_pearson = cor(test_set$Age,predictions)\n",
    "  r_spearman = cor(test_set$Age,predictions, method = \"spearman\")\n",
    "  mse = mean((test_set$Age-predictions)^2)\n",
    "  rmse = sqrt(mse)\n",
    "  nrmse = sqrt(mse)/mean(test_set$Age)\n",
    "\n",
    "  # res <- data.frame(\"metric\"=c(\"MSE\",\"RMSE\",\"NRMSE\",\"r pearson\",\"r spearman\"),\n",
    "  #          \"value\"=c(mse,rmse,nrmse,r_pearson,r_spearman))\n",
    "  res <- data.frame(\n",
    "           \"value\"=c(mse,rmse,nrmse,r_pearson,r_spearman))\n",
    "  \n",
    "  return(res)\n",
    "}\n",
    "\n",
    "results <- replicate(n=20, validation_approach(ch4,0.7),simplify = FALSE)\n",
    "\n",
    "df <- do.call(cbind.data.frame, results)\n",
    "df <- transpose(df)\n",
    "names(df) <- c(\"MSE\",\"RMSE\",\"NRMSE\",\"r pearson\",\"r spearman\")\n",
    "head(df,10)"
   ]
  },
  {
   "cell_type": "markdown",
   "id": "varied-wound",
   "metadata": {},
   "source": [
    "We can now summarise and visualise the results:"
   ]
  },
  {
   "cell_type": "code",
   "execution_count": null,
   "id": "comparative-humor",
   "metadata": {},
   "outputs": [],
   "source": [
    "mDF <- reshape2::melt(df, variable.name = \"metric\")\n",
    "mDF %>%\n",
    "  group_by(metric) %>%\n",
    "  summarise(N=n(), avg=mean(value), std=sd(value))"
   ]
  },
  {
   "cell_type": "code",
   "execution_count": null,
   "id": "closing-allowance",
   "metadata": {},
   "outputs": [],
   "source": [
    "p <- ggplot(mDF, aes(x = factor(1), y = value))\n",
    "p <- p + geom_jitter(aes(colour=metric)) \n",
    "p <- p + facet_wrap(~metric, scales = \"free\")\n",
    "p <- p + xlab(\"\")\n",
    "p"
   ]
  },
  {
   "cell_type": "markdown",
   "id": "laughing-atlas",
   "metadata": {},
   "source": [
    "## k-fold cross-validation\n",
    "\n",
    "Now, we implement 5-fold cross-validation.\n",
    "We set k=5 and then assign each observation from the original dataset to a fold:"
   ]
  },
  {
   "cell_type": "code",
   "execution_count": null,
   "id": "boring-burden",
   "metadata": {},
   "outputs": [],
   "source": [
    "n = nrow(ch4)\n",
    "k = 5\n",
    "folds <- sample(x = seq(1,k), size = n, replace = TRUE)\n",
    "table(folds)"
   ]
  },
  {
   "cell_type": "markdown",
   "id": "selective-brother",
   "metadata": {},
   "source": [
    "We now fit and evaluate the model *k* times, and save results:"
   ]
  },
  {
   "cell_type": "code",
   "execution_count": null,
   "id": "collect-bandwidth",
   "metadata": {},
   "outputs": [],
   "source": [
    "cv.error = data.frame(\"fold\"=NULL,\"MSE\"=NULL,\"RMSE\"=NULL,\n",
    "                   \"NRMSE\"=NULL,\"r_pearson\"=NULL,\"r_spearman\"=NULL)\n",
    "for(i in 1:k) {\n",
    "  \n",
    "  print(paste(\"using validation fold\",i))\n",
    "  training_set <- ch4[folds!=i,]\n",
    "  fit <- lm(Age ~ ., data = training_set)\n",
    "  \n",
    "  test_set <- ch4[folds==i,]\n",
    "  predictions <- predict(fit, newdata = test_set[,-1], interval=\"none\", type = \"response\", na.action=na.pass)\n",
    "  \n",
    "  r_pearson = cor(test_set$Age,predictions) \n",
    "  r_spearman = cor(test_set$Age,predictions, method = \"spearman\")\n",
    "  mse = mean((test_set$Age-predictions)^2)\n",
    "  rmse = sqrt(mse)\n",
    "  nrmse = sqrt(mse)/mean(test_set$Age)\n",
    "  \n",
    "  res = data.frame(\"fold\"=i,\"MSE\"=mse,\"RMSE\"=rmse,\n",
    "                   \"NRMSE\"=nrmse,\"r_pearson\"=r_pearson,\"r_spearman\"=r_spearman)\n",
    "  cv.error <- rbind.data.frame(cv.error,res)\n",
    "}"
   ]
  },
  {
   "cell_type": "code",
   "execution_count": null,
   "id": "hidden-robert",
   "metadata": {},
   "outputs": [],
   "source": [
    "kable(cv.error)"
   ]
  },
  {
   "cell_type": "code",
   "execution_count": null,
   "id": "middle-stopping",
   "metadata": {},
   "outputs": [],
   "source": [
    "mCV <- reshape2::melt(cv.error, id.vars = \"fold\", variable.name = \"metric\")\n",
    "mCV %>%\n",
    "  group_by(metric) %>%\n",
    "  summarise(N=n(),avg = mean(value), std = sd(value))"
   ]
  },
  {
   "cell_type": "code",
   "execution_count": null,
   "id": "personalized-genius",
   "metadata": {},
   "outputs": [],
   "source": [
    "p <- ggplot(mCV, aes(x = factor(1), y = value))\n",
    "p <- p + geom_jitter(aes(colour=metric)) \n",
    "p <- p + facet_wrap(~metric, scales = \"free\")\n",
    "p <- p + xlab(\"\")\n",
    "p"
   ]
  },
  {
   "cell_type": "markdown",
   "id": "short-european",
   "metadata": {},
   "source": [
    "## Exercise 3.2\n",
    "\n",
    "- implement cross-validation with a different value for k (e.g. k=4, k=10, etc.)"
   ]
  },
  {
   "cell_type": "code",
   "execution_count": null,
   "id": "diagnostic-drove",
   "metadata": {
    "lines_to_next_cell": 0
   },
   "outputs": [],
   "source": [
    "## write your code here"
   ]
  },
  {
   "cell_type": "markdown",
   "id": "operational-metadata",
   "metadata": {},
   "source": [
    "\n"
   ]
  }
 ],
 "metadata": {
  "jupytext": {
   "cell_metadata_filter": "name,label,tags,-all",
   "main_language": "R",
   "notebook_metadata_filter": "-all"
  },
  "kernelspec": {
   "display_name": "R",
   "language": "R",
   "name": "ir"
  },
  "language_info": {
   "codemirror_mode": "r",
   "file_extension": ".r",
   "mimetype": "text/x-r-source",
   "name": "R",
   "pygments_lexer": "r",
   "version": "4.0.4"
  }
 },
 "nbformat": 4,
 "nbformat_minor": 5
}
