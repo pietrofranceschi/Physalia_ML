{
 "cells": [
  {
   "cell_type": "raw",
   "id": "received-seven",
   "metadata": {},
   "source": [
    "---\n",
    "title: \"Boosting: a first encounter\"\n",
    "author: \"Filippo Biscarini\"\n",
    "date: \"7/9/2021\"\n",
    "output: html_document\n",
    "---"
   ]
  },
  {
   "cell_type": "markdown",
   "id": "seven-jersey",
   "metadata": {},
   "source": [
    "## Boosting: the weak learning perspective\n",
    "### A basic boosting model"
   ]
  },
  {
   "cell_type": "code",
   "execution_count": 8,
   "id": "lyric-james",
   "metadata": {},
   "outputs": [],
   "source": [
    "library(\"gbm\")\n",
    "library(\"vip\")\n",
    "library(\"caret\")\n",
    "library(\"xgboost\")\n",
    "library(\"tidymodels\")\n",
    "library(\"data.table\")\n",
    "library(\"randomForest\")"
   ]
  },
  {
   "cell_type": "markdown",
   "id": "shared-bahamas",
   "metadata": {},
   "source": [
    "We start by reading in the diabetes data and splitting it into the training and test sets: again, it's a **multiclass classification problem** (combination of gender and health status)"
   ]
  },
  {
   "cell_type": "code",
   "execution_count": 9,
   "id": "julian-onion",
   "metadata": {},
   "outputs": [],
   "source": [
    "## read the data\n",
    "mtbsl1 <- fread(\"../data/MTBSL1.tsv\")\n",
    "names(mtbsl1)[c(4:ncol(mtbsl1))] <- paste(\"mtbl\",seq(1,ncol(mtbsl1)-3), sep = \"_\")\n",
    "mtbsl1$gender_status <- paste(mtbsl1$Gender,mtbsl1$Metabolic_syndrome,sep=\"_\")\n",
    "diab_dt <- select(mtbsl1, -c(`Primary ID`, Gender, Metabolic_syndrome))"
   ]
  },
  {
   "cell_type": "code",
   "execution_count": 10,
   "id": "respected-locking",
   "metadata": {},
   "outputs": [
    {
     "data": {
      "text/plain": [
       "\n",
       "    Female_Control Group Female_diabetes mellitus       Male_Control Group \n",
       "                      20                       18                       39 \n",
       "  Male_diabetes mellitus \n",
       "                      15 "
      ]
     },
     "metadata": {},
     "output_type": "display_data"
    },
    {
     "data": {
      "text/plain": [
       "\n",
       "    Female_Control Group Female_diabetes mellitus       Male_Control Group \n",
       "                       8                        8                       17 \n",
       "  Male_diabetes mellitus \n",
       "                       7 "
      ]
     },
     "metadata": {},
     "output_type": "display_data"
    }
   ],
   "source": [
    "## DATA SPLITTING\n",
    "\n",
    "diab_dt$id <- paste(\"id\",seq(1,nrow(diab_dt)), sep=\"_\")\n",
    "\n",
    "training_set <- diab_dt %>%\n",
    "  group_by(gender_status) %>%\n",
    "  sample_frac(size = 0.7)\n",
    "\n",
    "test_recs <- !(diab_dt$id %in% training_set$id)\n",
    "test_set <- diab_dt[test_recs,]\n",
    "\n",
    "training_set$id <- NULL\n",
    "test_set$id <- NULL\n",
    "\n",
    "table(training_set$gender_status)\n",
    "table(test_set$gender_status)"
   ]
  },
  {
   "cell_type": "markdown",
   "id": "brief-perception",
   "metadata": {},
   "source": [
    "We now use the `gbm` function from the *gbm* package:\n",
    "\n",
    "- equation: gender_status as a function of all metabolites\n",
    "- distribution: **multinomial** (4 classes)\n",
    "- n.trees: total number of trees (n. of sequential models to be combined/added)\n",
    "- shrinkage: $\\lambda$ (shrinkage) parameter\n",
    "- interaction.depth: maximum depth of trees"
   ]
  },
  {
   "cell_type": "code",
   "execution_count": 11,
   "id": "postal-rebecca",
   "metadata": {},
   "outputs": [
    {
     "name": "stderr",
     "output_type": "stream",
     "text": [
      "Warning message:\n",
      "“Setting `distribution = \"multinomial\"` is ill-advised as it is currently broken. It exists only for backwards compatibility. Use at your own risk.”\n"
     ]
    },
    {
     "name": "stdout",
     "output_type": "stream",
     "text": [
      "gbm(formula = gender_status ~ ., distribution = \"multinomial\", \n",
      "    data = training_set, n.trees = 1000, interaction.depth = 2, \n",
      "    shrinkage = 0.01)\n",
      "A gradient boosted model with multinomial loss function.\n",
      "1000 iterations were performed.\n",
      "There were 188 predictors of which 179 had non-zero influence.\n"
     ]
    }
   ],
   "source": [
    "boost.diabt = gbm(\n",
    "  gender_status ~ ., \n",
    "  data=training_set, \n",
    "  distribution=\"multinomial\",\n",
    "  n.trees=1000, ## B parameter\n",
    "  shrinkage=0.01, ## (learning rate, or step-size)\n",
    "  interaction.depth=2 ## d parameter \n",
    ")\n",
    "\n",
    "print(boost.diabt)"
   ]
  },
  {
   "cell_type": "code",
   "execution_count": 12,
   "id": "incomplete-mailman",
   "metadata": {},
   "outputs": [
    {
     "name": "stdout",
     "output_type": "stream",
     "text": [
      ", , 1000\n",
      "\n",
      "      Female_Control Group Female_diabetes mellitus Male_Control Group\n",
      " [1,]         1.450209e-01             7.549297e-01       0.0456047197\n",
      " [2,]         2.727957e-03             9.886126e-01       0.0015527770\n",
      " [3,]         6.916201e-03             9.894049e-01       0.0013639838\n",
      " [4,]         5.449296e-01             3.633064e-01       0.0829648866\n",
      " [5,]         5.435920e-03             6.311247e-02       0.8661920583\n",
      " [6,]         1.197856e-02             6.896999e-01       0.1668867565\n",
      " [7,]         1.086088e-02             4.704908e-01       0.0066506445\n",
      " [8,]         2.094938e-03             9.930754e-01       0.0002561349\n",
      " [9,]         1.767297e-02             5.678751e-01       0.2082919446\n",
      "[10,]         1.293237e-04             2.974186e-03       0.0008998135\n",
      "[11,]         7.575705e-03             3.930274e-02       0.2616813346\n",
      "[12,]         9.495537e-03             1.513046e-01       0.8243262657\n",
      "[13,]         5.707878e-02             9.371547e-01       0.0008162214\n",
      "[14,]         4.787535e-02             3.107590e-01       0.0014550003\n",
      "[15,]         1.461654e-04             9.971854e-01       0.0001617209\n",
      "[16,]         4.741583e-05             9.451032e-06       0.9999150229\n",
      "[17,]         4.756048e-03             1.327171e-04       0.9900767381\n",
      "[18,]         8.060829e-04             1.656467e-02       0.9784994475\n",
      "[19,]         8.329809e-02             1.385979e-03       0.9133795967\n",
      "[20,]         7.872389e-06             1.518818e-05       0.9999643250\n",
      "[21,]         9.995603e-01             2.155555e-04       0.0001243882\n",
      "[22,]         9.946251e-01             4.128574e-03       0.0009882945\n",
      "[23,]         9.877989e-01             1.207633e-03       0.0099584391\n",
      "[24,]         9.685050e-01             1.350269e-02       0.0053565681\n",
      "[25,]         7.155634e-04             7.671344e-05       0.9991371735\n",
      "[26,]         2.767879e-04             2.857835e-04       0.9993302357\n",
      "[27,]         5.333822e-04             3.578512e-05       0.9994039714\n",
      "[28,]         8.038852e-04             2.456998e-05       0.9933513665\n",
      "[29,]         8.421447e-01             5.649606e-03       0.0840701895\n",
      "[30,]         3.023389e-01             4.424859e-02       0.4518951398\n",
      "[31,]         3.803373e-02             1.514464e-02       0.1250004547\n",
      "[32,]         2.827848e-04             5.684318e-05       0.9985778645\n",
      "[33,]         7.428614e-04             7.920127e-04       0.9979975800\n",
      "[34,]         5.601866e-03             2.393018e-04       0.9908670764\n",
      "[35,]         8.213499e-03             9.656532e-03       0.9637684683\n",
      "[36,]         9.985736e-01             6.603210e-04       0.0006403400\n",
      "[37,]         3.924461e-05             1.992112e-05       0.9974714075\n",
      "[38,]         1.998059e-02             1.756620e-03       0.9686360202\n",
      "[39,]         8.552748e-03             7.624624e-04       0.9898838966\n",
      "[40,]         1.016044e-01             7.747876e-04       0.8840501269\n",
      "      Male_diabetes mellitus\n",
      " [1,]           5.444466e-02\n",
      " [2,]           7.106698e-03\n",
      " [3,]           2.314960e-03\n",
      " [4,]           8.799163e-03\n",
      " [5,]           6.525955e-02\n",
      " [6,]           1.314348e-01\n",
      " [7,]           5.119977e-01\n",
      " [8,]           4.573491e-03\n",
      " [9,]           2.061600e-01\n",
      "[10,]           9.959967e-01\n",
      "[11,]           6.914402e-01\n",
      "[12,]           1.487356e-02\n",
      "[13,]           4.950289e-03\n",
      "[14,]           6.399107e-01\n",
      "[15,]           2.506748e-03\n",
      "[16,]           2.811028e-05\n",
      "[17,]           5.034497e-03\n",
      "[18,]           4.129799e-03\n",
      "[19,]           1.936338e-03\n",
      "[20,]           1.261444e-05\n",
      "[21,]           9.976656e-05\n",
      "[22,]           2.580143e-04\n",
      "[23,]           1.034999e-03\n",
      "[24,]           1.263578e-02\n",
      "[25,]           7.054970e-05\n",
      "[26,]           1.071928e-04\n",
      "[27,]           2.686122e-05\n",
      "[28,]           5.820178e-03\n",
      "[29,]           6.813546e-02\n",
      "[30,]           2.015174e-01\n",
      "[31,]           8.218212e-01\n",
      "[32,]           1.082507e-03\n",
      "[33,]           4.675459e-04\n",
      "[34,]           3.291756e-03\n",
      "[35,]           1.836150e-02\n",
      "[36,]           1.257155e-04\n",
      "[37,]           2.469427e-03\n",
      "[38,]           9.626771e-03\n",
      "[39,]           8.008925e-04\n",
      "[40,]           1.357073e-02\n",
      "\n"
     ]
    }
   ],
   "source": [
    "preds <- predict.gbm(object = boost.diabt,\n",
    "                     newdata = test_set,\n",
    "                     n.trees = 1000,\n",
    "                     type = \"response\")\n",
    "print(preds)"
   ]
  },
  {
   "cell_type": "code",
   "execution_count": 13,
   "id": "weekly-prospect",
   "metadata": {},
   "outputs": [
    {
     "name": "stdout",
     "output_type": "stream",
     "text": [
      "     test_set.gender_status                   labels   res\n",
      "1    Male_diabetes mellitus Female_diabetes mellitus FALSE\n",
      "2  Female_diabetes mellitus Female_diabetes mellitus  TRUE\n",
      "3  Female_diabetes mellitus Female_diabetes mellitus  TRUE\n",
      "4  Female_diabetes mellitus     Female_Control Group FALSE\n",
      "5    Male_diabetes mellitus       Male_Control Group FALSE\n",
      "6    Male_diabetes mellitus Female_diabetes mellitus FALSE\n",
      "7    Male_diabetes mellitus   Male_diabetes mellitus  TRUE\n",
      "8  Female_diabetes mellitus Female_diabetes mellitus  TRUE\n",
      "9  Female_diabetes mellitus Female_diabetes mellitus  TRUE\n",
      "10   Male_diabetes mellitus   Male_diabetes mellitus  TRUE\n",
      "11   Male_diabetes mellitus   Male_diabetes mellitus  TRUE\n",
      "12   Male_diabetes mellitus       Male_Control Group FALSE\n",
      "13 Female_diabetes mellitus Female_diabetes mellitus  TRUE\n",
      "14 Female_diabetes mellitus   Male_diabetes mellitus FALSE\n",
      "15 Female_diabetes mellitus Female_diabetes mellitus  TRUE\n",
      "16       Male_Control Group       Male_Control Group  TRUE\n",
      "17       Male_Control Group       Male_Control Group  TRUE\n",
      "18       Male_Control Group       Male_Control Group  TRUE\n",
      "19       Male_Control Group       Male_Control Group  TRUE\n",
      "20       Male_Control Group       Male_Control Group  TRUE\n",
      "21     Female_Control Group     Female_Control Group  TRUE\n",
      "22     Female_Control Group     Female_Control Group  TRUE\n",
      "23     Female_Control Group     Female_Control Group  TRUE\n",
      "24     Female_Control Group     Female_Control Group  TRUE\n",
      "25       Male_Control Group       Male_Control Group  TRUE\n",
      "26       Male_Control Group       Male_Control Group  TRUE\n",
      "27       Male_Control Group       Male_Control Group  TRUE\n",
      "28       Male_Control Group       Male_Control Group  TRUE\n",
      "29     Female_Control Group     Female_Control Group  TRUE\n",
      "30     Female_Control Group       Male_Control Group FALSE\n",
      "31     Female_Control Group   Male_diabetes mellitus FALSE\n",
      "32       Male_Control Group       Male_Control Group  TRUE\n",
      "33       Male_Control Group       Male_Control Group  TRUE\n",
      "34       Male_Control Group       Male_Control Group  TRUE\n",
      "35       Male_Control Group       Male_Control Group  TRUE\n",
      "36     Female_Control Group     Female_Control Group  TRUE\n",
      "37       Male_Control Group       Male_Control Group  TRUE\n",
      "38       Male_Control Group       Male_Control Group  TRUE\n",
      "39       Male_Control Group       Male_Control Group  TRUE\n",
      "40       Male_Control Group       Male_Control Group  TRUE\n"
     ]
    }
   ],
   "source": [
    "labels <- colnames(preds)[apply(preds, 1, which.max)]\n",
    "result <- data.frame(test_set$gender_status, labels)\n",
    "result$res <- result$test_set.gender_status == result$labels\n",
    "print(result)"
   ]
  },
  {
   "cell_type": "code",
   "execution_count": 14,
   "id": "congressional-wallet",
   "metadata": {},
   "outputs": [
    {
     "name": "stdout",
     "output_type": "stream",
     "text": [
      "[1] 0.8\n"
     ]
    }
   ],
   "source": [
    "accuracy = sum(result$res)/nrow(result)\n",
    "print(accuracy)"
   ]
  },
  {
   "cell_type": "code",
   "execution_count": 15,
   "id": "posted-reform",
   "metadata": {},
   "outputs": [
    {
     "data": {
      "text/plain": [
       "                          Truth\n",
       "Prediction                 Female_Control Group Female_diabetes mellitus\n",
       "  Female_Control Group                        6                        1\n",
       "  Female_diabetes mellitus                    0                        6\n",
       "  Male_Control Group                          1                        0\n",
       "  Male_diabetes mellitus                      1                        1\n",
       "                          Truth\n",
       "Prediction                 Male_Control Group Male_diabetes mellitus\n",
       "  Female_Control Group                      0                      0\n",
       "  Female_diabetes mellitus                  0                      2\n",
       "  Male_Control Group                       17                      2\n",
       "  Male_diabetes mellitus                    0                      3"
      ]
     },
     "metadata": {},
     "output_type": "display_data"
    }
   ],
   "source": [
    "result %>%\n",
    "  mutate(test_set.gender_status = factor(test_set.gender_status),\n",
    "         pred.labels = factor(labels)) %>%\n",
    "  conf_mat(test_set.gender_status,pred.labels)"
   ]
  },
  {
   "cell_type": "markdown",
   "id": "peaceful-coaching",
   "metadata": {},
   "source": [
    "## Tuning a boosting model\n",
    "\n",
    "We now use `tidymodels` to build a recipe and workflow to tune our boosting model:\n",
    "\n",
    "1. splitting the data in training and test sets\n",
    "2. specify the preprocessing recipe (remove collinear/correlated variables, remove variables with no variance, normalize variables, impute missing data)\n",
    "3. partition the training set in k-folds for cross-validation to tune hyperparameter\n",
    "4. specify the boosting model:\n",
    "    - \"classification\" mode\n",
    "    - n. of trees (sequential models to combine)\n",
    "    - min. n. of obs per node $\\rightarrow$ tuning parameter\n",
    "    - tree depth $\\rightarrow$ tuning parameter\n",
    "    - shrinkage parameter (learning rate) $\\rightarrow$ tuning parameter\n",
    "5. define the grid (combinations) of hyperparameters to test\n",
    "6. put everything in a workflow\n",
    "7. run the fine-tuning of hyperparameters"
   ]
  },
  {
   "cell_type": "code",
   "execution_count": 16,
   "id": "novel-newfoundland",
   "metadata": {},
   "outputs": [],
   "source": [
    "## data splitting\n",
    "diab_dt <- select(mtbsl1, -c(`Primary ID`, Gender, Metabolic_syndrome))\n",
    "diab_dt$gender_status <- factor(diab_dt$gender_status)\n",
    "mtbsl1_split <- initial_split(diab_dt, strata = gender_status, prop = 0.7)\n",
    "mtbsl1_train <- training(mtbsl1_split)\n",
    "mtbsl1_test <- testing(mtbsl1_split)"
   ]
  },
  {
   "cell_type": "code",
   "execution_count": 17,
   "id": "unusual-freedom",
   "metadata": {},
   "outputs": [],
   "source": [
    "## preprocessing\n",
    "preprocessing_recipe <-\n",
    "  recipes::recipe(gender_status ~ ., data = mtbsl1_train) %>%\n",
    "  step_corr(all_predictors(), threshold = 0.9) %>% ## remove correlated variables\n",
    "  step_zv(all_numeric(), -all_outcomes()) %>%\n",
    "  step_normalize(all_numeric(), -all_outcomes()) %>%\n",
    "  step_impute_knn(all_numeric(), neighbors = 5) %>%\n",
    "  prep()"
   ]
  },
  {
   "cell_type": "code",
   "execution_count": 18,
   "id": "universal-stake",
   "metadata": {},
   "outputs": [],
   "source": [
    "## k-fold cross-validation for tuning\n",
    "diab_cv <- vfold_cv(mtbsl1_train, v=5, repeats = 5, strata = gender_status)"
   ]
  },
  {
   "cell_type": "code",
   "execution_count": 19,
   "id": "fifteen-lighter",
   "metadata": {},
   "outputs": [],
   "source": [
    "# XGBoost model specification\n",
    "xgboost_model <- \n",
    "  boost_tree(\n",
    "    mode = \"classification\",\n",
    "    trees = 100, ## B parameter\n",
    "    min_n = tune(),\n",
    "    tree_depth = tune(), ## d parameter\n",
    "    learn_rate = tune() \n",
    "  ) %>%\n",
    "  set_engine(\"xgboost\", objective = \"multi:softprob\", num_class = 4, lambda=0, alpha=1, verbose=0)"
   ]
  },
  {
   "cell_type": "code",
   "execution_count": 20,
   "id": "packed-temperature",
   "metadata": {},
   "outputs": [
    {
     "name": "stdout",
     "output_type": "stream",
     "text": [
      "\u001b[90m# A tibble: 15 × 3\u001b[39m\n",
      "   min_n tree_depth learn_rate\n",
      "   \u001b[3m\u001b[90m<int>\u001b[39m\u001b[23m      \u001b[3m\u001b[90m<int>\u001b[39m\u001b[23m      \u001b[3m\u001b[90m<dbl>\u001b[39m\u001b[23m\n",
      "\u001b[90m 1\u001b[39m    25         14   1.15\u001b[90me\u001b[39m\u001b[31m- 3\u001b[39m\n",
      "\u001b[90m 2\u001b[39m    28          1   1.83\u001b[90me\u001b[39m\u001b[31m- 3\u001b[39m\n",
      "\u001b[90m 3\u001b[39m     3          7   2.07\u001b[90me\u001b[39m\u001b[31m- 8\u001b[39m\n",
      "\u001b[90m 4\u001b[39m    35          9   8.92\u001b[90me\u001b[39m\u001b[31m- 7\u001b[39m\n",
      "\u001b[90m 5\u001b[39m     3          4   9.52\u001b[90me\u001b[39m\u001b[31m- 4\u001b[39m\n",
      "\u001b[90m 6\u001b[39m    39         15   8.05\u001b[90me\u001b[39m\u001b[31m- 7\u001b[39m\n",
      "\u001b[90m 7\u001b[39m    12         10   1.47\u001b[90me\u001b[39m\u001b[31m- 5\u001b[39m\n",
      "\u001b[90m 8\u001b[39m    25          5   1.10\u001b[90me\u001b[39m\u001b[31m-10\u001b[39m\n",
      "\u001b[90m 9\u001b[39m    36          9   9.66\u001b[90me\u001b[39m\u001b[31m- 2\u001b[39m\n",
      "\u001b[90m10\u001b[39m    35          2   6.78\u001b[90me\u001b[39m\u001b[31m- 9\u001b[39m\n",
      "\u001b[90m11\u001b[39m    17          5   1.74\u001b[90me\u001b[39m\u001b[31m- 6\u001b[39m\n",
      "\u001b[90m12\u001b[39m    14         10   6.10\u001b[90me\u001b[39m\u001b[31m-10\u001b[39m\n",
      "\u001b[90m13\u001b[39m     4         14   8.50\u001b[90me\u001b[39m\u001b[31m- 8\u001b[39m\n",
      "\u001b[90m14\u001b[39m    11          1   3.17\u001b[90me\u001b[39m\u001b[31m-10\u001b[39m\n",
      "\u001b[90m15\u001b[39m    14          9   6.08\u001b[90me\u001b[39m\u001b[31m- 2\u001b[39m\n"
     ]
    }
   ],
   "source": [
    "# grid specification\n",
    "xgboost_params <- \n",
    "  parameters(\n",
    "    min_n(),\n",
    "    tree_depth(),\n",
    "    learn_rate()\n",
    "  )\n",
    "\n",
    "xgboost_grid <- \n",
    "  grid_max_entropy(\n",
    "    xgboost_params, \n",
    "    size = 15\n",
    "  )\n",
    "\n",
    "print(xgboost_grid)"
   ]
  },
  {
   "cell_type": "code",
   "execution_count": 21,
   "id": "spare-marsh",
   "metadata": {},
   "outputs": [],
   "source": [
    "## workflow\n",
    "xgboost_wf <- \n",
    "  workflows::workflow() %>%\n",
    "  add_model(xgboost_model) %>% \n",
    "  add_formula(gender_status ~ .)"
   ]
  },
  {
   "cell_type": "code",
   "execution_count": 22,
   "id": "considerable-safety",
   "metadata": {
    "scrolled": false
   },
   "outputs": [],
   "source": [
    "# hyperparameter tuning\n",
    "xgboost_tuned <- tune_grid(\n",
    "  object = xgboost_wf,\n",
    "  resamples = diab_cv,\n",
    "  grid = xgboost_grid,\n",
    "  # metrics = yardstick::metric_set(rmse, rsq, mae),\n",
    "  control = control_grid(verbose = FALSE)\n",
    ")"
   ]
  },
  {
   "cell_type": "code",
   "execution_count": 23,
   "id": "violent-simpson",
   "metadata": {},
   "outputs": [
    {
     "data": {
      "text/html": [
       "<table class=\"dataframe\">\n",
       "<caption>A tibble: 30 × 9</caption>\n",
       "<thead>\n",
       "\t<tr><th scope=col>min_n</th><th scope=col>tree_depth</th><th scope=col>learn_rate</th><th scope=col>.metric</th><th scope=col>.estimator</th><th scope=col>mean</th><th scope=col>n</th><th scope=col>std_err</th><th scope=col>.config</th></tr>\n",
       "\t<tr><th scope=col>&lt;int&gt;</th><th scope=col>&lt;int&gt;</th><th scope=col>&lt;dbl&gt;</th><th scope=col>&lt;chr&gt;</th><th scope=col>&lt;chr&gt;</th><th scope=col>&lt;dbl&gt;</th><th scope=col>&lt;int&gt;</th><th scope=col>&lt;dbl&gt;</th><th scope=col>&lt;chr&gt;</th></tr>\n",
       "</thead>\n",
       "<tbody>\n",
       "\t<tr><td>25</td><td>14</td><td>1.148760e-03</td><td>accuracy</td><td>multiclass</td><td>0.4290205</td><td>25</td><td>0.002041774</td><td>Preprocessor1_Model01</td></tr>\n",
       "\t<tr><td>25</td><td>14</td><td>1.148760e-03</td><td>roc_auc </td><td>hand_till </td><td>0.5000000</td><td>25</td><td>0.000000000</td><td>Preprocessor1_Model01</td></tr>\n",
       "\t<tr><td>28</td><td> 1</td><td>1.832832e-03</td><td>accuracy</td><td>multiclass</td><td>0.2582602</td><td>25</td><td>0.018316935</td><td>Preprocessor1_Model02</td></tr>\n",
       "\t<tr><td>28</td><td> 1</td><td>1.832832e-03</td><td>roc_auc </td><td>hand_till </td><td>0.5000000</td><td>25</td><td>0.000000000</td><td>Preprocessor1_Model02</td></tr>\n",
       "\t<tr><td> 3</td><td> 7</td><td>2.073682e-08</td><td>accuracy</td><td>multiclass</td><td>0.5122953</td><td>25</td><td>0.017415771</td><td>Preprocessor1_Model03</td></tr>\n",
       "\t<tr><td> 3</td><td> 7</td><td>2.073682e-08</td><td>roc_auc </td><td>hand_till </td><td>0.7019709</td><td>25</td><td>0.013652924</td><td>Preprocessor1_Model03</td></tr>\n",
       "\t<tr><td>35</td><td> 9</td><td>8.923622e-07</td><td>accuracy</td><td>multiclass</td><td>0.2082602</td><td>25</td><td>0.002311799</td><td>Preprocessor1_Model04</td></tr>\n",
       "\t<tr><td>35</td><td> 9</td><td>8.923622e-07</td><td>roc_auc </td><td>hand_till </td><td>0.5000000</td><td>25</td><td>0.000000000</td><td>Preprocessor1_Model04</td></tr>\n",
       "\t<tr><td> 3</td><td> 4</td><td>9.520798e-04</td><td>accuracy</td><td>multiclass</td><td>0.6437281</td><td>25</td><td>0.019274687</td><td>Preprocessor1_Model05</td></tr>\n",
       "\t<tr><td> 3</td><td> 4</td><td>9.520798e-04</td><td>roc_auc </td><td>hand_till </td><td>0.7820271</td><td>25</td><td>0.013864367</td><td>Preprocessor1_Model05</td></tr>\n",
       "\t<tr><td>39</td><td>15</td><td>8.046945e-07</td><td>accuracy</td><td>multiclass</td><td>0.2082602</td><td>25</td><td>0.002311799</td><td>Preprocessor1_Model06</td></tr>\n",
       "\t<tr><td>39</td><td>15</td><td>8.046945e-07</td><td>roc_auc </td><td>hand_till </td><td>0.5000000</td><td>25</td><td>0.000000000</td><td>Preprocessor1_Model06</td></tr>\n",
       "\t<tr><td>12</td><td>10</td><td>1.472249e-05</td><td>accuracy</td><td>multiclass</td><td>0.5325877</td><td>25</td><td>0.012303410</td><td>Preprocessor1_Model07</td></tr>\n",
       "\t<tr><td>12</td><td>10</td><td>1.472249e-05</td><td>roc_auc </td><td>hand_till </td><td>0.7400231</td><td>25</td><td>0.013074103</td><td>Preprocessor1_Model07</td></tr>\n",
       "\t<tr><td>25</td><td> 5</td><td>1.095102e-10</td><td>accuracy</td><td>multiclass</td><td>0.2082602</td><td>25</td><td>0.002311799</td><td>Preprocessor1_Model08</td></tr>\n",
       "\t<tr><td>25</td><td> 5</td><td>1.095102e-10</td><td>roc_auc </td><td>hand_till </td><td>0.5000000</td><td>25</td><td>0.000000000</td><td>Preprocessor1_Model08</td></tr>\n",
       "\t<tr><td>36</td><td> 9</td><td>9.664709e-02</td><td>accuracy</td><td>multiclass</td><td>0.2082602</td><td>25</td><td>0.002311799</td><td>Preprocessor1_Model09</td></tr>\n",
       "\t<tr><td>36</td><td> 9</td><td>9.664709e-02</td><td>roc_auc </td><td>hand_till </td><td>0.5000000</td><td>25</td><td>0.000000000</td><td>Preprocessor1_Model09</td></tr>\n",
       "\t<tr><td>35</td><td> 2</td><td>6.776614e-09</td><td>accuracy</td><td>multiclass</td><td>0.2082602</td><td>25</td><td>0.002311799</td><td>Preprocessor1_Model10</td></tr>\n",
       "\t<tr><td>35</td><td> 2</td><td>6.776614e-09</td><td>roc_auc </td><td>hand_till </td><td>0.5000000</td><td>25</td><td>0.000000000</td><td>Preprocessor1_Model10</td></tr>\n",
       "\t<tr><td>17</td><td> 5</td><td>1.742311e-06</td><td>accuracy</td><td>multiclass</td><td>0.4290205</td><td>25</td><td>0.002041774</td><td>Preprocessor1_Model11</td></tr>\n",
       "\t<tr><td>17</td><td> 5</td><td>1.742311e-06</td><td>roc_auc </td><td>hand_till </td><td>0.5000000</td><td>25</td><td>0.000000000</td><td>Preprocessor1_Model11</td></tr>\n",
       "\t<tr><td>14</td><td>10</td><td>6.099883e-10</td><td>accuracy</td><td>multiclass</td><td>0.2082602</td><td>25</td><td>0.002311799</td><td>Preprocessor1_Model12</td></tr>\n",
       "\t<tr><td>14</td><td>10</td><td>6.099883e-10</td><td>roc_auc </td><td>hand_till </td><td>0.5000000</td><td>25</td><td>0.000000000</td><td>Preprocessor1_Model12</td></tr>\n",
       "\t<tr><td> 4</td><td>14</td><td>8.501635e-08</td><td>accuracy</td><td>multiclass</td><td>0.6216082</td><td>25</td><td>0.020548907</td><td>Preprocessor1_Model13</td></tr>\n",
       "\t<tr><td> 4</td><td>14</td><td>8.501635e-08</td><td>roc_auc </td><td>hand_till </td><td>0.7844808</td><td>25</td><td>0.015916752</td><td>Preprocessor1_Model13</td></tr>\n",
       "\t<tr><td>11</td><td> 1</td><td>3.173997e-10</td><td>accuracy</td><td>multiclass</td><td>0.2082602</td><td>25</td><td>0.002311799</td><td>Preprocessor1_Model14</td></tr>\n",
       "\t<tr><td>11</td><td> 1</td><td>3.173997e-10</td><td>roc_auc </td><td>hand_till </td><td>0.5000000</td><td>25</td><td>0.000000000</td><td>Preprocessor1_Model14</td></tr>\n",
       "\t<tr><td>14</td><td> 9</td><td>6.077101e-02</td><td>accuracy</td><td>multiclass</td><td>0.5442982</td><td>25</td><td>0.009766344</td><td>Preprocessor1_Model15</td></tr>\n",
       "\t<tr><td>14</td><td> 9</td><td>6.077101e-02</td><td>roc_auc </td><td>hand_till </td><td>0.7043651</td><td>25</td><td>0.006543300</td><td>Preprocessor1_Model15</td></tr>\n",
       "</tbody>\n",
       "</table>\n"
      ],
      "text/latex": [
       "A tibble: 30 × 9\n",
       "\\begin{tabular}{lllllllll}\n",
       " min\\_n & tree\\_depth & learn\\_rate & .metric & .estimator & mean & n & std\\_err & .config\\\\\n",
       " <int> & <int> & <dbl> & <chr> & <chr> & <dbl> & <int> & <dbl> & <chr>\\\\\n",
       "\\hline\n",
       "\t 25 & 14 & 1.148760e-03 & accuracy & multiclass & 0.4290205 & 25 & 0.002041774 & Preprocessor1\\_Model01\\\\\n",
       "\t 25 & 14 & 1.148760e-03 & roc\\_auc  & hand\\_till  & 0.5000000 & 25 & 0.000000000 & Preprocessor1\\_Model01\\\\\n",
       "\t 28 &  1 & 1.832832e-03 & accuracy & multiclass & 0.2582602 & 25 & 0.018316935 & Preprocessor1\\_Model02\\\\\n",
       "\t 28 &  1 & 1.832832e-03 & roc\\_auc  & hand\\_till  & 0.5000000 & 25 & 0.000000000 & Preprocessor1\\_Model02\\\\\n",
       "\t  3 &  7 & 2.073682e-08 & accuracy & multiclass & 0.5122953 & 25 & 0.017415771 & Preprocessor1\\_Model03\\\\\n",
       "\t  3 &  7 & 2.073682e-08 & roc\\_auc  & hand\\_till  & 0.7019709 & 25 & 0.013652924 & Preprocessor1\\_Model03\\\\\n",
       "\t 35 &  9 & 8.923622e-07 & accuracy & multiclass & 0.2082602 & 25 & 0.002311799 & Preprocessor1\\_Model04\\\\\n",
       "\t 35 &  9 & 8.923622e-07 & roc\\_auc  & hand\\_till  & 0.5000000 & 25 & 0.000000000 & Preprocessor1\\_Model04\\\\\n",
       "\t  3 &  4 & 9.520798e-04 & accuracy & multiclass & 0.6437281 & 25 & 0.019274687 & Preprocessor1\\_Model05\\\\\n",
       "\t  3 &  4 & 9.520798e-04 & roc\\_auc  & hand\\_till  & 0.7820271 & 25 & 0.013864367 & Preprocessor1\\_Model05\\\\\n",
       "\t 39 & 15 & 8.046945e-07 & accuracy & multiclass & 0.2082602 & 25 & 0.002311799 & Preprocessor1\\_Model06\\\\\n",
       "\t 39 & 15 & 8.046945e-07 & roc\\_auc  & hand\\_till  & 0.5000000 & 25 & 0.000000000 & Preprocessor1\\_Model06\\\\\n",
       "\t 12 & 10 & 1.472249e-05 & accuracy & multiclass & 0.5325877 & 25 & 0.012303410 & Preprocessor1\\_Model07\\\\\n",
       "\t 12 & 10 & 1.472249e-05 & roc\\_auc  & hand\\_till  & 0.7400231 & 25 & 0.013074103 & Preprocessor1\\_Model07\\\\\n",
       "\t 25 &  5 & 1.095102e-10 & accuracy & multiclass & 0.2082602 & 25 & 0.002311799 & Preprocessor1\\_Model08\\\\\n",
       "\t 25 &  5 & 1.095102e-10 & roc\\_auc  & hand\\_till  & 0.5000000 & 25 & 0.000000000 & Preprocessor1\\_Model08\\\\\n",
       "\t 36 &  9 & 9.664709e-02 & accuracy & multiclass & 0.2082602 & 25 & 0.002311799 & Preprocessor1\\_Model09\\\\\n",
       "\t 36 &  9 & 9.664709e-02 & roc\\_auc  & hand\\_till  & 0.5000000 & 25 & 0.000000000 & Preprocessor1\\_Model09\\\\\n",
       "\t 35 &  2 & 6.776614e-09 & accuracy & multiclass & 0.2082602 & 25 & 0.002311799 & Preprocessor1\\_Model10\\\\\n",
       "\t 35 &  2 & 6.776614e-09 & roc\\_auc  & hand\\_till  & 0.5000000 & 25 & 0.000000000 & Preprocessor1\\_Model10\\\\\n",
       "\t 17 &  5 & 1.742311e-06 & accuracy & multiclass & 0.4290205 & 25 & 0.002041774 & Preprocessor1\\_Model11\\\\\n",
       "\t 17 &  5 & 1.742311e-06 & roc\\_auc  & hand\\_till  & 0.5000000 & 25 & 0.000000000 & Preprocessor1\\_Model11\\\\\n",
       "\t 14 & 10 & 6.099883e-10 & accuracy & multiclass & 0.2082602 & 25 & 0.002311799 & Preprocessor1\\_Model12\\\\\n",
       "\t 14 & 10 & 6.099883e-10 & roc\\_auc  & hand\\_till  & 0.5000000 & 25 & 0.000000000 & Preprocessor1\\_Model12\\\\\n",
       "\t  4 & 14 & 8.501635e-08 & accuracy & multiclass & 0.6216082 & 25 & 0.020548907 & Preprocessor1\\_Model13\\\\\n",
       "\t  4 & 14 & 8.501635e-08 & roc\\_auc  & hand\\_till  & 0.7844808 & 25 & 0.015916752 & Preprocessor1\\_Model13\\\\\n",
       "\t 11 &  1 & 3.173997e-10 & accuracy & multiclass & 0.2082602 & 25 & 0.002311799 & Preprocessor1\\_Model14\\\\\n",
       "\t 11 &  1 & 3.173997e-10 & roc\\_auc  & hand\\_till  & 0.5000000 & 25 & 0.000000000 & Preprocessor1\\_Model14\\\\\n",
       "\t 14 &  9 & 6.077101e-02 & accuracy & multiclass & 0.5442982 & 25 & 0.009766344 & Preprocessor1\\_Model15\\\\\n",
       "\t 14 &  9 & 6.077101e-02 & roc\\_auc  & hand\\_till  & 0.7043651 & 25 & 0.006543300 & Preprocessor1\\_Model15\\\\\n",
       "\\end{tabular}\n"
      ],
      "text/markdown": [
       "\n",
       "A tibble: 30 × 9\n",
       "\n",
       "| min_n &lt;int&gt; | tree_depth &lt;int&gt; | learn_rate &lt;dbl&gt; | .metric &lt;chr&gt; | .estimator &lt;chr&gt; | mean &lt;dbl&gt; | n &lt;int&gt; | std_err &lt;dbl&gt; | .config &lt;chr&gt; |\n",
       "|---|---|---|---|---|---|---|---|---|\n",
       "| 25 | 14 | 1.148760e-03 | accuracy | multiclass | 0.4290205 | 25 | 0.002041774 | Preprocessor1_Model01 |\n",
       "| 25 | 14 | 1.148760e-03 | roc_auc  | hand_till  | 0.5000000 | 25 | 0.000000000 | Preprocessor1_Model01 |\n",
       "| 28 |  1 | 1.832832e-03 | accuracy | multiclass | 0.2582602 | 25 | 0.018316935 | Preprocessor1_Model02 |\n",
       "| 28 |  1 | 1.832832e-03 | roc_auc  | hand_till  | 0.5000000 | 25 | 0.000000000 | Preprocessor1_Model02 |\n",
       "|  3 |  7 | 2.073682e-08 | accuracy | multiclass | 0.5122953 | 25 | 0.017415771 | Preprocessor1_Model03 |\n",
       "|  3 |  7 | 2.073682e-08 | roc_auc  | hand_till  | 0.7019709 | 25 | 0.013652924 | Preprocessor1_Model03 |\n",
       "| 35 |  9 | 8.923622e-07 | accuracy | multiclass | 0.2082602 | 25 | 0.002311799 | Preprocessor1_Model04 |\n",
       "| 35 |  9 | 8.923622e-07 | roc_auc  | hand_till  | 0.5000000 | 25 | 0.000000000 | Preprocessor1_Model04 |\n",
       "|  3 |  4 | 9.520798e-04 | accuracy | multiclass | 0.6437281 | 25 | 0.019274687 | Preprocessor1_Model05 |\n",
       "|  3 |  4 | 9.520798e-04 | roc_auc  | hand_till  | 0.7820271 | 25 | 0.013864367 | Preprocessor1_Model05 |\n",
       "| 39 | 15 | 8.046945e-07 | accuracy | multiclass | 0.2082602 | 25 | 0.002311799 | Preprocessor1_Model06 |\n",
       "| 39 | 15 | 8.046945e-07 | roc_auc  | hand_till  | 0.5000000 | 25 | 0.000000000 | Preprocessor1_Model06 |\n",
       "| 12 | 10 | 1.472249e-05 | accuracy | multiclass | 0.5325877 | 25 | 0.012303410 | Preprocessor1_Model07 |\n",
       "| 12 | 10 | 1.472249e-05 | roc_auc  | hand_till  | 0.7400231 | 25 | 0.013074103 | Preprocessor1_Model07 |\n",
       "| 25 |  5 | 1.095102e-10 | accuracy | multiclass | 0.2082602 | 25 | 0.002311799 | Preprocessor1_Model08 |\n",
       "| 25 |  5 | 1.095102e-10 | roc_auc  | hand_till  | 0.5000000 | 25 | 0.000000000 | Preprocessor1_Model08 |\n",
       "| 36 |  9 | 9.664709e-02 | accuracy | multiclass | 0.2082602 | 25 | 0.002311799 | Preprocessor1_Model09 |\n",
       "| 36 |  9 | 9.664709e-02 | roc_auc  | hand_till  | 0.5000000 | 25 | 0.000000000 | Preprocessor1_Model09 |\n",
       "| 35 |  2 | 6.776614e-09 | accuracy | multiclass | 0.2082602 | 25 | 0.002311799 | Preprocessor1_Model10 |\n",
       "| 35 |  2 | 6.776614e-09 | roc_auc  | hand_till  | 0.5000000 | 25 | 0.000000000 | Preprocessor1_Model10 |\n",
       "| 17 |  5 | 1.742311e-06 | accuracy | multiclass | 0.4290205 | 25 | 0.002041774 | Preprocessor1_Model11 |\n",
       "| 17 |  5 | 1.742311e-06 | roc_auc  | hand_till  | 0.5000000 | 25 | 0.000000000 | Preprocessor1_Model11 |\n",
       "| 14 | 10 | 6.099883e-10 | accuracy | multiclass | 0.2082602 | 25 | 0.002311799 | Preprocessor1_Model12 |\n",
       "| 14 | 10 | 6.099883e-10 | roc_auc  | hand_till  | 0.5000000 | 25 | 0.000000000 | Preprocessor1_Model12 |\n",
       "|  4 | 14 | 8.501635e-08 | accuracy | multiclass | 0.6216082 | 25 | 0.020548907 | Preprocessor1_Model13 |\n",
       "|  4 | 14 | 8.501635e-08 | roc_auc  | hand_till  | 0.7844808 | 25 | 0.015916752 | Preprocessor1_Model13 |\n",
       "| 11 |  1 | 3.173997e-10 | accuracy | multiclass | 0.2082602 | 25 | 0.002311799 | Preprocessor1_Model14 |\n",
       "| 11 |  1 | 3.173997e-10 | roc_auc  | hand_till  | 0.5000000 | 25 | 0.000000000 | Preprocessor1_Model14 |\n",
       "| 14 |  9 | 6.077101e-02 | accuracy | multiclass | 0.5442982 | 25 | 0.009766344 | Preprocessor1_Model15 |\n",
       "| 14 |  9 | 6.077101e-02 | roc_auc  | hand_till  | 0.7043651 | 25 | 0.006543300 | Preprocessor1_Model15 |\n",
       "\n"
      ],
      "text/plain": [
       "   min_n tree_depth learn_rate   .metric  .estimator mean      n  std_err    \n",
       "1  25    14         1.148760e-03 accuracy multiclass 0.4290205 25 0.002041774\n",
       "2  25    14         1.148760e-03 roc_auc  hand_till  0.5000000 25 0.000000000\n",
       "3  28     1         1.832832e-03 accuracy multiclass 0.2582602 25 0.018316935\n",
       "4  28     1         1.832832e-03 roc_auc  hand_till  0.5000000 25 0.000000000\n",
       "5   3     7         2.073682e-08 accuracy multiclass 0.5122953 25 0.017415771\n",
       "6   3     7         2.073682e-08 roc_auc  hand_till  0.7019709 25 0.013652924\n",
       "7  35     9         8.923622e-07 accuracy multiclass 0.2082602 25 0.002311799\n",
       "8  35     9         8.923622e-07 roc_auc  hand_till  0.5000000 25 0.000000000\n",
       "9   3     4         9.520798e-04 accuracy multiclass 0.6437281 25 0.019274687\n",
       "10  3     4         9.520798e-04 roc_auc  hand_till  0.7820271 25 0.013864367\n",
       "11 39    15         8.046945e-07 accuracy multiclass 0.2082602 25 0.002311799\n",
       "12 39    15         8.046945e-07 roc_auc  hand_till  0.5000000 25 0.000000000\n",
       "13 12    10         1.472249e-05 accuracy multiclass 0.5325877 25 0.012303410\n",
       "14 12    10         1.472249e-05 roc_auc  hand_till  0.7400231 25 0.013074103\n",
       "15 25     5         1.095102e-10 accuracy multiclass 0.2082602 25 0.002311799\n",
       "16 25     5         1.095102e-10 roc_auc  hand_till  0.5000000 25 0.000000000\n",
       "17 36     9         9.664709e-02 accuracy multiclass 0.2082602 25 0.002311799\n",
       "18 36     9         9.664709e-02 roc_auc  hand_till  0.5000000 25 0.000000000\n",
       "19 35     2         6.776614e-09 accuracy multiclass 0.2082602 25 0.002311799\n",
       "20 35     2         6.776614e-09 roc_auc  hand_till  0.5000000 25 0.000000000\n",
       "21 17     5         1.742311e-06 accuracy multiclass 0.4290205 25 0.002041774\n",
       "22 17     5         1.742311e-06 roc_auc  hand_till  0.5000000 25 0.000000000\n",
       "23 14    10         6.099883e-10 accuracy multiclass 0.2082602 25 0.002311799\n",
       "24 14    10         6.099883e-10 roc_auc  hand_till  0.5000000 25 0.000000000\n",
       "25  4    14         8.501635e-08 accuracy multiclass 0.6216082 25 0.020548907\n",
       "26  4    14         8.501635e-08 roc_auc  hand_till  0.7844808 25 0.015916752\n",
       "27 11     1         3.173997e-10 accuracy multiclass 0.2082602 25 0.002311799\n",
       "28 11     1         3.173997e-10 roc_auc  hand_till  0.5000000 25 0.000000000\n",
       "29 14     9         6.077101e-02 accuracy multiclass 0.5442982 25 0.009766344\n",
       "30 14     9         6.077101e-02 roc_auc  hand_till  0.7043651 25 0.006543300\n",
       "   .config              \n",
       "1  Preprocessor1_Model01\n",
       "2  Preprocessor1_Model01\n",
       "3  Preprocessor1_Model02\n",
       "4  Preprocessor1_Model02\n",
       "5  Preprocessor1_Model03\n",
       "6  Preprocessor1_Model03\n",
       "7  Preprocessor1_Model04\n",
       "8  Preprocessor1_Model04\n",
       "9  Preprocessor1_Model05\n",
       "10 Preprocessor1_Model05\n",
       "11 Preprocessor1_Model06\n",
       "12 Preprocessor1_Model06\n",
       "13 Preprocessor1_Model07\n",
       "14 Preprocessor1_Model07\n",
       "15 Preprocessor1_Model08\n",
       "16 Preprocessor1_Model08\n",
       "17 Preprocessor1_Model09\n",
       "18 Preprocessor1_Model09\n",
       "19 Preprocessor1_Model10\n",
       "20 Preprocessor1_Model10\n",
       "21 Preprocessor1_Model11\n",
       "22 Preprocessor1_Model11\n",
       "23 Preprocessor1_Model12\n",
       "24 Preprocessor1_Model12\n",
       "25 Preprocessor1_Model13\n",
       "26 Preprocessor1_Model13\n",
       "27 Preprocessor1_Model14\n",
       "28 Preprocessor1_Model14\n",
       "29 Preprocessor1_Model15\n",
       "30 Preprocessor1_Model15"
      ]
     },
     "metadata": {},
     "output_type": "display_data"
    }
   ],
   "source": [
    "## explore tuning results\n",
    "collect_metrics(xgboost_tuned)"
   ]
  },
  {
   "cell_type": "code",
   "execution_count": 24,
   "id": "documentary-greenhouse",
   "metadata": {},
   "outputs": [
    {
     "ename": "ERROR",
     "evalue": "Error in parse(text = x, srcfile = src): <text>:1:1: unexpected '$'\n1: $\n    ^\n",
     "output_type": "error",
     "traceback": [
      "Error in parse(text = x, srcfile = src): <text>:1:1: unexpected '$'\n1: $\n    ^\nTraceback:\n"
     ]
    }
   ],
   "source": [
    "$\\rightarrow$ tuning parameterlibrary(\"repr\")\n",
    "options(repr.plot.width=14, repr.plot.height=8)\n",
    "\n",
    "xgboost_tuned %>%\n",
    "  collect_metrics() %>%\n",
    "  filter(.metric == \"accuracy\") %>%\n",
    "  select(mean, min_n:learn_rate) %>%\n",
    "  pivot_longer(min_n:learn_rate,\n",
    "               values_to = \"value\",\n",
    "               names_to = \"parameter\"\n",
    "  ) %>%\n",
    "  ggplot(aes(value, mean, color = parameter)) +\n",
    "  geom_point(alpha = 0.8, show.legend = FALSE) +\n",
    "  facet_wrap(~parameter, scales = \"free_x\") +\n",
    "  labs(x = NULL, y = \"accuracy\")"
   ]
  },
  {
   "cell_type": "markdown",
   "id": "planned-commission",
   "metadata": {},
   "source": [
    "### Select and evaluate the best model\n",
    "\n",
    "We show the best models in terms of ROC AUC. then:\n",
    "\n",
    "- we select the most accurate model\n",
    "- we add the best model to the workflow $\\rightarrow$ final workflow\n",
    "- fit the final model on the data split (fit on training data, evaluate on test data)\n",
    "- collect results and look at key metrics\n",
    "- calculate the accuracy of predictions (confusion matrix)\n",
    "- finally, extract variable importance"
   ]
  },
  {
   "cell_type": "code",
   "execution_count": null,
   "id": "focal-telephone",
   "metadata": {},
   "outputs": [],
   "source": [
    "xgboost_tuned %>%\n",
    "  show_best(metric = \"roc_auc\")"
   ]
  },
  {
   "cell_type": "code",
   "execution_count": null,
   "id": "experienced-mambo",
   "metadata": {},
   "outputs": [],
   "source": [
    "xgboost_best_params <- xgboost_tuned %>%\n",
    "  select_best(\"accuracy\")\n",
    "\n",
    "print(xgboost_best_params)"
   ]
  },
  {
   "cell_type": "code",
   "execution_count": null,
   "id": "adjacent-right",
   "metadata": {},
   "outputs": [],
   "source": [
    "final_xgb <- finalize_workflow(\n",
    "  xgboost_wf,\n",
    "  xgboost_best_params\n",
    ")"
   ]
  },
  {
   "cell_type": "code",
   "execution_count": null,
   "id": "careful-affairs",
   "metadata": {},
   "outputs": [],
   "source": [
    "final_res <- last_fit(final_xgb, mtbsl1_split)\n",
    "collect_metrics(final_res)\n",
    "\n",
    "collect_predictions(final_res) %>%\n",
    "  metrics(gender_status, .pred_class)\n"
   ]
  },
  {
   "cell_type": "code",
   "execution_count": null,
   "id": "prepared-beaver",
   "metadata": {},
   "outputs": [],
   "source": [
    "cm <- collect_predictions(final_res) %>%\n",
    "  conf_mat(gender_status, .pred_class)\n",
    "\n",
    "print(cm)"
   ]
  },
  {
   "cell_type": "code",
   "execution_count": null,
   "id": "interested-magnitude",
   "metadata": {},
   "outputs": [],
   "source": [
    "autoplot(cm, type=\"heatmap\")"
   ]
  },
  {
   "cell_type": "code",
   "execution_count": null,
   "id": "phantom-algorithm",
   "metadata": {},
   "outputs": [],
   "source": [
    "library(\"vip\")\n",
    "\n",
    "final_xgb %>%\n",
    "  fit(data = juice(preprocessing_recipe)) %>%\n",
    "  pull_workflow_fit() %>%\n",
    "  vip(geom = \"point\")"
   ]
  }
 ],
 "metadata": {
  "kernelspec": {
   "display_name": "R",
   "language": "R",
   "name": "ir"
  },
  "language_info": {
   "codemirror_mode": "r",
   "file_extension": ".r",
   "mimetype": "text/x-r-source",
   "name": "R",
   "pygments_lexer": "r",
   "version": "4.1.2"
  }
 },
 "nbformat": 4,
 "nbformat_minor": 5
}
