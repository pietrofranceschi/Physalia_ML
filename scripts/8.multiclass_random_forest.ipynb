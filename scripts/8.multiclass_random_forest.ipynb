{
 "cells": [
  {
   "cell_type": "raw",
   "id": "mental-tuning",
   "metadata": {},
   "source": [
    "---\n",
    "title: \"Random Forest for multiclass classification\"\n",
    "author: \"Filippo Biscarini\"\n",
    "date: \"7/9/2020\"\n",
    "output: html_document\n",
    "---"
   ]
  },
  {
   "cell_type": "markdown",
   "id": "thousand-messenger",
   "metadata": {},
   "source": [
    "## Random Forest for multiclass classification (tidymodels inside)\n",
    "\n",
    "We now move on from binary to multiclass classification, and put together also the use of `tidymodels`. We use the same dataset on diabetes and metabolomics that we used for the Lasso model using `tidymodels`"
   ]
  },
  {
   "cell_type": "code",
   "execution_count": null,
   "id": "tight-grammar",
   "metadata": {},
   "outputs": [],
   "source": [
    "library(\"vip\")\n",
    "library(\"ggplot2\")\n",
    "library(\"tidyverse\")\n",
    "library(\"tidymodels\")\n",
    "library(\"data.table\")\n",
    "library(\"randomForest\")"
   ]
  },
  {
   "cell_type": "code",
   "execution_count": null,
   "id": "spread-kinase",
   "metadata": {},
   "outputs": [],
   "source": [
    "mtbsl1 <- fread(\"../data/MTBSL1.tsv\")\n",
    "names(mtbsl1)[c(4:ncol(mtbsl1))] <- paste(\"mtbl\",seq(1,ncol(mtbsl1)-3), sep = \"_\")"
   ]
  },
  {
   "cell_type": "markdown",
   "id": "classical-mitchell",
   "metadata": {},
   "source": [
    "We combine the variables `Gender` and `Metabolic_syndrom` to create a synthetic outcome variable with four classes:"
   ]
  },
  {
   "cell_type": "code",
   "execution_count": null,
   "id": "color-latitude",
   "metadata": {},
   "outputs": [],
   "source": [
    "mtbsl1$gender_status <- paste(mtbsl1$Gender,mtbsl1$Metabolic_syndrome,sep=\"_\")\n",
    "mtbsl1 %>% group_by(gender_status) %>%\n",
    "    summarise(N=n())"
   ]
  },
  {
   "cell_type": "markdown",
   "id": "supported-classification",
   "metadata": {},
   "source": [
    "#### Data splitting\n",
    "\n",
    "We first split the data in the training and test sets (stratifying by the categorical outcome):"
   ]
  },
  {
   "cell_type": "code",
   "execution_count": null,
   "id": "orange-hygiene",
   "metadata": {},
   "outputs": [],
   "source": [
    "diab_dt <- select(mtbsl1, -c(`Primary ID`, Gender, Metabolic_syndrome))\n",
    "mtbsl1_split <- initial_split(diab_dt, strata = gender_status, prop = 0.75)\n",
    "mtbsl1_train <- training(mtbsl1_split)\n",
    "mtbsl1_test <- testing(mtbsl1_split)\n",
    "\n",
    "nrow(mtbsl1_train)\n",
    "nrow(mtbsl1_test)"
   ]
  },
  {
   "cell_type": "markdown",
   "id": "municipal-colon",
   "metadata": {},
   "source": [
    "#### Preprocessing\n",
    "\n",
    "We use tidymodels to build a recipe for data preprocessing:\n",
    "\n",
    "- remove correlated variables\n",
    "- remove non informative variables (zero variance)\n",
    "- standardize all variables\n",
    "- impute missing data (Random Forest does not handle missing data)"
   ]
  },
  {
   "cell_type": "code",
   "execution_count": null,
   "id": "dominant-commodity",
   "metadata": {},
   "outputs": [],
   "source": [
    "diab_recipe <- mtbsl1_train %>%\n",
    "  recipe(gender_status ~ .) %>%\n",
    "  step_corr(all_predictors(), threshold = 0.9) %>%\n",
    "  step_zv(all_numeric(), -all_outcomes()) %>%\n",
    "  step_normalize(all_numeric(), -all_outcomes()) %>%\n",
    "  step_knnimpute(all_numeric(), neighbors = 5)"
   ]
  },
  {
   "cell_type": "code",
   "execution_count": null,
   "id": "enabling-glossary",
   "metadata": {},
   "outputs": [],
   "source": [
    "prep_diab <- prep(diab_recipe)\n",
    "print(prep_diab)"
   ]
  },
  {
   "cell_type": "code",
   "execution_count": null,
   "id": "velvet-flush",
   "metadata": {},
   "outputs": [],
   "source": [
    "training_set <- juice(prep_diab)\n",
    "head(training_set)"
   ]
  },
  {
   "cell_type": "markdown",
   "id": "victorian-residence",
   "metadata": {},
   "source": [
    "#### Model building\n",
    "\n",
    "We now specify the structure of our model:\n",
    "\n",
    "- hyperparameters to tune: `mtry` (number of features to sample for each tree) and `min_n` (minimum number of data points in a node to allow further splitting)\n",
    "- number of trees in the forest\n",
    "- the problem at hand (classification)\n",
    "- the engine (R package)\n",
    "\n",
    "Then we put this in a workflow together with the preprocessing recipe"
   ]
  },
  {
   "cell_type": "code",
   "execution_count": null,
   "id": "tropical-record",
   "metadata": {},
   "outputs": [],
   "source": [
    "tune_spec <- rand_forest(\n",
    "  mtry = tune(),\n",
    "  trees = 100,\n",
    "  min_n = tune()\n",
    ") %>%\n",
    "  set_mode(\"classification\") %>%\n",
    "  set_engine(\"randomForest\")"
   ]
  },
  {
   "cell_type": "code",
   "execution_count": null,
   "id": "former-johnston",
   "metadata": {},
   "outputs": [],
   "source": [
    "tune_wf <- workflow() %>%\n",
    "  add_formula(gender_status ~ .) %>%\n",
    "  add_model(tune_spec)"
   ]
  },
  {
   "cell_type": "markdown",
   "id": "suitable-header",
   "metadata": {},
   "source": [
    "#### Tuning the hyperparameters\n",
    "\n",
    "We use k-fold cross-validation to tune the hyperparameters in the training set"
   ]
  },
  {
   "cell_type": "code",
   "execution_count": null,
   "id": "realistic-encoding",
   "metadata": {},
   "outputs": [],
   "source": [
    "trees_folds <- vfold_cv(training_set, v = 5, repeats = 5)"
   ]
  },
  {
   "cell_type": "code",
   "execution_count": null,
   "id": "immediate-washer",
   "metadata": {},
   "outputs": [],
   "source": [
    "print(trees_folds)"
   ]
  },
  {
   "cell_type": "code",
   "execution_count": null,
   "id": "mathematical-anaheim",
   "metadata": {},
   "outputs": [],
   "source": [
    "doParallel::registerDoParallel()\n",
    "\n",
    "tune_res <- tune_grid(\n",
    "  tune_wf,\n",
    "  resamples = trees_folds,\n",
    "  grid = 20\n",
    ")\n"
   ]
  },
  {
   "cell_type": "code",
   "execution_count": null,
   "id": "spectacular-snake",
   "metadata": {},
   "outputs": [],
   "source": [
    "print(tune_res)"
   ]
  },
  {
   "cell_type": "code",
   "execution_count": null,
   "id": "parliamentary-exhibition",
   "metadata": {},
   "outputs": [],
   "source": [
    "library(\"repr\")\n",
    "options(repr.plot.width=14, repr.plot.height=8)\n",
    "\n",
    "tune_res %>%\n",
    "  collect_metrics() %>%\n",
    "  filter(.metric == \"roc_auc\") %>%\n",
    "  select(mean, min_n, mtry) %>%\n",
    "  pivot_longer(min_n:mtry,\n",
    "               values_to = \"value\",\n",
    "               names_to = \"parameter\"\n",
    "  ) %>%\n",
    "  ggplot(aes(value, mean, color = parameter)) +\n",
    "  geom_point(show.legend = FALSE) +\n",
    "  facet_wrap(~parameter, scales = \"free_x\") +\n",
    "  labs(x = NULL, y = \"AUC\")"
   ]
  },
  {
   "cell_type": "code",
   "execution_count": null,
   "id": "adverse-imaging",
   "metadata": {},
   "outputs": [],
   "source": [
    "m <- round(sqrt(ncol(training_set)-1),0)\n",
    "print(m)\n",
    "rf_grid <- grid_regular(\n",
    "  mtry(range = c(m-2, m+2)),\n",
    "  min_n(range = c(8, 12)),\n",
    "  levels = 3\n",
    ")\n"
   ]
  },
  {
   "cell_type": "code",
   "execution_count": null,
   "id": "welcome-little",
   "metadata": {},
   "outputs": [],
   "source": [
    "print(rf_grid)"
   ]
  },
  {
   "cell_type": "code",
   "execution_count": null,
   "id": "racial-preservation",
   "metadata": {},
   "outputs": [],
   "source": [
    "regular_res <- tune_grid(\n",
    "  tune_wf,\n",
    "  resamples = trees_folds,\n",
    "  grid = rf_grid\n",
    ")"
   ]
  },
  {
   "cell_type": "code",
   "execution_count": null,
   "id": "coastal-advocacy",
   "metadata": {},
   "outputs": [],
   "source": [
    "print(regular_res)"
   ]
  },
  {
   "cell_type": "code",
   "execution_count": null,
   "id": "subjective-round",
   "metadata": {},
   "outputs": [],
   "source": [
    "regular_res %>%\n",
    "  collect_metrics() %>%\n",
    "  filter(.metric == \"roc_auc\") %>%\n",
    "  mutate(min_n = factor(min_n)) %>%\n",
    "  ggplot(aes(mtry, mean, color = min_n)) +\n",
    "  geom_line(alpha = 0.5, size = 1.5) +\n",
    "  geom_point() +\n",
    "  labs(y = \"AUC\")"
   ]
  },
  {
   "cell_type": "markdown",
   "id": "intended-public",
   "metadata": {},
   "source": [
    "#### Final model\n",
    "\n",
    "We now select the best model from the hyperparameters tuning, and fit it to the training set:"
   ]
  },
  {
   "cell_type": "code",
   "execution_count": null,
   "id": "loaded-hamburg",
   "metadata": {},
   "outputs": [],
   "source": [
    "best_auc <- select_best(tune_res, \"roc_auc\")\n",
    "print(best_auc)"
   ]
  },
  {
   "cell_type": "code",
   "execution_count": null,
   "id": "republican-transparency",
   "metadata": {},
   "outputs": [],
   "source": [
    "final_rf <- finalize_model(\n",
    "  tune_spec,\n",
    "  best_auc\n",
    ")\n",
    "\n",
    "print(final_rf)"
   ]
  },
  {
   "cell_type": "code",
   "execution_count": null,
   "id": "stuffed-spread",
   "metadata": {},
   "outputs": [],
   "source": [
    "final_wf <- workflow() %>%\n",
    "  add_recipe(diab_recipe) %>%\n",
    "  add_model(final_rf)\n",
    "\n",
    "final_res <- final_wf %>%\n",
    "  last_fit(mtbsl1_split)"
   ]
  },
  {
   "cell_type": "code",
   "execution_count": null,
   "id": "fourth-cambodia",
   "metadata": {},
   "outputs": [],
   "source": [
    "print(final_res)\n",
    "final_res %>%\n",
    "  collect_metrics()"
   ]
  },
  {
   "cell_type": "code",
   "execution_count": null,
   "id": "unnecessary-cabinet",
   "metadata": {},
   "outputs": [],
   "source": [
    "final_res %>% \n",
    "  pluck(\".workflow\", 1) %>%   \n",
    "  pull_workflow_fit() %>% \n",
    "  #vip(num_features = 20, geom = \"point\")\n",
    "  vip(num_features = 25)"
   ]
  },
  {
   "cell_type": "markdown",
   "id": "ancient-paint",
   "metadata": {},
   "source": [
    "#### Predictions"
   ]
  },
  {
   "cell_type": "code",
   "execution_count": null,
   "id": "spoken-childhood",
   "metadata": {},
   "outputs": [],
   "source": [
    "final_res %>%\n",
    "  collect_predictions()"
   ]
  },
  {
   "cell_type": "code",
   "execution_count": null,
   "id": "employed-parliament",
   "metadata": {},
   "outputs": [],
   "source": [
    "cm <- final_res %>%\n",
    "  collect_predictions() %>%\n",
    "  conf_mat(gender_status, .pred_class)\n",
    "\n",
    "print(cm)"
   ]
  },
  {
   "cell_type": "code",
   "execution_count": null,
   "id": "ordered-genetics",
   "metadata": {
    "scrolled": true
   },
   "outputs": [],
   "source": [
    "autoplot(cm, type = \"heatmap\")"
   ]
  }
 ],
 "metadata": {
  "kernelspec": {
   "display_name": "R",
   "language": "R",
   "name": "ir"
  },
  "language_info": {
   "codemirror_mode": "r",
   "file_extension": ".r",
   "mimetype": "text/x-r-source",
   "name": "R",
   "pygments_lexer": "r",
   "version": "4.0.4"
  }
 },
 "nbformat": 4,
 "nbformat_minor": 5
}
