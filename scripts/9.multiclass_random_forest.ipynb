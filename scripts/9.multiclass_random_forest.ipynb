{
 "cells": [
  {
   "cell_type": "raw",
   "id": "mental-tuning",
   "metadata": {},
   "source": [
    "---\n",
    "title: \"Random Forest for multiclass classification\"\n",
    "author: \"Filippo Biscarini\"\n",
    "date: \"20/02/2020\"\n",
    "output: html_document\n",
    "---"
   ]
  },
  {
   "cell_type": "markdown",
   "id": "thousand-messenger",
   "metadata": {},
   "source": [
    "## Random Forest for multiclass classification (tidymodels inside)\n",
    "\n",
    "We now move on from binary to multiclass classification, and put together also the use of `tidymodels`. We use the same dataset on diabetes and metabolomics that we used for the Lasso model using `tidymodels`"
   ]
  },
  {
   "cell_type": "code",
   "execution_count": 1,
   "id": "tight-grammar",
   "metadata": {},
   "outputs": [
    {
     "name": "stderr",
     "output_type": "stream",
     "text": [
      "\n",
      "Attaching package: ‘vip’\n",
      "\n",
      "\n",
      "The following object is masked from ‘package:utils’:\n",
      "\n",
      "    vi\n",
      "\n",
      "\n",
      "── \u001b[1mAttaching packages\u001b[22m ────────────────────────────────────────────────────────────────────────────────────────────────────────────────────────────────────────────────────────────────── tidyverse 1.3.1 ──\n",
      "\n",
      "\u001b[32m✔\u001b[39m \u001b[34mtibble \u001b[39m 3.1.6     \u001b[32m✔\u001b[39m \u001b[34mdplyr  \u001b[39m 1.0.6\n",
      "\u001b[32m✔\u001b[39m \u001b[34mtidyr  \u001b[39m 1.1.3     \u001b[32m✔\u001b[39m \u001b[34mstringr\u001b[39m 1.4.0\n",
      "\u001b[32m✔\u001b[39m \u001b[34mreadr  \u001b[39m 2.1.2     \u001b[32m✔\u001b[39m \u001b[34mforcats\u001b[39m 0.5.1\n",
      "\u001b[32m✔\u001b[39m \u001b[34mpurrr  \u001b[39m 0.3.4     \n",
      "\n",
      "── \u001b[1mConflicts\u001b[22m ───────────────────────────────────────────────────────────────────────────────────────────────────────────────────────────────────────────────────────────────────── tidyverse_conflicts() ──\n",
      "\u001b[31m✖\u001b[39m \u001b[34mdplyr\u001b[39m::\u001b[32mfilter()\u001b[39m masks \u001b[34mstats\u001b[39m::filter()\n",
      "\u001b[31m✖\u001b[39m \u001b[34mdplyr\u001b[39m::\u001b[32mlag()\u001b[39m    masks \u001b[34mstats\u001b[39m::lag()\n",
      "\n",
      "Registered S3 method overwritten by 'tune':\n",
      "  method                   from   \n",
      "  required_pkgs.model_spec parsnip\n",
      "\n",
      "── \u001b[1mAttaching packages\u001b[22m ───────────────────────────────────────────────────────────────────────────────────────────────────────────────────────────────────────────────────────────────── tidymodels 0.1.3 ──\n",
      "\n",
      "\u001b[32m✔\u001b[39m \u001b[34mbroom       \u001b[39m 0.7.6      \u001b[32m✔\u001b[39m \u001b[34mrsample     \u001b[39m 0.1.0 \n",
      "\u001b[32m✔\u001b[39m \u001b[34mdials       \u001b[39m 0.0.9      \u001b[32m✔\u001b[39m \u001b[34mtune        \u001b[39m 0.1.5 \n",
      "\u001b[32m✔\u001b[39m \u001b[34minfer       \u001b[39m 0.5.4      \u001b[32m✔\u001b[39m \u001b[34mworkflows   \u001b[39m 0.2.2 \n",
      "\u001b[32m✔\u001b[39m \u001b[34mmodeldata   \u001b[39m 0.1.0      \u001b[32m✔\u001b[39m \u001b[34mworkflowsets\u001b[39m 0.0.2 \n",
      "\u001b[32m✔\u001b[39m \u001b[34mparsnip     \u001b[39m 0.1.7      \u001b[32m✔\u001b[39m \u001b[34myardstick   \u001b[39m 0.0.8 \n",
      "\u001b[32m✔\u001b[39m \u001b[34mrecipes     \u001b[39m 0.1.16     \n",
      "\n",
      "── \u001b[1mConflicts\u001b[22m ──────────────────────────────────────────────────────────────────────────────────────────────────────────────────────────────────────────────────────────────────── tidymodels_conflicts() ──\n",
      "\u001b[31m✖\u001b[39m \u001b[34mscales\u001b[39m::\u001b[32mdiscard()\u001b[39m masks \u001b[34mpurrr\u001b[39m::discard()\n",
      "\u001b[31m✖\u001b[39m \u001b[34mdplyr\u001b[39m::\u001b[32mfilter()\u001b[39m   masks \u001b[34mstats\u001b[39m::filter()\n",
      "\u001b[31m✖\u001b[39m \u001b[34mrecipes\u001b[39m::\u001b[32mfixed()\u001b[39m  masks \u001b[34mstringr\u001b[39m::fixed()\n",
      "\u001b[31m✖\u001b[39m \u001b[34mdplyr\u001b[39m::\u001b[32mlag()\u001b[39m      masks \u001b[34mstats\u001b[39m::lag()\n",
      "\u001b[31m✖\u001b[39m \u001b[34myardstick\u001b[39m::\u001b[32mspec()\u001b[39m masks \u001b[34mreadr\u001b[39m::spec()\n",
      "\u001b[31m✖\u001b[39m \u001b[34mrecipes\u001b[39m::\u001b[32mstep()\u001b[39m   masks \u001b[34mstats\u001b[39m::step()\n",
      "\u001b[34m•\u001b[39m Use \u001b[32mtidymodels_prefer()\u001b[39m to resolve common conflicts.\n",
      "\n",
      "\n",
      "Attaching package: ‘data.table’\n",
      "\n",
      "\n",
      "The following objects are masked from ‘package:dplyr’:\n",
      "\n",
      "    between, first, last\n",
      "\n",
      "\n",
      "The following object is masked from ‘package:purrr’:\n",
      "\n",
      "    transpose\n",
      "\n",
      "\n",
      "randomForest 4.6-14\n",
      "\n",
      "Type rfNews() to see new features/changes/bug fixes.\n",
      "\n",
      "\n",
      "Attaching package: ‘randomForest’\n",
      "\n",
      "\n",
      "The following object is masked from ‘package:dplyr’:\n",
      "\n",
      "    combine\n",
      "\n",
      "\n",
      "The following object is masked from ‘package:ggplot2’:\n",
      "\n",
      "    margin\n",
      "\n",
      "\n"
     ]
    }
   ],
   "source": [
    "library(\"vip\")\n",
    "library(\"ggplot2\")\n",
    "library(\"tidyverse\")\n",
    "library(\"tidymodels\")\n",
    "library(\"data.table\")\n",
    "library(\"randomForest\")"
   ]
  },
  {
   "cell_type": "code",
   "execution_count": 2,
   "id": "spread-kinase",
   "metadata": {},
   "outputs": [],
   "source": [
    "mtbsl1 <- fread(\"../data/MTBSL1.tsv\")\n",
    "names(mtbsl1)[c(4:ncol(mtbsl1))] <- paste(\"mtbl\",seq(1,ncol(mtbsl1)-3), sep = \"_\")"
   ]
  },
  {
   "cell_type": "markdown",
   "id": "classical-mitchell",
   "metadata": {},
   "source": [
    "#### Creating the multinomial variable \n",
    "\n",
    "We combine the variables `Gender` and `Metabolic_syndrom` to create a synthetic outcome variable with four classes:"
   ]
  },
  {
   "cell_type": "code",
   "execution_count": 3,
   "id": "color-latitude",
   "metadata": {},
   "outputs": [
    {
     "data": {
      "text/html": [
       "<table class=\"dataframe\">\n",
       "<caption>A tibble: 4 × 2</caption>\n",
       "<thead>\n",
       "\t<tr><th scope=col>gender_status</th><th scope=col>N</th></tr>\n",
       "\t<tr><th scope=col>&lt;chr&gt;</th><th scope=col>&lt;int&gt;</th></tr>\n",
       "</thead>\n",
       "<tbody>\n",
       "\t<tr><td>Female_Control Group    </td><td>28</td></tr>\n",
       "\t<tr><td>Female_diabetes mellitus</td><td>26</td></tr>\n",
       "\t<tr><td>Male_Control Group      </td><td>56</td></tr>\n",
       "\t<tr><td>Male_diabetes mellitus  </td><td>22</td></tr>\n",
       "</tbody>\n",
       "</table>\n"
      ],
      "text/latex": [
       "A tibble: 4 × 2\n",
       "\\begin{tabular}{ll}\n",
       " gender\\_status & N\\\\\n",
       " <chr> & <int>\\\\\n",
       "\\hline\n",
       "\t Female\\_Control Group     & 28\\\\\n",
       "\t Female\\_diabetes mellitus & 26\\\\\n",
       "\t Male\\_Control Group       & 56\\\\\n",
       "\t Male\\_diabetes mellitus   & 22\\\\\n",
       "\\end{tabular}\n"
      ],
      "text/markdown": [
       "\n",
       "A tibble: 4 × 2\n",
       "\n",
       "| gender_status &lt;chr&gt; | N &lt;int&gt; |\n",
       "|---|---|\n",
       "| Female_Control Group     | 28 |\n",
       "| Female_diabetes mellitus | 26 |\n",
       "| Male_Control Group       | 56 |\n",
       "| Male_diabetes mellitus   | 22 |\n",
       "\n"
      ],
      "text/plain": [
       "  gender_status            N \n",
       "1 Female_Control Group     28\n",
       "2 Female_diabetes mellitus 26\n",
       "3 Male_Control Group       56\n",
       "4 Male_diabetes mellitus   22"
      ]
     },
     "metadata": {},
     "output_type": "display_data"
    }
   ],
   "source": [
    "mtbsl1$gender_status <- paste(mtbsl1$Gender,mtbsl1$Metabolic_syndrome,sep=\"_\")\n",
    "mtbsl1 %>% group_by(gender_status) %>%\n",
    "    summarise(N=n())"
   ]
  },
  {
   "cell_type": "markdown",
   "id": "supported-classification",
   "metadata": {},
   "source": [
    "#### Data splitting\n",
    "\n",
    "We first split the data in the training and test sets (stratifying by the categorical outcome):"
   ]
  },
  {
   "cell_type": "code",
   "execution_count": 4,
   "id": "orange-hygiene",
   "metadata": {},
   "outputs": [
    {
     "data": {
      "text/html": [
       "98"
      ],
      "text/latex": [
       "98"
      ],
      "text/markdown": [
       "98"
      ],
      "text/plain": [
       "[1] 98"
      ]
     },
     "metadata": {},
     "output_type": "display_data"
    },
    {
     "data": {
      "text/html": [
       "34"
      ],
      "text/latex": [
       "34"
      ],
      "text/markdown": [
       "34"
      ],
      "text/plain": [
       "[1] 34"
      ]
     },
     "metadata": {},
     "output_type": "display_data"
    }
   ],
   "source": [
    "diab_dt <- select(mtbsl1, -c(`Primary ID`, Gender, Metabolic_syndrome))\n",
    "mtbsl1_split <- initial_split(diab_dt, strata = gender_status, prop = 0.75)\n",
    "mtbsl1_train <- training(mtbsl1_split)\n",
    "mtbsl1_test <- testing(mtbsl1_split)\n",
    "\n",
    "nrow(mtbsl1_train)\n",
    "nrow(mtbsl1_test)"
   ]
  },
  {
   "cell_type": "markdown",
   "id": "municipal-colon",
   "metadata": {},
   "source": [
    "#### Preprocessing\n",
    "\n",
    "We use tidymodels to build a recipe for data preprocessing:\n",
    "\n",
    "- remove correlated variables\n",
    "- remove non informative variables (zero variance)\n",
    "- standardize all variables\n",
    "- impute missing data (Random Forest does not handle missing data)"
   ]
  },
  {
   "cell_type": "code",
   "execution_count": 5,
   "id": "dominant-commodity",
   "metadata": {},
   "outputs": [],
   "source": [
    "diab_recipe <- mtbsl1_train %>%\n",
    "  recipe(gender_status ~ .) %>%\n",
    "  step_corr(all_predictors(), threshold = 0.9) %>%\n",
    "  step_zv(all_numeric(), -all_outcomes()) %>%\n",
    "  step_normalize(all_numeric(), -all_outcomes()) %>%\n",
    "  step_impute_knn(all_numeric(), neighbors = 5) ## there are no missing data here, but in case!"
   ]
  },
  {
   "cell_type": "code",
   "execution_count": 6,
   "id": "enabling-glossary",
   "metadata": {},
   "outputs": [
    {
     "name": "stdout",
     "output_type": "stream",
     "text": [
      "Data Recipe\n",
      "\n",
      "Inputs:\n",
      "\n",
      "      role #variables\n",
      "   outcome          1\n",
      " predictor        188\n",
      "\n",
      "Training data contained 98 data points and no missing data.\n",
      "\n",
      "Operations:\n",
      "\n",
      "Correlation filter removed mtbl_12, mtbl_27, mtbl_39, ... [trained]\n",
      "Zero variance filter removed no terms [trained]\n",
      "Centering and scaling for mtbl_1, mtbl_2, mtbl_3, mtbl_4, mtbl_5, ... [trained]\n",
      "K-nearest neighbor imputation for mtbl_2, mtbl_3, mtbl_4, mtbl_5, mtbl_6, ... [trained]\n"
     ]
    }
   ],
   "source": [
    "prep_diab <- prep(diab_recipe)\n",
    "print(prep_diab)"
   ]
  },
  {
   "cell_type": "code",
   "execution_count": 7,
   "id": "velvet-flush",
   "metadata": {},
   "outputs": [
    {
     "data": {
      "text/html": [
       "<table class=\"dataframe\">\n",
       "<caption>A tibble: 6 × 156</caption>\n",
       "<thead>\n",
       "\t<tr><th scope=col>mtbl_1</th><th scope=col>mtbl_2</th><th scope=col>mtbl_3</th><th scope=col>mtbl_4</th><th scope=col>mtbl_5</th><th scope=col>mtbl_6</th><th scope=col>mtbl_7</th><th scope=col>mtbl_8</th><th scope=col>mtbl_9</th><th scope=col>mtbl_10</th><th scope=col>⋯</th><th scope=col>mtbl_174</th><th scope=col>mtbl_175</th><th scope=col>mtbl_177</th><th scope=col>mtbl_178</th><th scope=col>mtbl_180</th><th scope=col>mtbl_181</th><th scope=col>mtbl_182</th><th scope=col>mtbl_184</th><th scope=col>mtbl_186</th><th scope=col>gender_status</th></tr>\n",
       "\t<tr><th scope=col>&lt;dbl&gt;</th><th scope=col>&lt;dbl&gt;</th><th scope=col>&lt;dbl&gt;</th><th scope=col>&lt;dbl&gt;</th><th scope=col>&lt;dbl&gt;</th><th scope=col>&lt;dbl&gt;</th><th scope=col>&lt;dbl&gt;</th><th scope=col>&lt;dbl&gt;</th><th scope=col>&lt;dbl&gt;</th><th scope=col>&lt;dbl&gt;</th><th scope=col>⋯</th><th scope=col>&lt;dbl&gt;</th><th scope=col>&lt;dbl&gt;</th><th scope=col>&lt;dbl&gt;</th><th scope=col>&lt;dbl&gt;</th><th scope=col>&lt;dbl&gt;</th><th scope=col>&lt;dbl&gt;</th><th scope=col>&lt;dbl&gt;</th><th scope=col>&lt;dbl&gt;</th><th scope=col>&lt;dbl&gt;</th><th scope=col>&lt;fct&gt;</th></tr>\n",
       "</thead>\n",
       "<tbody>\n",
       "\t<tr><td> 0.8483890</td><td>-0.51527203</td><td>-0.6659165</td><td>-0.2974594</td><td>-0.3921862</td><td>-0.3841426</td><td>-0.4831229</td><td>-1.15946671</td><td>-0.7027864</td><td>-0.4415499</td><td>⋯</td><td>-0.3975454</td><td>-0.6502834</td><td>-0.9914318</td><td>-0.3636709</td><td>-0.3895601</td><td>-0.3567870</td><td>-0.4000826</td><td>-0.1833678</td><td>-0.1632953</td><td>Female_Control Group</td></tr>\n",
       "\t<tr><td>-0.7004617</td><td>-0.51527203</td><td>-0.6659165</td><td>-0.2974594</td><td>-0.3921862</td><td>-0.3841426</td><td>-0.4831229</td><td> 0.32415278</td><td>-0.7027864</td><td>-0.4415499</td><td>⋯</td><td>-0.3975454</td><td>-0.6502834</td><td>-0.9914318</td><td>-0.3636709</td><td>-0.3895601</td><td>-0.3567870</td><td>-0.4000826</td><td>-0.1833678</td><td>-0.1632953</td><td>Female_Control Group</td></tr>\n",
       "\t<tr><td> 1.9628136</td><td>-0.51527203</td><td> 0.3467648</td><td>-0.2974594</td><td>-0.3921862</td><td>-0.3841426</td><td>-0.4831229</td><td>-1.11536714</td><td>-0.7027864</td><td>-0.4415499</td><td>⋯</td><td>-0.3975454</td><td>-0.6502834</td><td>-0.9914318</td><td>-0.3636709</td><td>-0.3895601</td><td>-0.3567870</td><td>-0.4000826</td><td>-0.1833678</td><td>-0.1632953</td><td>Female_Control Group</td></tr>\n",
       "\t<tr><td> 2.9997977</td><td> 0.07792547</td><td> 2.9066275</td><td> 4.5197979</td><td> 0.3712267</td><td> 0.2017653</td><td> 5.0664146</td><td> 0.05415026</td><td> 0.9020492</td><td> 0.8545959</td><td>⋯</td><td>-0.3975454</td><td> 0.7462970</td><td>-0.7430283</td><td>-0.3636709</td><td>-0.3895601</td><td>-0.3567870</td><td>-0.4000826</td><td>-0.1833678</td><td>-0.1632953</td><td>Female_Control Group</td></tr>\n",
       "\t<tr><td>-0.7103493</td><td>-0.51527203</td><td>-0.6659165</td><td>-0.2974594</td><td>-0.3921862</td><td>-0.3841426</td><td>-0.4831229</td><td> 0.51894333</td><td>-0.4544876</td><td>-0.4415499</td><td>⋯</td><td> 0.6136194</td><td> 1.3724225</td><td> 1.1346307</td><td> 0.3828432</td><td> 0.2182378</td><td> 0.9800042</td><td>-0.4000826</td><td>-0.1258766</td><td>-0.1632953</td><td>Female_Control Group</td></tr>\n",
       "\t<tr><td> 0.3723048</td><td> 0.03711451</td><td>-0.6659165</td><td>-0.2974594</td><td>-0.3921862</td><td>-0.3841426</td><td>-0.4831229</td><td>-1.15946671</td><td>-0.7027864</td><td>-0.4415499</td><td>⋯</td><td>-0.3975454</td><td>-0.6502834</td><td>-0.9914318</td><td>-0.3636709</td><td>-0.3895601</td><td>-0.3567870</td><td>-0.4000826</td><td>-0.1833678</td><td>-0.1632953</td><td>Female_Control Group</td></tr>\n",
       "</tbody>\n",
       "</table>\n"
      ],
      "text/latex": [
       "A tibble: 6 × 156\n",
       "\\begin{tabular}{lllllllllllllllllllll}\n",
       " mtbl\\_1 & mtbl\\_2 & mtbl\\_3 & mtbl\\_4 & mtbl\\_5 & mtbl\\_6 & mtbl\\_7 & mtbl\\_8 & mtbl\\_9 & mtbl\\_10 & ⋯ & mtbl\\_174 & mtbl\\_175 & mtbl\\_177 & mtbl\\_178 & mtbl\\_180 & mtbl\\_181 & mtbl\\_182 & mtbl\\_184 & mtbl\\_186 & gender\\_status\\\\\n",
       " <dbl> & <dbl> & <dbl> & <dbl> & <dbl> & <dbl> & <dbl> & <dbl> & <dbl> & <dbl> & ⋯ & <dbl> & <dbl> & <dbl> & <dbl> & <dbl> & <dbl> & <dbl> & <dbl> & <dbl> & <fct>\\\\\n",
       "\\hline\n",
       "\t  0.8483890 & -0.51527203 & -0.6659165 & -0.2974594 & -0.3921862 & -0.3841426 & -0.4831229 & -1.15946671 & -0.7027864 & -0.4415499 & ⋯ & -0.3975454 & -0.6502834 & -0.9914318 & -0.3636709 & -0.3895601 & -0.3567870 & -0.4000826 & -0.1833678 & -0.1632953 & Female\\_Control Group\\\\\n",
       "\t -0.7004617 & -0.51527203 & -0.6659165 & -0.2974594 & -0.3921862 & -0.3841426 & -0.4831229 &  0.32415278 & -0.7027864 & -0.4415499 & ⋯ & -0.3975454 & -0.6502834 & -0.9914318 & -0.3636709 & -0.3895601 & -0.3567870 & -0.4000826 & -0.1833678 & -0.1632953 & Female\\_Control Group\\\\\n",
       "\t  1.9628136 & -0.51527203 &  0.3467648 & -0.2974594 & -0.3921862 & -0.3841426 & -0.4831229 & -1.11536714 & -0.7027864 & -0.4415499 & ⋯ & -0.3975454 & -0.6502834 & -0.9914318 & -0.3636709 & -0.3895601 & -0.3567870 & -0.4000826 & -0.1833678 & -0.1632953 & Female\\_Control Group\\\\\n",
       "\t  2.9997977 &  0.07792547 &  2.9066275 &  4.5197979 &  0.3712267 &  0.2017653 &  5.0664146 &  0.05415026 &  0.9020492 &  0.8545959 & ⋯ & -0.3975454 &  0.7462970 & -0.7430283 & -0.3636709 & -0.3895601 & -0.3567870 & -0.4000826 & -0.1833678 & -0.1632953 & Female\\_Control Group\\\\\n",
       "\t -0.7103493 & -0.51527203 & -0.6659165 & -0.2974594 & -0.3921862 & -0.3841426 & -0.4831229 &  0.51894333 & -0.4544876 & -0.4415499 & ⋯ &  0.6136194 &  1.3724225 &  1.1346307 &  0.3828432 &  0.2182378 &  0.9800042 & -0.4000826 & -0.1258766 & -0.1632953 & Female\\_Control Group\\\\\n",
       "\t  0.3723048 &  0.03711451 & -0.6659165 & -0.2974594 & -0.3921862 & -0.3841426 & -0.4831229 & -1.15946671 & -0.7027864 & -0.4415499 & ⋯ & -0.3975454 & -0.6502834 & -0.9914318 & -0.3636709 & -0.3895601 & -0.3567870 & -0.4000826 & -0.1833678 & -0.1632953 & Female\\_Control Group\\\\\n",
       "\\end{tabular}\n"
      ],
      "text/markdown": [
       "\n",
       "A tibble: 6 × 156\n",
       "\n",
       "| mtbl_1 &lt;dbl&gt; | mtbl_2 &lt;dbl&gt; | mtbl_3 &lt;dbl&gt; | mtbl_4 &lt;dbl&gt; | mtbl_5 &lt;dbl&gt; | mtbl_6 &lt;dbl&gt; | mtbl_7 &lt;dbl&gt; | mtbl_8 &lt;dbl&gt; | mtbl_9 &lt;dbl&gt; | mtbl_10 &lt;dbl&gt; | ⋯ ⋯ | mtbl_174 &lt;dbl&gt; | mtbl_175 &lt;dbl&gt; | mtbl_177 &lt;dbl&gt; | mtbl_178 &lt;dbl&gt; | mtbl_180 &lt;dbl&gt; | mtbl_181 &lt;dbl&gt; | mtbl_182 &lt;dbl&gt; | mtbl_184 &lt;dbl&gt; | mtbl_186 &lt;dbl&gt; | gender_status &lt;fct&gt; |\n",
       "|---|---|---|---|---|---|---|---|---|---|---|---|---|---|---|---|---|---|---|---|---|\n",
       "|  0.8483890 | -0.51527203 | -0.6659165 | -0.2974594 | -0.3921862 | -0.3841426 | -0.4831229 | -1.15946671 | -0.7027864 | -0.4415499 | ⋯ | -0.3975454 | -0.6502834 | -0.9914318 | -0.3636709 | -0.3895601 | -0.3567870 | -0.4000826 | -0.1833678 | -0.1632953 | Female_Control Group |\n",
       "| -0.7004617 | -0.51527203 | -0.6659165 | -0.2974594 | -0.3921862 | -0.3841426 | -0.4831229 |  0.32415278 | -0.7027864 | -0.4415499 | ⋯ | -0.3975454 | -0.6502834 | -0.9914318 | -0.3636709 | -0.3895601 | -0.3567870 | -0.4000826 | -0.1833678 | -0.1632953 | Female_Control Group |\n",
       "|  1.9628136 | -0.51527203 |  0.3467648 | -0.2974594 | -0.3921862 | -0.3841426 | -0.4831229 | -1.11536714 | -0.7027864 | -0.4415499 | ⋯ | -0.3975454 | -0.6502834 | -0.9914318 | -0.3636709 | -0.3895601 | -0.3567870 | -0.4000826 | -0.1833678 | -0.1632953 | Female_Control Group |\n",
       "|  2.9997977 |  0.07792547 |  2.9066275 |  4.5197979 |  0.3712267 |  0.2017653 |  5.0664146 |  0.05415026 |  0.9020492 |  0.8545959 | ⋯ | -0.3975454 |  0.7462970 | -0.7430283 | -0.3636709 | -0.3895601 | -0.3567870 | -0.4000826 | -0.1833678 | -0.1632953 | Female_Control Group |\n",
       "| -0.7103493 | -0.51527203 | -0.6659165 | -0.2974594 | -0.3921862 | -0.3841426 | -0.4831229 |  0.51894333 | -0.4544876 | -0.4415499 | ⋯ |  0.6136194 |  1.3724225 |  1.1346307 |  0.3828432 |  0.2182378 |  0.9800042 | -0.4000826 | -0.1258766 | -0.1632953 | Female_Control Group |\n",
       "|  0.3723048 |  0.03711451 | -0.6659165 | -0.2974594 | -0.3921862 | -0.3841426 | -0.4831229 | -1.15946671 | -0.7027864 | -0.4415499 | ⋯ | -0.3975454 | -0.6502834 | -0.9914318 | -0.3636709 | -0.3895601 | -0.3567870 | -0.4000826 | -0.1833678 | -0.1632953 | Female_Control Group |\n",
       "\n"
      ],
      "text/plain": [
       "  mtbl_1     mtbl_2      mtbl_3     mtbl_4     mtbl_5     mtbl_6     mtbl_7    \n",
       "1  0.8483890 -0.51527203 -0.6659165 -0.2974594 -0.3921862 -0.3841426 -0.4831229\n",
       "2 -0.7004617 -0.51527203 -0.6659165 -0.2974594 -0.3921862 -0.3841426 -0.4831229\n",
       "3  1.9628136 -0.51527203  0.3467648 -0.2974594 -0.3921862 -0.3841426 -0.4831229\n",
       "4  2.9997977  0.07792547  2.9066275  4.5197979  0.3712267  0.2017653  5.0664146\n",
       "5 -0.7103493 -0.51527203 -0.6659165 -0.2974594 -0.3921862 -0.3841426 -0.4831229\n",
       "6  0.3723048  0.03711451 -0.6659165 -0.2974594 -0.3921862 -0.3841426 -0.4831229\n",
       "  mtbl_8      mtbl_9     mtbl_10    ⋯ mtbl_174   mtbl_175   mtbl_177  \n",
       "1 -1.15946671 -0.7027864 -0.4415499 ⋯ -0.3975454 -0.6502834 -0.9914318\n",
       "2  0.32415278 -0.7027864 -0.4415499 ⋯ -0.3975454 -0.6502834 -0.9914318\n",
       "3 -1.11536714 -0.7027864 -0.4415499 ⋯ -0.3975454 -0.6502834 -0.9914318\n",
       "4  0.05415026  0.9020492  0.8545959 ⋯ -0.3975454  0.7462970 -0.7430283\n",
       "5  0.51894333 -0.4544876 -0.4415499 ⋯  0.6136194  1.3724225  1.1346307\n",
       "6 -1.15946671 -0.7027864 -0.4415499 ⋯ -0.3975454 -0.6502834 -0.9914318\n",
       "  mtbl_178   mtbl_180   mtbl_181   mtbl_182   mtbl_184   mtbl_186  \n",
       "1 -0.3636709 -0.3895601 -0.3567870 -0.4000826 -0.1833678 -0.1632953\n",
       "2 -0.3636709 -0.3895601 -0.3567870 -0.4000826 -0.1833678 -0.1632953\n",
       "3 -0.3636709 -0.3895601 -0.3567870 -0.4000826 -0.1833678 -0.1632953\n",
       "4 -0.3636709 -0.3895601 -0.3567870 -0.4000826 -0.1833678 -0.1632953\n",
       "5  0.3828432  0.2182378  0.9800042 -0.4000826 -0.1258766 -0.1632953\n",
       "6 -0.3636709 -0.3895601 -0.3567870 -0.4000826 -0.1833678 -0.1632953\n",
       "  gender_status       \n",
       "1 Female_Control Group\n",
       "2 Female_Control Group\n",
       "3 Female_Control Group\n",
       "4 Female_Control Group\n",
       "5 Female_Control Group\n",
       "6 Female_Control Group"
      ]
     },
     "metadata": {},
     "output_type": "display_data"
    }
   ],
   "source": [
    "training_set <- juice(prep_diab)\n",
    "head(training_set)"
   ]
  },
  {
   "cell_type": "markdown",
   "id": "victorian-residence",
   "metadata": {},
   "source": [
    "#### Model building\n",
    "\n",
    "We now specify the structure of our model:\n",
    "\n",
    "- hyperparameters to tune: `mtry` (number of features to sample for each tree) and `min_n` (minimum number of data points in a node to allow further splitting)\n",
    "- number of trees in the forest\n",
    "- the problem at hand (classification)\n",
    "- the engine (R package)\n",
    "\n",
    "Then we put this in a workflow together with the preprocessing recipe"
   ]
  },
  {
   "cell_type": "code",
   "execution_count": null,
   "id": "tropical-record",
   "metadata": {},
   "outputs": [],
   "source": [
    "tune_spec <- rand_forest(\n",
    "  mtry = tune(),\n",
    "  trees = 100,\n",
    "  min_n = tune()\n",
    ") %>%\n",
    "  set_mode(\"classification\") %>%\n",
    "  set_engine(\"randomForest\")"
   ]
  },
  {
   "cell_type": "code",
   "execution_count": null,
   "id": "former-johnston",
   "metadata": {},
   "outputs": [],
   "source": [
    "tune_wf <- workflow() %>%\n",
    "  add_formula(gender_status ~ .) %>%\n",
    "  add_model(tune_spec)"
   ]
  },
  {
   "cell_type": "markdown",
   "id": "suitable-header",
   "metadata": {},
   "source": [
    "#### Tuning the hyperparameters\n",
    "\n",
    "We use k-fold cross-validation to tune the hyperparameters in the training set"
   ]
  },
  {
   "cell_type": "code",
   "execution_count": null,
   "id": "realistic-encoding",
   "metadata": {},
   "outputs": [],
   "source": [
    "trees_folds <- vfold_cv(training_set, v = 5, repeats = 5)"
   ]
  },
  {
   "cell_type": "code",
   "execution_count": null,
   "id": "immediate-washer",
   "metadata": {},
   "outputs": [],
   "source": [
    "print(trees_folds)"
   ]
  },
  {
   "cell_type": "code",
   "execution_count": null,
   "id": "mathematical-anaheim",
   "metadata": {},
   "outputs": [],
   "source": [
    "doParallel::registerDoParallel()\n",
    "\n",
    "tune_res <- tune_grid(\n",
    "  tune_wf,\n",
    "  resamples = trees_folds,\n",
    "  grid = 20\n",
    ")\n"
   ]
  },
  {
   "cell_type": "code",
   "execution_count": null,
   "id": "spectacular-snake",
   "metadata": {},
   "outputs": [],
   "source": [
    "print(tune_res)"
   ]
  },
  {
   "cell_type": "code",
   "execution_count": null,
   "id": "parliamentary-exhibition",
   "metadata": {},
   "outputs": [],
   "source": [
    "library(\"repr\")\n",
    "options(repr.plot.width=14, repr.plot.height=8)\n",
    "\n",
    "tune_res %>%\n",
    "  collect_metrics() %>%\n",
    "  filter(.metric == \"roc_auc\") %>%\n",
    "  select(mean, min_n, mtry) %>%\n",
    "  pivot_longer(min_n:mtry,\n",
    "               values_to = \"value\",\n",
    "               names_to = \"parameter\"\n",
    "  ) %>%\n",
    "  ggplot(aes(value, mean, color = parameter)) +\n",
    "  geom_point(show.legend = FALSE) +\n",
    "  facet_wrap(~parameter, scales = \"free_x\") +\n",
    "  labs(x = NULL, y = \"AUC\")"
   ]
  },
  {
   "cell_type": "markdown",
   "id": "worthy-edgar",
   "metadata": {},
   "source": [
    "We now try to start from $\\sqrt{p}$  (classification problem)"
   ]
  },
  {
   "cell_type": "code",
   "execution_count": 8,
   "id": "adverse-imaging",
   "metadata": {},
   "outputs": [
    {
     "name": "stdout",
     "output_type": "stream",
     "text": [
      "[1] 12\n"
     ]
    }
   ],
   "source": [
    "m <- round(sqrt(ncol(training_set)-1),0)\n",
    "print(m)\n",
    "rf_grid <- grid_regular(\n",
    "  mtry(range = c(m-2, m+2)),\n",
    "  min_n(range = c(8, 12)),\n",
    "  levels = 3\n",
    ")"
   ]
  },
  {
   "cell_type": "code",
   "execution_count": 9,
   "id": "welcome-little",
   "metadata": {},
   "outputs": [
    {
     "name": "stdout",
     "output_type": "stream",
     "text": [
      "\u001b[90m# A tibble: 9 × 2\u001b[39m\n",
      "   mtry min_n\n",
      "  \u001b[3m\u001b[90m<int>\u001b[39m\u001b[23m \u001b[3m\u001b[90m<int>\u001b[39m\u001b[23m\n",
      "\u001b[90m1\u001b[39m    10     8\n",
      "\u001b[90m2\u001b[39m    12     8\n",
      "\u001b[90m3\u001b[39m    14     8\n",
      "\u001b[90m4\u001b[39m    10    10\n",
      "\u001b[90m5\u001b[39m    12    10\n",
      "\u001b[90m6\u001b[39m    14    10\n",
      "\u001b[90m7\u001b[39m    10    12\n",
      "\u001b[90m8\u001b[39m    12    12\n",
      "\u001b[90m9\u001b[39m    14    12\n"
     ]
    }
   ],
   "source": [
    "print(rf_grid)"
   ]
  },
  {
   "cell_type": "code",
   "execution_count": 11,
   "id": "racial-preservation",
   "metadata": {},
   "outputs": [
    {
     "ename": "ERROR",
     "evalue": "Error in tune_grid(tune_wf, resamples = trees_folds, grid = rf_grid): object 'tune_wf' not found\n",
     "output_type": "error",
     "traceback": [
      "Error in tune_grid(tune_wf, resamples = trees_folds, grid = rf_grid): object 'tune_wf' not found\nTraceback:\n",
      "1. tune_grid(tune_wf, resamples = trees_folds, grid = rf_grid)"
     ]
    }
   ],
   "source": [
    "regular_res <- tune_grid(\n",
    "  tune_wf,\n",
    "  resamples = trees_folds,\n",
    "  grid = rf_grid\n",
    ")"
   ]
  },
  {
   "cell_type": "code",
   "execution_count": 10,
   "id": "coastal-advocacy",
   "metadata": {},
   "outputs": [
    {
     "ename": "ERROR",
     "evalue": "Error in print(regular_res): object 'regular_res' not found\n",
     "output_type": "error",
     "traceback": [
      "Error in print(regular_res): object 'regular_res' not found\nTraceback:\n",
      "1. print(regular_res)"
     ]
    }
   ],
   "source": [
    "print(regular_res)"
   ]
  },
  {
   "cell_type": "code",
   "execution_count": null,
   "id": "subjective-round",
   "metadata": {},
   "outputs": [],
   "source": [
    "regular_res %>%\n",
    "  collect_metrics() %>%\n",
    "  filter(.metric == \"roc_auc\") %>%\n",
    "  mutate(min_n = factor(min_n)) %>%\n",
    "  ggplot(aes(mtry, mean, color = min_n)) +\n",
    "  geom_line(alpha = 0.5, size = 1.5) +\n",
    "  geom_point() +\n",
    "  labs(y = \"AUC\")"
   ]
  },
  {
   "cell_type": "markdown",
   "id": "intended-public",
   "metadata": {},
   "source": [
    "#### Final model\n",
    "\n",
    "We now select the best model from the hyperparameters tuning, and fit it to the training set:\n",
    "\n",
    "1. selecting the best model based on AUC:"
   ]
  },
  {
   "cell_type": "code",
   "execution_count": null,
   "id": "loaded-hamburg",
   "metadata": {},
   "outputs": [],
   "source": [
    "best_auc <- select_best(tune_res, \"roc_auc\")\n",
    "print(best_auc)"
   ]
  },
  {
   "cell_type": "markdown",
   "id": "perfect-courage",
   "metadata": {},
   "source": [
    "2. finalise the model:"
   ]
  },
  {
   "cell_type": "code",
   "execution_count": null,
   "id": "republican-transparency",
   "metadata": {},
   "outputs": [],
   "source": [
    "final_rf <- finalize_model(\n",
    "  tune_spec,\n",
    "  best_auc\n",
    ")\n",
    "\n",
    "print(final_rf)"
   ]
  },
  {
   "cell_type": "markdown",
   "id": "continental-spanish",
   "metadata": {},
   "source": [
    "3. finalise the workflow and fit it to the initial split (training and test data):"
   ]
  },
  {
   "cell_type": "code",
   "execution_count": null,
   "id": "stuffed-spread",
   "metadata": {},
   "outputs": [],
   "source": [
    "final_wf <- workflow() %>%\n",
    "  add_recipe(diab_recipe) %>%\n",
    "  add_model(final_rf)\n",
    "\n",
    "final_res <- final_wf %>%\n",
    "  last_fit(mtbsl1_split)"
   ]
  },
  {
   "cell_type": "markdown",
   "id": "legislative-georgia",
   "metadata": {},
   "source": [
    "4. evaluate the fine-tuned RF model:"
   ]
  },
  {
   "cell_type": "code",
   "execution_count": null,
   "id": "fourth-cambodia",
   "metadata": {},
   "outputs": [],
   "source": [
    "print(final_res)\n",
    "final_res %>%\n",
    "  collect_metrics()"
   ]
  },
  {
   "cell_type": "markdown",
   "id": "stock-healing",
   "metadata": {},
   "source": [
    "5. get variable importance:"
   ]
  },
  {
   "cell_type": "code",
   "execution_count": null,
   "id": "unnecessary-cabinet",
   "metadata": {},
   "outputs": [],
   "source": [
    "final_res %>% \n",
    "  pluck(\".workflow\", 1) %>%   \n",
    "  pull_workflow_fit() %>% \n",
    "  #vip(num_features = 20, geom = \"point\")\n",
    "  vip(num_features = 25)"
   ]
  },
  {
   "cell_type": "markdown",
   "id": "ancient-paint",
   "metadata": {},
   "source": [
    "#### Predictions\n",
    "\n",
    "We collect the predictions on the test set: for each test observations we get the probabilities of belonging to each of the four classes."
   ]
  },
  {
   "cell_type": "code",
   "execution_count": null,
   "id": "spoken-childhood",
   "metadata": {},
   "outputs": [],
   "source": [
    "final_res %>%\n",
    "  collect_predictions()"
   ]
  },
  {
   "cell_type": "code",
   "execution_count": null,
   "id": "employed-parliament",
   "metadata": {},
   "outputs": [],
   "source": [
    "cm <- final_res %>%\n",
    "  collect_predictions() %>%\n",
    "  conf_mat(gender_status, .pred_class)\n",
    "\n",
    "print(cm)"
   ]
  },
  {
   "cell_type": "code",
   "execution_count": null,
   "id": "ordered-genetics",
   "metadata": {
    "scrolled": true
   },
   "outputs": [],
   "source": [
    "autoplot(cm, type = \"heatmap\")"
   ]
  }
 ],
 "metadata": {
  "kernelspec": {
   "display_name": "R",
   "language": "R",
   "name": "ir"
  },
  "language_info": {
   "codemirror_mode": "r",
   "file_extension": ".r",
   "mimetype": "text/x-r-source",
   "name": "R",
   "pygments_lexer": "r",
   "version": "4.1.2"
  }
 },
 "nbformat": 4,
 "nbformat_minor": 5
}
