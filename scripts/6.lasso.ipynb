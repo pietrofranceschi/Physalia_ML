{
 "cells": [
  {
   "cell_type": "raw",
   "id": "continuing-nothing",
   "metadata": {},
   "source": [
    "---\n",
    "title: \"Lasso regularization\"\n",
    "author: \"Filippo Biscarini\"\n",
    "date: \"7/8/2020\"\n",
    "output: html_document\n",
    "---"
   ]
  },
  {
   "cell_type": "code",
   "execution_count": null,
   "id": "skilled-beverage",
   "metadata": {
    "name": "setup",
    "tags": [
     "remove_cell"
    ]
   },
   "outputs": [],
   "source": [
    "library(\"knitr\")\n",
    "library(\"glmnet\")\n",
    "library(\"ggplot2\")\n",
    "library(\"tidyverse\")\n",
    "library(\"data.table\")\n",
    "\n",
    "knitr::opts_chunk$set(echo = TRUE)"
   ]
  },
  {
   "cell_type": "markdown",
   "id": "wrapped-change",
   "metadata": {},
   "source": [
    "## Reading the data\n",
    "\n",
    "For this practical session on logistic regression we are using a dataset on the relationship between cleft lip in dogs (Nova Scotia Duck Tolling Retriever, NSDTR) and SNP genotypes ([data](https://datadryad.org/stash/dataset/doi:10.5061/dryad.j8r8q); [paper](https://journals.plos.org/plosgenetics/article?id=10.1371/journal.pgen.1005059)).\n",
    "\n",
    "The public dataset downloaded from Dryad is a *Plink* `.tped/.tfam` file. The data have been preprocessed:\n",
    "\n",
    "- filtered (SNP quality, call-rate, MAF)\n",
    "- imputed (imputation of missing genotypes using LHCI: localised haplotype-clustering imputation)\n",
    "- selected (only SNPs on chromosomes 25, 26, 27, 28, 29)"
   ]
  },
  {
   "cell_type": "code",
   "execution_count": null,
   "id": "vietnamese-definition",
   "metadata": {
    "name": "cars"
   },
   "outputs": [],
   "source": [
    "dogs <- fread(\"../data/dogs_imputed.raw\")\n",
    "dogs <- dogs %>%\n",
    "  select(-c(IID,FID,PAT,MAT,SEX))\n",
    "\n",
    "dogs$PHENOTYPE = dogs$PHENOTYPE-1\n",
    "nsnps = ncol(dogs)-1\n",
    "print(paste(\"N. SNPs (features):\",nsnps))\n",
    "table(dogs$PHENOTYPE)"
   ]
  },
  {
   "cell_type": "code",
   "execution_count": null,
   "id": "fluid-impact",
   "metadata": {},
   "outputs": [],
   "source": [
    "maf_controls <- colSums(dogs[dogs$PHENOTYPE==0,-c(1,2)])/(2*nrow(dogs[dogs$PHENOTYPE==0,]))\n",
    "maf_cases <- colSums(dogs[dogs$PHENOTYPE==1,-c(1,2)])/(2*nrow(dogs[dogs$PHENOTYPE==1,]))"
   ]
  },
  {
   "cell_type": "code",
   "execution_count": null,
   "id": "controversial-chess",
   "metadata": {},
   "outputs": [],
   "source": [
    "maf <- data.frame(\"cases\"=maf_cases, \"controls\"=maf_controls)\n",
    "mD <- reshape2::melt(maf)\n",
    "ggplot(mD, aes(y = value, x = variable)) + geom_boxplot(aes(fill=variable)) + ylab(\"MAF\")"
   ]
  },
  {
   "cell_type": "markdown",
   "id": "embedded-personal",
   "metadata": {},
   "source": [
    "## Fitting the Lasso-penalised logistic regression model\n",
    "\n",
    "We have **`r nrow(dogs)`** records (sample size) and **`r ncol(dogs)-1`** SNP markers: this is a $p > n$ problem, and **regularization** is therefore needed.\n",
    "\n",
    "First, we fit the Lasso-penalised logistic regression model to the entire dataset, to illustrate some properties of Lasso (L1) regularization:"
   ]
  },
  {
   "cell_type": "code",
   "execution_count": null,
   "id": "ordered-system",
   "metadata": {},
   "outputs": [],
   "source": [
    "print(nrow(dogs))\n",
    "print(ncol(dogs)-1)"
   ]
  },
  {
   "cell_type": "code",
   "execution_count": null,
   "id": "recreational-metadata",
   "metadata": {},
   "outputs": [],
   "source": [
    "x <- as.matrix(dogs[,-1])\n",
    "y <- as.factor(dogs$PHENOTYPE)\n",
    "\n",
    "fit.lasso <- glmnet(x, y, alpha = 1, family = \"binomial\")\n",
    "plot(fit.lasso, xvar=\"lambda\", label=TRUE)"
   ]
  },
  {
   "cell_type": "code",
   "execution_count": null,
   "id": "foster-mount",
   "metadata": {},
   "outputs": [],
   "source": [
    "summary(fit.lasso$lambda)\n",
    "tmp_coeffs <- coef(fit.lasso, s = exp(-4))\n",
    "df <- data.frame(name = tmp_coeffs@Dimnames[[1]][tmp_coeffs@i + 1], coefficient = tmp_coeffs@x)\n",
    "df"
   ]
  },
  {
   "cell_type": "markdown",
   "id": "talented-retrieval",
   "metadata": {},
   "source": [
    "In practice, we would begin by setting aside a test set (stratified, as we did previously):"
   ]
  },
  {
   "cell_type": "code",
   "execution_count": null,
   "id": "defined-campus",
   "metadata": {
    "name": "pressure",
    "tags": [
     "remove_input"
    ]
   },
   "outputs": [],
   "source": [
    "seed = 17\n",
    "set.seed(seed)\n",
    "n = nrow(dogs) ## sample size\n",
    "\n",
    "dogs$id <- paste(\"id\",seq(1,nrow(dogs)), sep=\"_\")\n",
    "\n",
    "training_set <- dogs %>%\n",
    "  group_by(PHENOTYPE) %>%\n",
    "  sample_frac(size = 0.75)\n",
    "\n",
    "test_recs <- !(dogs$id %in% training_set$id)\n",
    "test_set <- dogs[test_recs,]\n",
    "\n",
    "training_set$id <- NULL\n",
    "test_set$id <- NULL\n",
    "\n",
    "x_train <- as.matrix(training_set[,-1])\n",
    "y_train <- as.factor(training_set$PHENOTYPE)\n",
    "x_test <- as.matrix(test_set[,-1])\n",
    "y_test <- as.factor(test_set$PHENOTYPE)\n",
    "\n",
    "table(y_train)\n",
    "table(y_test)"
   ]
  },
  {
   "cell_type": "markdown",
   "id": "small-designation",
   "metadata": {},
   "source": [
    "We then apply k-fold cross-validation to select the best value for the regularization parameter $\\lambda$ (*model tuning*)"
   ]
  },
  {
   "cell_type": "code",
   "execution_count": null,
   "id": "stainless-correspondence",
   "metadata": {},
   "outputs": [],
   "source": [
    "cv.lasso <- cv.glmnet(x_train, y_train, family = \"binomial\", type.measure = \"class\", nfolds = 10, alpha = 1)\n",
    "plot(cv.lasso)\n",
    "cv.lasso$lambda.min\n",
    "# coef(cv.lasso, s = \"lambda.min\")"
   ]
  },
  {
   "cell_type": "markdown",
   "id": "embedded-scratch",
   "metadata": {},
   "source": [
    "The tuned value for the $\\lambda$ parameter is `r cv.lasso$lambda.min`\n",
    "\n",
    "### Fit the final model on the training data\n",
    "\n",
    "We can now fit the final model (tuned with cross-validarion) to the training set:"
   ]
  },
  {
   "cell_type": "code",
   "execution_count": null,
   "id": "crazy-amazon",
   "metadata": {},
   "outputs": [],
   "source": [
    "model <- glmnet(x_train, y_train, alpha = 1, family = \"binomial\", lambda = cv.lasso$lambda.min)\n",
    "# plot(model,xvar=\"lambda\",label=TRUE)\n",
    "tmp_coeffs <- coef(model)\n",
    "df <- data.frame(name = tmp_coeffs@Dimnames[[1]][tmp_coeffs@i + 1], coefficient = tmp_coeffs@x)"
   ]
  },
  {
   "cell_type": "markdown",
   "id": "sophisticated-easter",
   "metadata": {},
   "source": [
    "### Make predictions\n",
    "\n",
    "With the solutions from the trained model, we can now make predictions:"
   ]
  },
  {
   "cell_type": "code",
   "execution_count": null,
   "id": "popular-appendix",
   "metadata": {},
   "outputs": [],
   "source": [
    "probs <- predict(model, newx = x_test, type = \"response\")\n",
    "predictions <- ifelse(probs > 0.5, 1, 0)\n",
    "table(predictions, y_test)"
   ]
  },
  {
   "cell_type": "markdown",
   "id": "manufactured-stake",
   "metadata": {},
   "source": [
    "ROC curves can help us evaluate different classifiers (e.g. logistic regression vs Lasso-penalised logistic regression) over all possible decision thresholds:"
   ]
  },
  {
   "cell_type": "code",
   "execution_count": null,
   "id": "bacterial-progressive",
   "metadata": {
    "label": "roc"
   },
   "outputs": [],
   "source": [
    "library(\"ROCit\")\n",
    "\n",
    "load(\"ROClogit.RData\")\n",
    "\n",
    "ROCit_lasso <- rocit(score=probs[,1],class=y_test)\n",
    "plot(ROCit_lasso, col = c(1,\"gray50\"), \n",
    "     legend = FALSE, YIndex = FALSE)\n",
    "lines(ROCit_logit$TPR~ROCit_logit$FPR,col = 2, lwd = 2)\n",
    "legend(\"bottomright\", col = c(1,2),\n",
    "       c(\"Lasso\", \"Logistic regression\"), lwd = 2)\n",
    "\n",
    "save(ROCit_lasso, file = \"ROClasso.RData\")"
   ]
  }
 ],
 "metadata": {
  "jupytext": {
   "cell_metadata_filter": "tags,label,name,-all",
   "main_language": "R",
   "notebook_metadata_filter": "-all"
  },
  "kernelspec": {
   "display_name": "R",
   "language": "R",
   "name": "ir"
  },
  "language_info": {
   "codemirror_mode": "r",
   "file_extension": ".r",
   "mimetype": "text/x-r-source",
   "name": "R",
   "pygments_lexer": "r",
   "version": "4.1.2"
  }
 },
 "nbformat": 4,
 "nbformat_minor": 5
}
