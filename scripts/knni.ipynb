{
 "cells": [
  {
   "cell_type": "raw",
   "id": "characteristic-runner",
   "metadata": {},
   "source": [
    "---\n",
    "\n",
    "title: \"Genotype imputation with KNN: a demonstration\"\n",
    "author: \"Filippo Biscarini\"\n",
    "date: \"November 13, 2015\"\n",
    "output: html_document\n",
    "---"
   ]
  },
  {
   "cell_type": "markdown",
   "id": "oriental-testing",
   "metadata": {},
   "source": [
    "# KNN: K-Nearest Neighbors (for classification)\n",
    "\n",
    "K-nearest neighbors (KNN) is a classification method that attempts to estimate the conditional distribution of the observations (e.g. vector $Y$) given a set of features (matrix $\\mathbf{X}$):\n",
    "\n",
    "$$\n",
    "Pr(Y=j|X=x_0) = \\frac{1}{K} \\sum_{i \\in \\mathcal{N}_0} I(y_i=j)\n",
    "$$\n",
    "\n",
    "Let's look at this: \n",
    "\n",
    "- $K$ is the chosen **number of neighbors** to consider\n",
    "- $x_0$ is the **observation** we want to classify (we have features but not know the class it belongs to)\n",
    "- $\\mathcal{N}_0$ is such neighborhood of $x_0$\n",
    "- $I(y_i=j)$ is the number of neighbors in $\\mathcal{N}_0$ belonging to class $j$\n",
    "\n",
    "The observation $x_0$ is then classified to the class with the largest probability (\"Bayes rule\").\n",
    "\n",
    "## Distance function\n",
    "\n",
    "A crucial aspect in KNN classification is of course how you *define the distance* between observations. A common choice is the Euclidean distance, which basically takes the square root of the sum of **squared differences in feature values** between any two points: \n",
    "\n",
    "1. Euclidean distance:\n",
    "\n",
    "$$\n",
    "D_E(x_i,x_j) = \\sqrt{ \\sum_{m=1}^M (x_{i,m}-x_{j,m})^2 }\n",
    "$$\n",
    "\n",
    "The Euclidean distance, though, is designed for **continuous features**, and is therefore not very suited for categorical features. Luckily, other distance functions exist for **categorical features**, like the Hamming distance function:\n",
    "\n",
    "2. Hamming distance (categorical features):\n",
    "\n",
    "$$\n",
    "D_H(x_i,x_j) = \\frac{1}{M} \\sum_{m=1}^M I(x_{i,m} \\neq x_{j,m})\n",
    "$$\n",
    "\n",
    "In this brief practical/demonstration, we'll go through an illustration of how to apply KNN to the problem of imputing missing SNP genotypes in rice (*Oryza sativa*).\n",
    "\n",
    "1. Raw data\n",
    "2. Introduce (artificial) missing genotypes\n",
    "3. Imputation with R package\n",
    "4. Step by step KNN imputation: write our own code!"
   ]
  },
  {
   "cell_type": "code",
   "execution_count": null,
   "id": "eleven-liabilities",
   "metadata": {
    "tags": [
     "remove_input",
     "remove_output"
    ]
   },
   "outputs": [],
   "source": [
    "library(\"ggplot2\")\n",
    "library(\"reshape2\")\n",
    "library(\"tidymodels\")\n",
    "library(\"data.table\")"
   ]
  },
  {
   "cell_type": "markdown",
   "id": "broke-partner",
   "metadata": {},
   "source": [
    "### The dataset\n",
    "\n",
    "We'll be using SNP genotype data from 12 samples genotyped with the \"**GeneChip Rice 44K SNP**\"."
   ]
  },
  {
   "cell_type": "code",
   "execution_count": null,
   "id": "involved-mixture",
   "metadata": {
    "tags": [
     "remove_input"
    ]
   },
   "outputs": [],
   "source": [
    "rice44 <- fread(\"../data/GenRiz44.txt\",header=TRUE)\n",
    "head(rice44)\n",
    "nrow(rice44)\n",
    "ncol(rice44)"
   ]
  },
  {
   "cell_type": "code",
   "execution_count": null,
   "id": "young-advantage",
   "metadata": {},
   "outputs": [],
   "source": [
    "oldcode <- c(\"AA\",\"BB\",\"--\")\n",
    "neucode <- c(-1,1,NA)\n",
    "\n",
    "M0 <- apply(rice44[,5:ncol(rice44)],2,function(x) neucode[match(x,oldcode)])\n",
    "head(M0)"
   ]
  },
  {
   "cell_type": "markdown",
   "id": "latin-stack",
   "metadata": {},
   "source": [
    "A summary of the total missing rate in the data is given below:"
   ]
  },
  {
   "cell_type": "code",
   "execution_count": null,
   "id": "patient-initial",
   "metadata": {},
   "outputs": [],
   "source": [
    "missingRate <- apply(M0,1,function(x) length(x[is.na(x)])/length(x))\n",
    "summary(missingRate)"
   ]
  },
  {
   "cell_type": "code",
   "execution_count": null,
   "id": "removable-morocco",
   "metadata": {},
   "outputs": [],
   "source": [
    "n_missing <- sum(colSums(is.na(M0))) ## n. of missing genotypes\n",
    "data_size <- nrow(M0)*ncol(M0) \n",
    "\n",
    "missing_rate <- n_missing/data_size\n",
    "print(missing_rate)"
   ]
  },
  {
   "cell_type": "code",
   "execution_count": null,
   "id": "reported-shadow",
   "metadata": {},
   "outputs": [],
   "source": [
    "M <- M0[missingRate==0,]\n",
    "colnames(M) <- paste(\"sample\",seq(1:ncol(M)),sep=\"_\")\n",
    "vec <- (rowMeans(M) > -0.8 & rowMeans(M) < 0.8)\n",
    "M <- M[vec,]\n",
    "nrow(M)"
   ]
  },
  {
   "cell_type": "markdown",
   "id": "seeing-approval",
   "metadata": {},
   "source": [
    "All real missing data are edited out of the dataset. This leavs `r nrow(M)` SNP. For the sake of the exercise, initially a much smaller subset with 100 SNPs is extracted."
   ]
  },
  {
   "cell_type": "code",
   "execution_count": null,
   "id": "copyrighted-division",
   "metadata": {},
   "outputs": [],
   "source": [
    "vec <- sample(x = nrow(M), size = 100)\n",
    "Mreduced <- t(M[vec,])\n",
    "head(Mreduced)"
   ]
  },
  {
   "cell_type": "markdown",
   "id": "prostate-flush",
   "metadata": {},
   "source": [
    "Now, we randomly introduce 10\\% artificially missing SNP genotypes. In this way, we will be able to measure the accuracy of our imputation method."
   ]
  },
  {
   "cell_type": "code",
   "execution_count": null,
   "id": "proper-syndrome",
   "metadata": {},
   "outputs": [],
   "source": [
    "nSNP <- ncol(Mreduced)\n",
    "nInd <- nrow(Mreduced)\n",
    "schwellenWert <- 0.05 # 10% missing data\n",
    "\n",
    "missing_matrix = matrix(runif(nInd*nSNP), ncol=nSNP) \n",
    "missing_matrix[missing_matrix < schwellenWert] = NA\n",
    "missing_matrix[!is.na(missing_matrix)] = 0\n",
    "injected_data = Mreduced + missing_matrix\n",
    "\n",
    "artificialMissingRate <- length(injected_data[is.na(injected_data)])/(nInd*nSNP) \n",
    "print(artificialMissingRate)\n",
    "\n",
    "missing_map = missing_matrix\n",
    "head(injected_data)"
   ]
  },
  {
   "cell_type": "markdown",
   "id": "confused-queen",
   "metadata": {},
   "source": [
    "The current missing rate (in the injected subset) is `r artificialMissingRate`."
   ]
  },
  {
   "cell_type": "markdown",
   "id": "indian-auditor",
   "metadata": {},
   "source": [
    "### Step-by-step KNN implementation\n",
    "\n",
    "Let's have some fun!!\n",
    "\n",
    "We'll now write our own code. Instead of the Euclidean distance function, we will use the **Hamming distance** function, which is better suited for categorical features. SNP genotypes are categorical features (e.g. **AA/AB/BB**).\n",
    "\n",
    "First, here's the Hamming distance function:"
   ]
  },
  {
   "cell_type": "code",
   "execution_count": null,
   "id": "external-balloon",
   "metadata": {},
   "outputs": [],
   "source": [
    "#calculate distance matrix and nearest neighbours\n",
    "Hamming <- function(x) {\n",
    "  \n",
    "  z <- matrix(0, nrow = nrow(x), ncol = nrow(x))\n",
    "  for (k in 1:(nrow(x) - 1)) {\n",
    "    for (l in (k + 1):nrow(x)) {\n",
    "      z[k, l] <- sum(x[k, ] != x[l, ], na.rm=TRUE)\n",
    "      z[l, k] <- z[k, l]\n",
    "    }\n",
    "  }\n",
    "  return(z)\n",
    "}"
   ]
  },
  {
   "cell_type": "markdown",
   "id": "christian-tackle",
   "metadata": {},
   "source": [
    "We choose a small value of $K$ ($K=3$), given the small size of the exercise (and being sure of avoiding the \"*curse of dimensionality*\" :-)).\n",
    "The objective is to impute missing SNP genotypes at one SNP locus, using all remaining available information (except the target SNP locus)."
   ]
  },
  {
   "cell_type": "code",
   "execution_count": null,
   "id": "pleased-costs",
   "metadata": {
    "tags": [
     "remove_input"
    ]
   },
   "outputs": [],
   "source": [
    "k <- 3\n",
    "\n",
    "y <- 0\n",
    "while(length(y[is.na(y)])<2) {\n",
    "  \n",
    "  i <- sample(1:ncol(injected_data),1)\n",
    "  X <- as.matrix(injected_data[,-i]) #global matrix of features (train + test sets)\n",
    "  y <- injected_data[,i]\n",
    "}\n",
    "  \n",
    "D <- Hamming(X)\n",
    "#D <- 2-gVanRaden(X)\n",
    "row.names(D) <- names(y)\n",
    "colnames(D) <- names(y)"
   ]
  },
  {
   "cell_type": "markdown",
   "id": "affiliated-devices",
   "metadata": {},
   "source": [
    "Let's have a look at the first elements of the matrix of Hamming distances:"
   ]
  },
  {
   "cell_type": "code",
   "execution_count": null,
   "id": "asian-flesh",
   "metadata": {
    "tags": [
     "remove_input"
    ]
   },
   "outputs": [],
   "source": [
    "print(D[1:6,1:6])"
   ]
  },
  {
   "cell_type": "code",
   "execution_count": null,
   "id": "average-heater",
   "metadata": {},
   "outputs": [],
   "source": [
    "mD <- reshape2::melt(D)\n",
    "\n",
    "p <- ggplot(mD, aes(x = Var1, y = Var2)) + geom_tile(aes(fill=value))\n",
    "p <- p + theme(axis.text.x = element_text(angle = 90))\n",
    "p <- p + scale_fill_gradient2(low=\"ivory\",high = \"red\")\n",
    "p"
   ]
  },
  {
   "cell_type": "markdown",
   "id": "worldwide-concrete",
   "metadata": {},
   "source": [
    "This is the vector of SNP genotypes to be imputed: `r y`."
   ]
  },
  {
   "cell_type": "code",
   "execution_count": null,
   "id": "remarkable-stanley",
   "metadata": {
    "scrolled": true
   },
   "outputs": [],
   "source": [
    "print(y)"
   ]
  },
  {
   "cell_type": "markdown",
   "id": "excited-diagram",
   "metadata": {},
   "source": [
    "Non-missing genotypes at this SNP locus are the \"*training*\" observations, to be used for the imputation of the missing data points. The subset of distances for the missing observations is extracted and ordered by reverse distance (the matrix below is showing, for the test samples, the closest and farthest samples in the training set, orderd from closest to farthest)"
   ]
  },
  {
   "cell_type": "code",
   "execution_count": null,
   "id": "suspected-conflict",
   "metadata": {},
   "outputs": [],
   "source": [
    "testIDS <- names(y[is.na(y)])\n",
    "trainIDS <- names(y[!is.na(y)])\n",
    "\n",
    "NN <- apply(D[as.character(testIDS),as.character(trainIDS)],1,order)\n",
    "NN <- t(NN)\n",
    "\n",
    "print(NN)"
   ]
  },
  {
   "cell_type": "markdown",
   "id": "transsexual-punishment",
   "metadata": {},
   "source": [
    "We'll now use KNN to impute the missing genotypes, based on the most frequent genotype in the $K$ neighbors."
   ]
  },
  {
   "cell_type": "code",
   "execution_count": null,
   "id": "palestinian-ultimate",
   "metadata": {},
   "outputs": [],
   "source": [
    "ergebnisse <- apply(NN[,1:k, drop=FALSE], 1, function(nn) {\n",
    "    tab <- table(y[trainIDS][nn]); ## extract k neighbors and compute class frequencies\n",
    "    maxClass <- names(which.max(tab)) ## get name of most frequent class\n",
    "    prob <- tab[maxClass]/k; ## calculate probability \n",
    "    pred <- as.integer(maxClass); ## make prediction\n",
    "    return(c(pred,prob)) \n",
    "})\n"
   ]
  },
  {
   "cell_type": "markdown",
   "id": "distributed-sugar",
   "metadata": {},
   "source": [
    "And these are the results for one single SNP locus:"
   ]
  },
  {
   "cell_type": "code",
   "execution_count": null,
   "id": "lesser-kazakhstan",
   "metadata": {},
   "outputs": [],
   "source": [
    "ergebnisse <- as.data.frame(t(ergebnisse))\n",
    "names(ergebnisse) <- c(\"pred\",\"prob\")\n",
    "ergebnisse[ergebnisse$pred==0,]$prob <- 1-ergebnisse[ergebnisse$pred==0,]$prob\n",
    "print(ergebnisse)"
   ]
  },
  {
   "cell_type": "markdown",
   "id": "every-tanzania",
   "metadata": {},
   "source": [
    "Now we can apply this code to the entire dataset, to impute missing genotypes at all SNP loci."
   ]
  },
  {
   "cell_type": "code",
   "execution_count": null,
   "id": "extended-intake",
   "metadata": {},
   "outputs": [],
   "source": [
    "imputedM <- matrix(rep(NA,nInd*nSNP),nrow=nInd)\n",
    "\n",
    "for(i in 1:ncol(injected_data)) {\n",
    "  \n",
    "  X <- as.matrix(injected_data[,-i]) #global matrix of features (train + test sets)\n",
    "  y <- injected_data[,i]\n",
    "  k <- 3\n",
    "  \n",
    "  if(length(y[is.na(y)])<1) {\n",
    "    \n",
    "    imputedM[,i] <- y\n",
    "  } else {\n",
    "    \n",
    "    D <- Hamming(X)\n",
    "    row.names(D) <- names(y)\n",
    "    colnames(D) <- names(y)\n",
    "    \n",
    "    testIDS <- names(y[is.na(y)])\n",
    "    trainIDS <- names(y[!is.na(y)])\n",
    "    \n",
    "    if(length(testIDS)!=1) {\n",
    "      \n",
    "      NN <- apply(D[as.character(testIDS),as.character(trainIDS)],1,order)\n",
    "      NN <- t(NN)\n",
    "      ids <- row.names(NN) #for the output file\n",
    "      \n",
    "      ergebnisse <- apply(NN[,1:k, drop=F], 1, function(nn) {\n",
    "        tab <- table(y[trainIDS][nn]); \n",
    "        maxClass <- names(which.max(tab))\n",
    "        pred <- as.integer(maxClass); \n",
    "        return(pred)\n",
    "      })\n",
    "      y[testIDS] <- ergebnisse[testIDS]\n",
    "    } else {\n",
    "      \n",
    "      n <- order(D[testIDS,trainIDS])[1:k]\n",
    "      tab <- table(y[trainIDS][n]); \n",
    "      maxClass <- names(which.max(tab))\n",
    "      prob <- tab[maxClass]/k; \n",
    "      pred <- as.integer(maxClass); \n",
    "      y[testIDS] <- pred\n",
    "    }\n",
    "\n",
    "    imputedM[,i] <- y\n",
    "  }\n",
    "}\n",
    "\n",
    "#Accuracy of imputation\n",
    "results <- imputedM[is.na(missing_map)]==Mreduced[is.na(missing_map)]\n",
    "accuracy <- length(results[results==TRUE])/length(results)\n",
    "print(accuracy)"
   ]
  },
  {
   "cell_type": "markdown",
   "id": "bigger-congo",
   "metadata": {},
   "source": [
    "<span style=\"background-color:yellow\">The accuracy of imputation with the our R code is:<strong> `r accuracy`</strong></span>"
   ]
  },
  {
   "cell_type": "markdown",
   "id": "popular-possession",
   "metadata": {},
   "source": [
    "### Imputation with tidymodels\n",
    "\n",
    "We'll now impute missing genotypes using **KNN** with the `tidymodels` R library. \n",
    "\n"
   ]
  },
  {
   "cell_type": "code",
   "execution_count": null,
   "id": "mobile-processor",
   "metadata": {},
   "outputs": [],
   "source": [
    "missing_data <- as.data.frame(injected_data)\n",
    "\n",
    "imputation_recipe <- recipe(missing_data) %>% \n",
    "  update_role(all_numeric(), new_role = \"predictor\") %>%\n",
    "  step_knnimpute(all_predictors(), neighbors = 3)\n",
    "\n",
    "imputation_recipe_prep <- prep(imputation_recipe)\n",
    "\n",
    "imputed <- bake(imputation_recipe_prep, missing_data)\n",
    "imputed2 = juice(imputation_recipe_prep)\n",
    "\n",
    "head(imputed)"
   ]
  },
  {
   "cell_type": "code",
   "execution_count": null,
   "id": "pacific-element",
   "metadata": {},
   "outputs": [],
   "source": [
    "results <- imputed[is.na(missing_map)]==Mreduced[is.na(missing_map)]\n",
    "accuracy <- length(results[results==TRUE])/length(results)\n",
    "print(accuracy)"
   ]
  },
  {
   "cell_type": "markdown",
   "id": "plastic-brother",
   "metadata": {},
   "source": [
    "!! important caveat: the R code shown here is intended for demonstration only, and has not been optimized nor tested for applications !!\n",
    "\n"
   ]
  }
 ],
 "metadata": {
  "jupytext": {
   "cell_metadata_filter": "tags,-all",
   "main_language": "R",
   "notebook_metadata_filter": "-all"
  },
  "kernelspec": {
   "display_name": "R",
   "language": "R",
   "name": "ir"
  },
  "language_info": {
   "codemirror_mode": "r",
   "file_extension": ".r",
   "mimetype": "text/x-r-source",
   "name": "R",
   "pygments_lexer": "r",
   "version": "4.0.4"
  }
 },
 "nbformat": 4,
 "nbformat_minor": 5
}
