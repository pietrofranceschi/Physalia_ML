{
 "cells": [
  {
   "cell_type": "raw",
   "id": "informed-jerusalem",
   "metadata": {},
   "source": [
    "---\n",
    "title: \"Let's build our first predictive machine!\"\n",
    "author: \"Filippo Biscarini\"\n",
    "date: \"6/9/2020\"\n",
    "output: html_document\n",
    "---"
   ]
  },
  {
   "cell_type": "markdown",
   "id": "moral-latter",
   "metadata": {},
   "source": [
    "## DNA methylation and age in bats\n",
    "\n",
    "We are now ready to build our first **predictive machine**! <br>\n",
    "First, we load the R packages that are needed for this analysis:"
   ]
  },
  {
   "cell_type": "code",
   "execution_count": null,
   "id": "initial-consumer",
   "metadata": {
    "name": "setup",
    "tags": [
     "remove_cell"
    ]
   },
   "outputs": [],
   "source": [
    "library(\"xlsx\")\n",
    "library(\"broom\")\n",
    "library(\"knitr\")\n",
    "library(\"dplyr\")\n",
    "library(\"ggplot2\")\n",
    "library(\"corrplot\")\n",
    "library(\"reshape2\")\n",
    "library(\"tidyverse\")\n",
    "library(\"tidymodels\")\n",
    "\n",
    "knitr::opts_chunk$set(echo = TRUE)"
   ]
  },
  {
   "cell_type": "markdown",
   "id": "injured-entrance",
   "metadata": {},
   "source": [
    "## Reading the data\n",
    "\n",
    "For this practical session on linear regression we are using a dataset on the relationship between the age of wild bats and DNA methylation at specific CpG sites ([data](https://datadryad.org/stash/dataset/doi:10.5061/dryad.rn0198d); [paper](https://onlinelibrary.wiley.com/doi/abs/10.1111/1755-0998.12925)).\n",
    "\n",
    "The public dataset downloaded from Dryad is an `.xlsm` file, and can be read into *R* using the `read.xlsx()` function from the **xlsx** package."
   ]
  },
  {
   "cell_type": "code",
   "execution_count": null,
   "id": "saved-stream",
   "metadata": {
    "label": "reading_data"
   },
   "outputs": [],
   "source": [
    "ch4 <- read.xlsx(\"../data/DNA methylation data.xlsm\", sheetIndex = 1)\n",
    "ch4 %>%\n",
    "  head()"
   ]
  },
  {
   "cell_type": "markdown",
   "id": "large-omaha",
   "metadata": {},
   "source": [
    "## Exploratory Data Analysis\n",
    "\n",
    "The dataset contains the age of bats in years and the percentage methylation at 7 CpG sites (epigenetic modifications)."
   ]
  },
  {
   "cell_type": "code",
   "execution_count": null,
   "id": "moral-showcase",
   "metadata": {},
   "outputs": [],
   "source": [
    "mCH4 <- reshape2::melt(ch4, id.vars = c(\"Sample\",\"Age.category\"), variable.name = \"var\")\n",
    "mCH4 %>%\n",
    "  group_by(var) %>%\n",
    "  summarise(N = n(),\n",
    "            n_missing = sum(is.na(value)),\n",
    "            avg = round(mean(value, na.rm = TRUE),2),\n",
    "            std = round(sd(value, na.rm = TRUE),2),\n",
    "            min = min(value),\n",
    "            max = max(value))"
   ]
  },
  {
   "cell_type": "code",
   "execution_count": null,
   "id": "selective-establishment",
   "metadata": {},
   "outputs": [],
   "source": [
    "ggplot(data = ch4, aes(Age)) + geom_histogram(binwidth = 1)"
   ]
  },
  {
   "cell_type": "markdown",
   "id": "chicken-rochester",
   "metadata": {},
   "source": [
    "The columns `Sample` and `Age.category` will not be used for the analysis:"
   ]
  },
  {
   "cell_type": "code",
   "execution_count": null,
   "id": "vital-offense",
   "metadata": {},
   "outputs": [],
   "source": [
    "ch4 <- na.omit(ch4[,-c(1,3)])\n",
    "plot(ch4)"
   ]
  },
  {
   "cell_type": "markdown",
   "id": "innocent-bidder",
   "metadata": {},
   "source": [
    "#### Correlation matrix"
   ]
  },
  {
   "cell_type": "code",
   "execution_count": null,
   "id": "ceramic-yukon",
   "metadata": {},
   "outputs": [],
   "source": [
    "M <- cor(ch4, use = \"complete.obs\")\n",
    "M"
   ]
  },
  {
   "cell_type": "code",
   "execution_count": null,
   "id": "brave-shelter",
   "metadata": {},
   "outputs": [],
   "source": [
    "corrplot(M)"
   ]
  },
  {
   "cell_type": "markdown",
   "id": "unlikely-table",
   "metadata": {},
   "source": [
    "## Fitting the multiple linear regression model\n",
    "\n",
    "$$\n",
    "y_{ik} = \\mu + \\sum_{i=1}^k CpG_k + e_{ik}\n",
    "$$"
   ]
  },
  {
   "cell_type": "code",
   "execution_count": null,
   "id": "elect-bidding",
   "metadata": {},
   "outputs": [],
   "source": [
    "fit <- lm(Age ~ ., data = ch4)\n",
    "tidy(fit)\n",
    "r_squared <- summary(fit)$r.squared\n",
    "print(paste(\"R^2 is: \", round(r_squared,3)))"
   ]
  },
  {
   "cell_type": "markdown",
   "id": "static-picture",
   "metadata": {},
   "source": [
    "The coefficient of determination **$R^2$** is `r r_squared`"
   ]
  },
  {
   "cell_type": "code",
   "execution_count": null,
   "id": "mobile-extreme",
   "metadata": {},
   "outputs": [],
   "source": [
    "data.frame(\"coefficient\"=coef(fit))"
   ]
  },
  {
   "cell_type": "markdown",
   "id": "polish-halifax",
   "metadata": {},
   "source": [
    "## Predictions\n",
    "\n",
    "We start by manually predicting one observation $i$ from the estimated coefficients and the feature vector $x_i$"
   ]
  },
  {
   "cell_type": "code",
   "execution_count": null,
   "id": "falling-tunisia",
   "metadata": {},
   "outputs": [],
   "source": [
    "n <- sample(nrow(ch4),1) ## we sample one record to predict\n",
    "x <- as.matrix(ch4[n,-1])\n",
    "x <- c(1,x) ## add intercept\n",
    "y <- ch4[n,1]\n",
    "coefs <- as.vector(coef(fit))\n",
    "print(paste(\"actual observation:\", y, \"years\"))\n",
    "print(paste(\"methylation at CpG sites for the samples individual: \", paste(x, collapse = \" \")))\n",
    "print(paste(\"estimated model coefficients:\", paste(round(coefs,3), collapse = \" \")))"
   ]
  },
  {
   "cell_type": "code",
   "execution_count": null,
   "id": "baking-organ",
   "metadata": {},
   "outputs": [],
   "source": [
    "y_hat = t(coefs) %*% x\n",
    "print(c(y,y_hat))\n",
    "error = y - y_hat\n",
    "print(error)"
   ]
  },
  {
   "cell_type": "markdown",
   "id": "compact-purse",
   "metadata": {},
   "source": [
    "Our prediction is `r y_hat`; the corresponding observation is `r y`; hence the prediction error is `r error`.\n",
    "\n",
    "We then predict all observations using the `predict()` function:"
   ]
  },
  {
   "cell_type": "code",
   "execution_count": null,
   "id": "atmospheric-cancer",
   "metadata": {},
   "outputs": [],
   "source": [
    "predictions <- predict(fit,ch4[,-1],interval=\"none\", type = \"response\", na.action=na.pass)\n",
    "\n",
    "cbind(ch4, predictions) %>% head(10)"
   ]
  },
  {
   "cell_type": "markdown",
   "id": "increased-winning",
   "metadata": {},
   "source": [
    "Finally, we can measure the predictive performance of the model:"
   ]
  },
  {
   "cell_type": "code",
   "execution_count": null,
   "id": "retired-completion",
   "metadata": {},
   "outputs": [],
   "source": [
    "r_pearson = cor(ch4$Age,predictions)\n",
    "r_spearman = cor(ch4$Age,predictions, method = \"spearman\")\n",
    "mse = mean((ch4$Age-predictions)^2)\n",
    "rmse = sqrt(mse)\n",
    "nrmse = sqrt(mse)/mean(ch4$Age)\n",
    "\n",
    "data.frame(\"metric\"=c(\"MSE\",\"RMSE\",\"NRMSE\",\"r pearson\",\"r spearman\"),\n",
    "           \"value\"=c(mse,rmse,nrmse,r_pearson,r_spearman))"
   ]
  },
  {
   "cell_type": "markdown",
   "id": "dental-phenomenon",
   "metadata": {},
   "source": [
    "#### Visuliazing results"
   ]
  },
  {
   "cell_type": "code",
   "execution_count": null,
   "id": "allied-philippines",
   "metadata": {},
   "outputs": [],
   "source": [
    "ggplot(data.frame(\"y\"=ch4$Age,\"predictions\"=predictions), aes(x=predictions,y=y)) +\n",
    "  geom_point()"
   ]
  },
  {
   "cell_type": "markdown",
   "id": "iraqi-atlas",
   "metadata": {},
   "source": [
    "### Normalised Discounted Cumulative Gain\n",
    "\n",
    "**NDCG** (Normalised Discounted Cumulative Gain)\n",
    "\n",
    "Gain function\n",
    "\n",
    "$$\n",
    "g(y_{\\pi}) = y[\\pi(\\hat{y})]\n",
    "$$"
   ]
  },
  {
   "cell_type": "code",
   "execution_count": null,
   "id": "stable-rotation",
   "metadata": {},
   "outputs": [],
   "source": [
    "g = ch4$Age[order(predictions,decreasing = TRUE)]\n",
    "g"
   ]
  },
  {
   "cell_type": "markdown",
   "id": "bored-projection",
   "metadata": {},
   "source": [
    "If predictions are accurate, you should see (above) that when ordered based on predictions (gain function) the oldest bats are on top, and the youngest bats are at the bottom of the rank.\n",
    "\n",
    "Discount:\n",
    "\n",
    "$$\n",
    "d(i) = \\frac{1}{log_2(i+1)}\n",
    "$$\n",
    "\n",
    "Discounted cumulative gain:\n",
    "\n",
    "$$\n",
    "DCG@k = \\sum_{i=1}^k g(y_{\\pi_i}) \\cdot d(i) \n",
    "$$\n",
    "\n",
    "The top ranked observations have the highest weight (\"discount\"), while the lower ranked observations get lower weights following the hyperbolic curve below (asymptotically going towards zero as the number of top ranked observations considered increases, without ever reaching it)"
   ]
  },
  {
   "cell_type": "code",
   "execution_count": null,
   "id": "brief-regard",
   "metadata": {},
   "outputs": [],
   "source": [
    "i = seq(1,10)\n",
    "d = 1/(log2(i+1))\n",
    "\n",
    "plot(i, d, type=\"l\", col=\"red\")"
   ]
  },
  {
   "cell_type": "markdown",
   "id": "former-neighborhood",
   "metadata": {},
   "source": [
    "Example for $k=2$ (top 2 individuals in the ranking)"
   ]
  },
  {
   "cell_type": "code",
   "execution_count": null,
   "id": "center-remains",
   "metadata": {},
   "outputs": [],
   "source": [
    "k = 2\n",
    "gk = g[1:k] ## top two observed values according to ordered predictions\n",
    "print(paste(\"top k obs ordered based on predictions\",paste(gk, collapse = \" \")))\n",
    "d = 1/log(x = 1+1:k, base = 2)\n",
    "dcg = sum(gk*d)\n",
    "print(paste(\"cumulative discounted gain of the top k observations\", dcg))"
   ]
  },
  {
   "cell_type": "markdown",
   "id": "improved-ending",
   "metadata": {},
   "source": [
    "*DCG* is `r dcg`: high? low? We must normalise:"
   ]
  },
  {
   "cell_type": "code",
   "execution_count": null,
   "id": "advance-sharp",
   "metadata": {},
   "outputs": [],
   "source": [
    "denominator = ch4$Age[order(ch4$Age,decreasing = TRUE)]\n",
    "print(denominator) ## perfect ordering\n",
    "ndcg = dcg/sum(denominator[1:k]*d)\n",
    "print(paste(\"NDCG is\",ndcg))"
   ]
  },
  {
   "cell_type": "markdown",
   "id": "communist-protection",
   "metadata": {},
   "source": [
    "*NDCG* is `r ndcg`.\n",
    "\n",
    "Below a function to compute NDCG:\n"
   ]
  },
  {
   "cell_type": "code",
   "execution_count": null,
   "id": "arranged-expense",
   "metadata": {},
   "outputs": [],
   "source": [
    "#Function to calculate Mean Normalized discounted cumulative gain (MNV)\n",
    "ndcg <- function(y_hat,y,k) {\n",
    "  \n",
    "  y.sort_y_hat = y[order(y_hat,decreasing=TRUE)]\n",
    "  y.sort_y = y[order(y,decreasing=TRUE)]\n",
    "  d <- 1/log2(1+1:k)\n",
    "  \n",
    "  ndcg = sum(y.sort_y_hat[1:k]*d)/sum(y.sort_y[1:k]*d)\n",
    "\n",
    "  return(ndcg)\n",
    "}"
   ]
  },
  {
   "cell_type": "code",
   "execution_count": null,
   "id": "large-ordinance",
   "metadata": {
    "lines_to_next_cell": 2
   },
   "outputs": [],
   "source": [
    "NDCG <- ndcg(y_hat = predictions, y = ch4$Age, k = 10)\n",
    "print(round(NDCG,4))"
   ]
  },
  {
   "cell_type": "markdown",
   "id": "instrumental-utilization",
   "metadata": {},
   "source": [
    "## Exercise 2.1\n",
    "\n",
    "- write your own model: remove variables, add interactions, quadratic effects etc.\n",
    "- measure the performance of your model"
   ]
  },
  {
   "cell_type": "code",
   "execution_count": null,
   "id": "magnetic-salon",
   "metadata": {
    "lines_to_next_cell": 0
   },
   "outputs": [],
   "source": [
    "## write your code here"
   ]
  }
 ],
 "metadata": {
  "jupytext": {
   "cell_metadata_filter": "label,name,tags,-all",
   "main_language": "R",
   "notebook_metadata_filter": "-all"
  },
  "kernelspec": {
   "display_name": "R",
   "language": "R",
   "name": "ir"
  },
  "language_info": {
   "codemirror_mode": "r",
   "file_extension": ".r",
   "mimetype": "text/x-r-source",
   "name": "R",
   "pygments_lexer": "r",
   "version": "4.0.4"
  }
 },
 "nbformat": 4,
 "nbformat_minor": 5
}
