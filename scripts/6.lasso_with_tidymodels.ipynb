{
 "cells": [
  {
   "cell_type": "raw",
   "id": "exotic-essay",
   "metadata": {},
   "source": [
    "---\n",
    "title: \"Lasso regularization\"\n",
    "author: \"Filippo Biscarini\"\n",
    "date: \"7/8/2020\"\n",
    "output: html_document\n",
    "---"
   ]
  },
  {
   "cell_type": "code",
   "execution_count": null,
   "id": "marked-trash",
   "metadata": {},
   "outputs": [],
   "source": [
    "library(\"knitr\")\n",
    "library(\"glmnet\")\n",
    "library(\"ggplot2\")\n",
    "library(\"tidyverse\")\n",
    "library(\"tidymodels\")\n",
    "library(\"data.table\")"
   ]
  },
  {
   "cell_type": "markdown",
   "id": "oriented-asthma",
   "metadata": {},
   "source": [
    "## Lasso-penalised logistic regression using tidymodels\n",
    "\n",
    "For this illustration, we will use the metabolomics dataset on NMR spectroscopy metabolite abundances in diabetes patients (with controls):"
   ]
  },
  {
   "cell_type": "code",
   "execution_count": null,
   "id": "weekly-diary",
   "metadata": {},
   "outputs": [],
   "source": [
    "mtbsl1 <- fread(\"../data/MTBSL1.tsv\")\n",
    "nrow(mtbsl1)"
   ]
  },
  {
   "cell_type": "code",
   "execution_count": null,
   "id": "arranged-blame",
   "metadata": {
    "scrolled": true
   },
   "outputs": [],
   "source": [
    "head(mtbsl1)"
   ]
  },
  {
   "cell_type": "code",
   "execution_count": null,
   "id": "stopped-median",
   "metadata": {},
   "outputs": [],
   "source": [
    "names(mtbsl1)[c(4:ncol(mtbsl1))] <- paste(\"mtbl\",seq(1,ncol(mtbsl1)-3), sep = \"_\")\n",
    "table(mtbsl1$Metabolic_syndrome,mtbsl1$Gender)"
   ]
  },
  {
   "cell_type": "markdown",
   "id": "independent-sierra",
   "metadata": {},
   "source": [
    "We see that the metabolites abundances have largely different scales/magnitudes, and it could be a good idea to normalise them before running the model (remember that Lasso constraints the size of the coefficients, and these depends on the magnitude of each variable $\\rightarrow$ same $\\lambda$ applied to all variables)  "
   ]
  },
  {
   "cell_type": "code",
   "execution_count": null,
   "id": "aerial-happiness",
   "metadata": {},
   "outputs": [],
   "source": [
    "library(\"repr\")\n",
    "options(repr.plot.width=14, repr.plot.height=8)\n",
    "\n",
    "mm_diab <- mtbsl1 %>%\n",
    "  gather(key = \"metabolite\", value = \"abundance\", -c(`Primary ID`,Gender,Metabolic_syndrome))\n",
    "\n",
    "mm_diab %>%\n",
    "  ggplot(aes(metabolite, abundance, fill = as.factor(metabolite))) +\n",
    "  geom_boxplot(show.legend = FALSE)"
   ]
  },
  {
   "cell_type": "markdown",
   "id": "arbitrary-quick",
   "metadata": {},
   "source": [
    "### Training and test sets\n",
    "\n",
    "We now split the data in the training and test sets:"
   ]
  },
  {
   "cell_type": "code",
   "execution_count": null,
   "id": "minus-matrix",
   "metadata": {},
   "outputs": [],
   "source": [
    "diab_dt <- select(mtbsl1, -c(`Primary ID`, Gender)) ## remove gender for the moment, and keep only mìnumeric features for convinience\n",
    "mtbsl1_split <- initial_split(diab_dt, strata = Metabolic_syndrome)\n",
    "mtbsl1_train <- training(mtbsl1_split)\n",
    "mtbsl1_test <- testing(mtbsl1_split)"
   ]
  },
  {
   "cell_type": "markdown",
   "id": "knowing-japanese",
   "metadata": {},
   "source": [
    "### Preprocessing\n",
    "\n",
    "We remove variables with zero variance (no variability, not informative) and normalise all numeric variables:"
   ]
  },
  {
   "cell_type": "code",
   "execution_count": null,
   "id": "ancient-breast",
   "metadata": {},
   "outputs": [],
   "source": [
    "## build a recipe for preprocessing\n",
    "mtbsl1_rec <- recipe(Metabolic_syndrome ~ ., data = mtbsl1_train) %>%\n",
    "  # update_role(`Primary ID`, new_role = \"ID\") %>%\n",
    "  step_zv(all_numeric(), -all_outcomes()) %>%\n",
    "  step_normalize(all_numeric(), -all_outcomes())\n",
    "\n",
    "print(mtbsl1_rec)"
   ]
  },
  {
   "cell_type": "code",
   "execution_count": null,
   "id": "hollywood-ticket",
   "metadata": {},
   "outputs": [],
   "source": [
    "mtbsl1_prep <- mtbsl1_rec %>%\n",
    "  prep(strings_as_factors = FALSE)\n",
    "\n",
    "print(mtbsl1_prep)\n",
    "mtbsl1_train <- juice(mtbsl1_prep)"
   ]
  },
  {
   "cell_type": "markdown",
   "id": "vertical-polymer",
   "metadata": {},
   "source": [
    "## The Lasso model\n",
    "\n",
    "We start by specifying our Lasso model:\n",
    "\n",
    "- it's logistic regression for a classification problem\n",
    "- we set the $\\lambda$ parameter (penalty) to the arbitrary value of 0.1\n",
    "- mixture: amount of L1 regularization, when 1 it's Lasso (0 is Ridge regression)\n",
    "- the engine is set to `glmnet`\n",
    "\n",
    "Then we add everything to a workflow object, piecewise, and fit the Lasso model:"
   ]
  },
  {
   "cell_type": "code",
   "execution_count": null,
   "id": "worth-breakdown",
   "metadata": {},
   "outputs": [],
   "source": [
    "lasso_spec <- logistic_reg(mode = \"classification\", penalty = 0.1, mixture = 1) %>%\n",
    "  set_engine(\"glmnet\")"
   ]
  },
  {
   "cell_type": "code",
   "execution_count": null,
   "id": "familiar-baghdad",
   "metadata": {},
   "outputs": [],
   "source": [
    "wf <- workflow() %>%\n",
    "  add_recipe(mtbsl1_rec)"
   ]
  },
  {
   "cell_type": "code",
   "execution_count": null,
   "id": "adult-marketplace",
   "metadata": {},
   "outputs": [],
   "source": [
    "lasso_fit <- wf %>%\n",
    "  add_model(lasso_spec) %>%\n",
    "  fit(data = mtbsl1_train)"
   ]
  },
  {
   "cell_type": "code",
   "execution_count": null,
   "id": "valuable-burden",
   "metadata": {},
   "outputs": [],
   "source": [
    "lasso_fit %>%\n",
    "  pull_workflow_fit() %>%\n",
    "  tidy()"
   ]
  },
  {
   "cell_type": "code",
   "execution_count": null,
   "id": "wireless-grill",
   "metadata": {},
   "outputs": [],
   "source": [
    "lasso_fit %>%\n",
    "  pull_workflow_fit() %>%\n",
    "  tidy() %>%\n",
    "  filter(estimate > 0)"
   ]
  },
  {
   "cell_type": "markdown",
   "id": "fixed-flooring",
   "metadata": {},
   "source": [
    "## Tuning the hyperparameters\n",
    "\n",
    "We use k-fold cross-validation to tune the hyperparameters ($\\lambda$ penalty in this case) in the training set:"
   ]
  },
  {
   "cell_type": "code",
   "execution_count": null,
   "id": "architectural-trunk",
   "metadata": {},
   "outputs": [],
   "source": [
    "diab_cv <- vfold_cv(mtbsl1_train, v=5, repeats = 10, strata = Metabolic_syndrome)\n",
    "\n",
    "tune_spec <- logistic_reg(penalty = tune(), mixture = 1) %>%\n",
    "  set_engine(\"glmnet\")\n",
    "\n",
    "lambda_grid <- grid_regular(penalty(), levels = 50, filter = penalty <= .05)\n",
    "print(lambda_grid)\n"
   ]
  },
  {
   "cell_type": "code",
   "execution_count": null,
   "id": "ruled-pepper",
   "metadata": {},
   "outputs": [],
   "source": [
    "doParallel::registerDoParallel()\n",
    "\n",
    "lasso_grid <- tune_grid(\n",
    "  wf %>% add_model(tune_spec),\n",
    "  resamples = diab_cv,\n",
    "  grid = lambda_grid\n",
    ")"
   ]
  },
  {
   "cell_type": "code",
   "execution_count": null,
   "id": "velvet-psychology",
   "metadata": {},
   "outputs": [],
   "source": [
    "lasso_grid %>%\n",
    "  collect_metrics()"
   ]
  },
  {
   "cell_type": "code",
   "execution_count": null,
   "id": "confidential-football",
   "metadata": {},
   "outputs": [],
   "source": [
    "lasso_grid %>%\n",
    "  collect_metrics() %>%\n",
    "  ggplot(aes(penalty, mean, color = .metric)) +\n",
    "  geom_errorbar(aes(\n",
    "    ymin = mean - std_err,\n",
    "    ymax = mean + std_err\n",
    "  ),\n",
    "  alpha = 0.5\n",
    "  ) +\n",
    "  geom_line(size = 1.5) +\n",
    "  facet_wrap(~.metric, scales = \"free\", nrow = 2) +\n",
    "  scale_x_log10() +\n",
    "  theme(legend.position = \"none\")"
   ]
  },
  {
   "cell_type": "code",
   "execution_count": null,
   "id": "vocal-ballot",
   "metadata": {},
   "outputs": [],
   "source": [
    "lowest_roc <- lasso_grid %>%\n",
    "  select_best(\"roc_auc\")\n",
    "\n",
    "print(lowest_roc)"
   ]
  },
  {
   "cell_type": "code",
   "execution_count": null,
   "id": "vietnamese-dryer",
   "metadata": {},
   "outputs": [],
   "source": [
    "final_lasso <- finalize_workflow(\n",
    "  wf %>% add_model(tune_spec),\n",
    "  lowest_roc\n",
    ")\n",
    "\n",
    "print(final_lasso)"
   ]
  },
  {
   "cell_type": "markdown",
   "id": "protected-amateur",
   "metadata": {},
   "source": [
    "### Variable importance"
   ]
  },
  {
   "cell_type": "code",
   "execution_count": null,
   "id": "loved-brick",
   "metadata": {},
   "outputs": [],
   "source": [
    "library(\"vip\")\n",
    "\n",
    "final_lasso %>%\n",
    "  fit(mtbsl1_train) %>%\n",
    "  pull_workflow_fit() %>%\n",
    "  vi(lambda = lowest_roc$penalty) %>%\n",
    "  mutate(\n",
    "    Importance = abs(Importance),\n",
    "    Variable = fct_reorder(Variable, Importance)\n",
    "  ) %>%\n",
    "  filter(Importance > 0) %>%\n",
    "  ggplot(aes(x = Importance, y = Variable, fill = Sign)) +\n",
    "  geom_col() +\n",
    "  scale_x_continuous(expand = c(0, 0)) +\n",
    "  labs(y = NULL)"
   ]
  },
  {
   "cell_type": "markdown",
   "id": "pharmaceutical-breathing",
   "metadata": {},
   "source": [
    "## Testing the model"
   ]
  },
  {
   "cell_type": "code",
   "execution_count": null,
   "id": "marked-subscription",
   "metadata": {},
   "outputs": [],
   "source": [
    "lr_res <- last_fit(\n",
    "  final_lasso,\n",
    "  mtbsl1_split\n",
    ") \n",
    "\n",
    "lr_res %>%\n",
    "  collect_metrics()\n"
   ]
  },
  {
   "cell_type": "code",
   "execution_count": null,
   "id": "circular-thickness",
   "metadata": {},
   "outputs": [],
   "source": [
    "lr_res %>% collect_predictions() %>%\n",
    "  group_by(.pred_class,Metabolic_syndrome) %>%\n",
    "  summarise(N=n()) %>%\n",
    "  spread(key = \".pred_class\", value = N)"
   ]
  },
  {
   "cell_type": "code",
   "execution_count": null,
   "id": "collected-canadian",
   "metadata": {},
   "outputs": [],
   "source": [
    "mtbsl1_testing <- mtbsl1_prep %>% bake(testing(mtbsl1_split)) ## preprocess test data\n",
    "\n",
    "final_lasso_fit <- fit(final_lasso, data = mtbsl1_train) ## fit final model on the training set\n",
    "\n",
    "final_lasso_fit %>%\n",
    "  predict(mtbsl1_testing, type = \"class\") %>%\n",
    "  bind_cols(mtbsl1_testing) %>%\n",
    "  # metrics(truth = Metabolic_syndrome, estimate = .pred_class)\n",
    "  group_by(.pred_class,Metabolic_syndrome) %>%\n",
    "  summarise(N=n()) %>%\n",
    "  spread(key = \".pred_class\", value = N)"
   ]
  },
  {
   "cell_type": "code",
   "execution_count": null,
   "id": "together-navigation",
   "metadata": {},
   "outputs": [],
   "source": [
    "lr_auc <- \n",
    "  lr_res %>% \n",
    "  collect_predictions() %>% \n",
    "  roc_curve(Metabolic_syndrome,`.pred_Control Group`) %>% \n",
    "  mutate(model = \"Logistic Regression\")\n",
    "\n",
    "autoplot(lr_auc)"
   ]
  },
  {
   "cell_type": "markdown",
   "id": "amino-palmer",
   "metadata": {},
   "source": [
    "## Add gender (factor) to the Lasso model\n",
    "\n",
    "To add factors to the Lasso model (engine `glmnet`) we need to use [one hot encoding](https://hackernoon.com/what-is-one-hot-encoding-why-and-when-do-you-have-to-use-it-e3c6186d008f)"
   ]
  },
  {
   "cell_type": "code",
   "execution_count": null,
   "id": "digital-timer",
   "metadata": {},
   "outputs": [],
   "source": [
    "diab_dt <- model.matrix(~ ., mtbsl1[,\"Gender\"]) %>% as_tibble() %>% select(GenderMale) %>% rename(gender = GenderMale) %>% \n",
    "bind_cols(diab_dt)\n",
    "\n",
    "head(diab_dt)"
   ]
  },
  {
   "cell_type": "markdown",
   "id": "considerable-particle",
   "metadata": {},
   "source": [
    "#### Interactive exercise\n",
    "\n",
    "We'll now rerun a Lasso-penalised logistic regression model including Gender as feature, going together through the steps involved in Lasso models with `tidymodels`:\n",
    "\n",
    "1. splitting the data\n",
    "2. preprocessing\n",
    "3. hyperparameters tuning\n",
    "4. fitting the final model\n",
    "5. predictions on the test set"
   ]
  },
  {
   "cell_type": "code",
   "execution_count": null,
   "id": "taken-amplifier",
   "metadata": {},
   "outputs": [],
   "source": [
    "## code here\n"
   ]
  },
  {
   "cell_type": "code",
   "execution_count": null,
   "id": "located-gasoline",
   "metadata": {},
   "outputs": [],
   "source": [
    "## code here"
   ]
  }
 ],
 "metadata": {
  "kernelspec": {
   "display_name": "R",
   "language": "R",
   "name": "ir"
  },
  "language_info": {
   "codemirror_mode": "r",
   "file_extension": ".r",
   "mimetype": "text/x-r-source",
   "name": "R",
   "pygments_lexer": "r",
   "version": "4.0.4"
  }
 },
 "nbformat": 4,
 "nbformat_minor": 5
}
